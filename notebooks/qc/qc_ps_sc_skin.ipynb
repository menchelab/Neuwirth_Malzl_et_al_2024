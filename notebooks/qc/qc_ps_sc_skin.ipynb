{
 "cells": [
  {
   "cell_type": "code",
   "execution_count": 3,
   "id": "smoking-essence",
   "metadata": {},
   "outputs": [],
   "source": [
    "import scanpy as sc\n",
    "import glob\n",
    "import os\n",
    "from functools import reduce\n",
    "import anndata as ad\n",
    "import matplotlib.pyplot as plt\n",
    "import numpy as np\n",
    "import seaborn as sns\n",
    "import pandas as pd\n",
    "import matplotlib as mpl\n",
    "import importlib\n",
    "from sctools import qc, plot"
   ]
  },
  {
   "cell_type": "markdown",
   "id": "0d68b13a-d78e-48f3-9c85-cedc7ed232e3",
   "metadata": {},
   "source": [
    "## Quality control of raw data"
   ]
  },
  {
   "cell_type": "code",
   "execution_count": 4,
   "id": "heated-closing",
   "metadata": {},
   "outputs": [
    {
     "data": {
      "text/plain": [
       "AnnData object with n_obs × n_vars = 422087 × 33538\n",
       "    obs: 'sample_id', 'patient_id', 'status', 'tissue', 'cell_fraction', 'doublet', 'doublet_score'"
      ]
     },
     "execution_count": 4,
     "metadata": {},
     "output_type": "execute_result"
    }
   ],
   "source": [
    "adata = sc.read_h5ad(\n",
    "    '../data/inflammatory_disease.h5ad'\n",
    ")\n",
    "# remove UC, atopic dermatitis, pbmcs and doublets\n",
    "adata = adata[\n",
    "    ~adata.obs.sample_id.str.startswith('GSM') &\n",
    "    ~adata.obs.tissue.str.startswith('blood') & \n",
    "    ~adata.obs.tissue.str.startswith('Blood') & \n",
    "    ~adata.obs.doublet &\n",
    "    ~(adata.obs.status == 'atopic eczema')\n",
    "].copy()\n",
    "adata"
   ]
  },
  {
   "cell_type": "code",
   "execution_count": 20,
   "id": "3782a6f2-c1d6-42c3-b8e7-68395b941cbb",
   "metadata": {},
   "outputs": [
    {
     "data": {
      "text/html": [
       "<div>\n",
       "<style scoped>\n",
       "    .dataframe tbody tr th:only-of-type {\n",
       "        vertical-align: middle;\n",
       "    }\n",
       "\n",
       "    .dataframe tbody tr th {\n",
       "        vertical-align: top;\n",
       "    }\n",
       "\n",
       "    .dataframe thead th {\n",
       "        text-align: right;\n",
       "    }\n",
       "</style>\n",
       "<table border=\"1\" class=\"dataframe\">\n",
       "  <thead>\n",
       "    <tr style=\"text-align: right;\">\n",
       "      <th></th>\n",
       "      <th>sample_id</th>\n",
       "      <th>patient_id</th>\n",
       "      <th>status</th>\n",
       "      <th>tissue</th>\n",
       "      <th>cell_fraction</th>\n",
       "      <th>doublet</th>\n",
       "      <th>doublet_score</th>\n",
       "    </tr>\n",
       "  </thead>\n",
       "  <tbody>\n",
       "    <tr>\n",
       "      <th>AAACCTGAGACTAGAT-57</th>\n",
       "      <td>SKN8090576</td>\n",
       "      <td>P1</td>\n",
       "      <td>psoriasis</td>\n",
       "      <td>dermis</td>\n",
       "      <td>CD45+</td>\n",
       "      <td>False</td>\n",
       "      <td>1.111986</td>\n",
       "    </tr>\n",
       "    <tr>\n",
       "      <th>AAACCTGAGAGACTAT-57</th>\n",
       "      <td>SKN8090576</td>\n",
       "      <td>P1</td>\n",
       "      <td>psoriasis</td>\n",
       "      <td>dermis</td>\n",
       "      <td>CD45+</td>\n",
       "      <td>False</td>\n",
       "      <td>0.000005</td>\n",
       "    </tr>\n",
       "    <tr>\n",
       "      <th>AAACCTGAGCGCTCCA-57</th>\n",
       "      <td>SKN8090576</td>\n",
       "      <td>P1</td>\n",
       "      <td>psoriasis</td>\n",
       "      <td>dermis</td>\n",
       "      <td>CD45+</td>\n",
       "      <td>False</td>\n",
       "      <td>0.000003</td>\n",
       "    </tr>\n",
       "    <tr>\n",
       "      <th>AAACCTGAGGACCACA-57</th>\n",
       "      <td>SKN8090576</td>\n",
       "      <td>P1</td>\n",
       "      <td>psoriasis</td>\n",
       "      <td>dermis</td>\n",
       "      <td>CD45+</td>\n",
       "      <td>False</td>\n",
       "      <td>0.007664</td>\n",
       "    </tr>\n",
       "    <tr>\n",
       "      <th>AAACCTGAGGCTCAGA-57</th>\n",
       "      <td>SKN8090576</td>\n",
       "      <td>P1</td>\n",
       "      <td>psoriasis</td>\n",
       "      <td>dermis</td>\n",
       "      <td>CD45+</td>\n",
       "      <td>False</td>\n",
       "      <td>3.118231</td>\n",
       "    </tr>\n",
       "    <tr>\n",
       "      <th>...</th>\n",
       "      <td>...</td>\n",
       "      <td>...</td>\n",
       "      <td>...</td>\n",
       "      <td>...</td>\n",
       "      <td>...</td>\n",
       "      <td>...</td>\n",
       "      <td>...</td>\n",
       "    </tr>\n",
       "    <tr>\n",
       "      <th>TTTGTCATCAACCAAC-80</th>\n",
       "      <td>SKN8090607</td>\n",
       "      <td>P3</td>\n",
       "      <td>psoriasis</td>\n",
       "      <td>epidermis</td>\n",
       "      <td>CD45-</td>\n",
       "      <td>False</td>\n",
       "      <td>0.318868</td>\n",
       "    </tr>\n",
       "    <tr>\n",
       "      <th>TTTGTCATCAGAAATG-80</th>\n",
       "      <td>SKN8090607</td>\n",
       "      <td>P3</td>\n",
       "      <td>psoriasis</td>\n",
       "      <td>epidermis</td>\n",
       "      <td>CD45-</td>\n",
       "      <td>False</td>\n",
       "      <td>11.435356</td>\n",
       "    </tr>\n",
       "    <tr>\n",
       "      <th>TTTGTCATCCCACTTG-80</th>\n",
       "      <td>SKN8090607</td>\n",
       "      <td>P3</td>\n",
       "      <td>psoriasis</td>\n",
       "      <td>epidermis</td>\n",
       "      <td>CD45-</td>\n",
       "      <td>False</td>\n",
       "      <td>0.002657</td>\n",
       "    </tr>\n",
       "    <tr>\n",
       "      <th>TTTGTCATCTATCGCC-80</th>\n",
       "      <td>SKN8090607</td>\n",
       "      <td>P3</td>\n",
       "      <td>psoriasis</td>\n",
       "      <td>epidermis</td>\n",
       "      <td>CD45-</td>\n",
       "      <td>False</td>\n",
       "      <td>0.000061</td>\n",
       "    </tr>\n",
       "    <tr>\n",
       "      <th>TTTGTCATCTGGCGTG-80</th>\n",
       "      <td>SKN8090607</td>\n",
       "      <td>P3</td>\n",
       "      <td>psoriasis</td>\n",
       "      <td>epidermis</td>\n",
       "      <td>CD45-</td>\n",
       "      <td>False</td>\n",
       "      <td>0.000009</td>\n",
       "    </tr>\n",
       "  </tbody>\n",
       "</table>\n",
       "<p>144564 rows × 7 columns</p>\n",
       "</div>"
      ],
      "text/plain": [
       "                      sample_id patient_id     status     tissue  \\\n",
       "AAACCTGAGACTAGAT-57  SKN8090576         P1  psoriasis     dermis   \n",
       "AAACCTGAGAGACTAT-57  SKN8090576         P1  psoriasis     dermis   \n",
       "AAACCTGAGCGCTCCA-57  SKN8090576         P1  psoriasis     dermis   \n",
       "AAACCTGAGGACCACA-57  SKN8090576         P1  psoriasis     dermis   \n",
       "AAACCTGAGGCTCAGA-57  SKN8090576         P1  psoriasis     dermis   \n",
       "...                         ...        ...        ...        ...   \n",
       "TTTGTCATCAACCAAC-80  SKN8090607         P3  psoriasis  epidermis   \n",
       "TTTGTCATCAGAAATG-80  SKN8090607         P3  psoriasis  epidermis   \n",
       "TTTGTCATCCCACTTG-80  SKN8090607         P3  psoriasis  epidermis   \n",
       "TTTGTCATCTATCGCC-80  SKN8090607         P3  psoriasis  epidermis   \n",
       "TTTGTCATCTGGCGTG-80  SKN8090607         P3  psoriasis  epidermis   \n",
       "\n",
       "                    cell_fraction  doublet  doublet_score  \n",
       "AAACCTGAGACTAGAT-57         CD45+    False       1.111986  \n",
       "AAACCTGAGAGACTAT-57         CD45+    False       0.000005  \n",
       "AAACCTGAGCGCTCCA-57         CD45+    False       0.000003  \n",
       "AAACCTGAGGACCACA-57         CD45+    False       0.007664  \n",
       "AAACCTGAGGCTCAGA-57         CD45+    False       3.118231  \n",
       "...                           ...      ...            ...  \n",
       "TTTGTCATCAACCAAC-80         CD45-    False       0.318868  \n",
       "TTTGTCATCAGAAATG-80         CD45-    False      11.435356  \n",
       "TTTGTCATCCCACTTG-80         CD45-    False       0.002657  \n",
       "TTTGTCATCTATCGCC-80         CD45-    False       0.000061  \n",
       "TTTGTCATCTGGCGTG-80         CD45-    False       0.000009  \n",
       "\n",
       "[144564 rows x 7 columns]"
      ]
     },
     "execution_count": 20,
     "metadata": {},
     "output_type": "execute_result"
    }
   ],
   "source": [
    "adata.obs[adata.obs.status == 'psoriasis']"
   ]
  },
  {
   "cell_type": "code",
   "execution_count": 8,
   "id": "blocked-sigma",
   "metadata": {},
   "outputs": [],
   "source": [
    "qc.compute_qc_metrics(adata)"
   ]
  },
  {
   "cell_type": "code",
   "execution_count": null,
   "id": "furnished-astronomy",
   "metadata": {},
   "outputs": [],
   "source": [
    "fig = plot.qc.plot_qc(\n",
    "    adata,\n",
    "    sample_id_column = 'sample_id'\n",
    ")\n",
    "fig.set_figwidth(20)\n",
    "fig.set_figheight(adata.obs.sample_id.nunique() * 2.5)\n",
    "fig.tight_layout()"
   ]
  },
  {
   "cell_type": "code",
   "execution_count": null,
   "id": "liquid-antigua",
   "metadata": {},
   "outputs": [],
   "source": [
    "MIN_RNA_FEATURES = 750\n",
    "MAX_RNA_FEATURES = 6000\n",
    "MAX_PERCENT_MT = 15\n",
    "qc_thresholds = {\n",
    "    k: {'nFeature_RNA': (MIN_RNA_FEATURES, MAX_RNA_FEATURES), 'percent_mt': (0, MAX_PERCENT_MT), 'percent_ribo': (5, 100)} \n",
    "    for k in adata.obs.sample_id\n",
    "}\n",
    "\n",
    "try:\n",
    "    assert len(qc_thresholds) == adata.obs.sample_id.nunique()\n",
    "    \n",
    "except AssertionError:\n",
    "    print('qc_threshold does not have the same length as there are unique sample_ids! Please make sure all sample_ids are in qc_thresholds!')\n",
    "    raise AssertionError\n",
    "    \n",
    "try:\n",
    "    assert all(x in qc_thresholds for x in adata.obs.sample_id.unique())\n",
    "    \n",
    "except AssertionError:\n",
    "    print([x for x in adata.obs.sample_id.unique() if not x in qc_thresholds], 'are missing from qc_thresholds! Please check your code!')\n",
    "    raise AssertionError\n",
    "\n",
    "qc.apply_qc_thresholds(\n",
    "    adata, \n",
    "    'sample_id', \n",
    "    qc_thresholds\n",
    ")\n",
    "ncells = adata.obs.shape[0]\n",
    "nfiltered = ncells - adata.obs.qc_pass.sum()\n",
    "print(\n",
    "    f'{nfiltered} of {ncells} cells would be removed using the current qc thresholds'\n",
    ")"
   ]
  },
  {
   "cell_type": "code",
   "execution_count": null,
   "id": "configured-generic",
   "metadata": {},
   "outputs": [],
   "source": [
    "fig = plot.qc.plot_qc(\n",
    "    adata,\n",
    "    thresholds = qc_thresholds,\n",
    "    sample_id_column = 'sample_id'\n",
    ")\n",
    "fig.set_figwidth(20)\n",
    "fig.set_figheight(adata.obs.sample_id.nunique() * 2.5)\n",
    "fig.tight_layout()"
   ]
  },
  {
   "cell_type": "code",
   "execution_count": 6,
   "id": "interstate-harrison",
   "metadata": {},
   "outputs": [],
   "source": [
    "# apply qc filter\n",
    "adata = adata[adata.obs.qc_pass, :].copy()"
   ]
  },
  {
   "cell_type": "code",
   "execution_count": 13,
   "id": "composite-desperate",
   "metadata": {},
   "outputs": [
    {
     "name": "stdout",
     "output_type": "stream",
     "text": [
      "20912 of 33538 are retained requiring their expression in 100 or more cells\n"
     ]
    }
   ],
   "source": [
    "# filter genes\n",
    "nexpressed_threshold = 100\n",
    "ngenes_passed = (qc.get_nexpressed(adata) >= nexpressed_threshold).sum()\n",
    "ngenes = adata.var.shape[0]\n",
    "print(\n",
    "    f'{ngenes_passed} of {ngenes} are retained requiring their expression in {nexpressed_threshold} or more cells'\n",
    ")"
   ]
  },
  {
   "cell_type": "code",
   "execution_count": 14,
   "id": "juvenile-charter",
   "metadata": {},
   "outputs": [],
   "source": [
    "adata = adata[:, (qc.get_nexpressed(adata) >= nexpressed_threshold)].copy()"
   ]
  },
  {
   "cell_type": "code",
   "execution_count": 15,
   "id": "painted-livestock",
   "metadata": {},
   "outputs": [],
   "source": [
    "adata.write(\n",
    "    '../data/skin_inflammatory_disease.qcfiltered.h5ad'\n",
    ")"
   ]
  }
 ],
 "metadata": {
  "kernelspec": {
   "display_name": "Python [conda env:.conda-scpython]",
   "language": "python",
   "name": "conda-env-.conda-scpython-py"
  },
  "language_info": {
   "codemirror_mode": {
    "name": "ipython",
    "version": 3
   },
   "file_extension": ".py",
   "mimetype": "text/x-python",
   "name": "python",
   "nbconvert_exporter": "python",
   "pygments_lexer": "ipython3",
   "version": "3.9.4"
  }
 },
 "nbformat": 4,
 "nbformat_minor": 5
}
