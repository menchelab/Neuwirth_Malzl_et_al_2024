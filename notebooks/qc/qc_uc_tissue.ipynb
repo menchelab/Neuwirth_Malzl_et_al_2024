{
 "cells": [
  {
   "cell_type": "code",
   "execution_count": 1,
   "id": "smoking-essence",
   "metadata": {},
   "outputs": [],
   "source": [
    "import scanpy as sc\n",
    "import glob\n",
    "import os\n",
    "from functools import reduce\n",
    "import anndata as ad\n",
    "import matplotlib.pyplot as plt\n",
    "import numpy as np\n",
    "import seaborn as sns\n",
    "import pandas as pd\n",
    "import importlib\n",
    "from sctools import qc, plot"
   ]
  },
  {
   "cell_type": "markdown",
   "id": "0d68b13a-d78e-48f3-9c85-cedc7ed232e3",
   "metadata": {},
   "source": [
    "## Quality control of raw data"
   ]
  },
  {
   "cell_type": "code",
   "execution_count": 2,
   "id": "heated-closing",
   "metadata": {},
   "outputs": [
    {
     "data": {
      "text/plain": [
       "AnnData object with n_obs × n_vars = 144656 × 33538\n",
       "    obs: 'sample_id', 'patient_id', 'status', 'tissue', 'cell_fraction', 'doublet', 'doublet_score'"
      ]
     },
     "execution_count": 2,
     "metadata": {},
     "output_type": "execute_result"
    }
   ],
   "source": [
    "adata = sc.read_h5ad(\n",
    "    '../data/inflammatory_disease.h5ad'\n",
    ")\n",
    "# remove UC, atopic dermatitis, pbmcs and doublets\n",
    "adata = adata[\n",
    "    adata.obs.sample_id.str.startswith('GSM') &\n",
    "    ~adata.obs.tissue.str.startswith('PBMC')\n",
    "].copy()\n",
    "adata"
   ]
  },
  {
   "cell_type": "code",
   "execution_count": 3,
   "id": "3b2a8b9a-5b28-423e-bda6-320aaab7dd4e",
   "metadata": {},
   "outputs": [
    {
     "data": {
      "text/plain": [
       "AnnData object with n_obs × n_vars = 103334 × 33538\n",
       "    obs: 'sample_id', 'patient_id', 'status', 'tissue', 'cell_fraction', 'doublet', 'doublet_score'"
      ]
     },
     "execution_count": 3,
     "metadata": {},
     "output_type": "execute_result"
    }
   ],
   "source": [
    "adata = adata[adata.obs.tissue == 'rectum', :].copy()\n",
    "adata"
   ]
  },
  {
   "cell_type": "code",
   "execution_count": 4,
   "id": "blocked-sigma",
   "metadata": {},
   "outputs": [],
   "source": [
    "qc.compute_qc_metrics(adata)"
   ]
  },
  {
   "cell_type": "code",
   "execution_count": null,
   "id": "furnished-astronomy",
   "metadata": {},
   "outputs": [],
   "source": [
    "fig = plot.qc.plot_qc(\n",
    "    adata,\n",
    "    sample_id_column = 'sample_id'\n",
    ")\n",
    "fig.set_figwidth(20)\n",
    "fig.set_figheight(adata.obs.sample_id.nunique() * 2.5)\n",
    "fig.tight_layout()"
   ]
  },
  {
   "cell_type": "code",
   "execution_count": 24,
   "id": "liquid-antigua",
   "metadata": {},
   "outputs": [
    {
     "name": "stdout",
     "output_type": "stream",
     "text": [
      "23956 of 103334 cells would be removed using the current qc thresholds\n"
     ]
    }
   ],
   "source": [
    "MIN_RNA_FEATURES = 400\n",
    "MAX_RNA_FEATURES = 5000\n",
    "MAX_PERCENT_MT = 15\n",
    "\n",
    "qc_thresholds = {\n",
    "    k: {'nFeature_RNA': (MIN_RNA_FEATURES, MAX_RNA_FEATURES), 'percent_mt': (0, MAX_PERCENT_MT), 'percent_ribo': (5, 100)} \n",
    "    for k in adata.obs.sample_id\n",
    "}\n",
    "\n",
    "\n",
    "try:\n",
    "    assert len(qc_thresholds) == adata.obs.sample_id.nunique()\n",
    "    \n",
    "except AssertionError:\n",
    "    print('qc_threshold does not have the same length as there are unique sample_ids! Please make sure all sample_ids are in qc_thresholds!')\n",
    "    raise AssertionError\n",
    "    \n",
    "try:\n",
    "    assert all(x in qc_thresholds for x in adata.obs.sample_id.unique())\n",
    "    \n",
    "except AssertionError:\n",
    "    print([x for x in adata.obs.sample_id.unique() if not x in qc_thresholds], 'are missing from qc_thresholds! Please check your code!')\n",
    "    raise AssertionError\n",
    "\n",
    "qc.apply_qc_thresholds(\n",
    "    adata, \n",
    "    'sample_id', \n",
    "    qc_thresholds\n",
    ")\n",
    "ncells = adata.obs.shape[0]\n",
    "nfiltered = ncells - adata.obs.qc_pass.sum()\n",
    "print(\n",
    "    f'{nfiltered} of {ncells} cells would be removed using the current qc thresholds'\n",
    ")"
   ]
  },
  {
   "cell_type": "code",
   "execution_count": 25,
   "id": "configured-generic",
   "metadata": {},
   "outputs": [],
   "source": [
    "fig = plot.qc.plot_qc(\n",
    "    adata,\n",
    "    thresholds = qc_thresholds,\n",
    "    sample_id_column = 'sample_id'\n",
    ")\n",
    "fig.set_figwidth(20)\n",
    "fig.set_figheight(adata.obs.sample_id.nunique() * 2.5)\n",
    "fig.tight_layout()"
   ]
  },
  {
   "cell_type": "code",
   "execution_count": 26,
   "id": "interstate-harrison",
   "metadata": {},
   "outputs": [],
   "source": [
    "# apply qc filter\n",
    "adata = adata[adata.obs.qc_pass, :].copy()"
   ]
  },
  {
   "cell_type": "code",
   "execution_count": 30,
   "id": "composite-desperate",
   "metadata": {},
   "outputs": [
    {
     "name": "stdout",
     "output_type": "stream",
     "text": [
      "18436 of 33538 are retained requiring their expression in 10 or more cells\n"
     ]
    }
   ],
   "source": [
    "# filter genes\n",
    "nexpressed_threshold = 10\n",
    "ngenes_passed = (qc.get_nexpressed(adata) >= nexpressed_threshold).sum()\n",
    "ngenes = adata.var.shape[0]\n",
    "print(\n",
    "    f'{ngenes_passed} of {ngenes} are retained requiring their expression in {nexpressed_threshold} or more cells'\n",
    ")"
   ]
  },
  {
   "cell_type": "code",
   "execution_count": 31,
   "id": "juvenile-charter",
   "metadata": {},
   "outputs": [],
   "source": [
    "adata = adata[:, (qc.get_nexpressed(adata) >= nexpressed_threshold)].copy()"
   ]
  },
  {
   "cell_type": "code",
   "execution_count": 32,
   "id": "painted-livestock",
   "metadata": {},
   "outputs": [],
   "source": [
    "adata.write(\n",
    "    '../data/tissue_ulcerative_colitis.qcfiltered.h5ad'\n",
    ")"
   ]
  }
 ],
 "metadata": {
  "kernelspec": {
   "display_name": "Python [conda env:.conda-scpython]",
   "language": "python",
   "name": "conda-env-.conda-scpython-py"
  },
  "language_info": {
   "codemirror_mode": {
    "name": "ipython",
    "version": 3
   },
   "file_extension": ".py",
   "mimetype": "text/x-python",
   "name": "python",
   "nbconvert_exporter": "python",
   "pygments_lexer": "ipython3",
   "version": "3.9.4"
  }
 },
 "nbformat": 4,
 "nbformat_minor": 5
}
