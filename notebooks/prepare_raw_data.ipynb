{
 "cells": [
  {
   "cell_type": "markdown",
   "id": "706c5177-b4a4-477a-b573-d5553904966b",
   "metadata": {},
   "source": [
    "# Merging datasets into a single h5ad file"
   ]
  },
  {
   "cell_type": "code",
   "execution_count": 1,
   "id": "af838e40-2887-42ea-8a28-f042cbf9f745",
   "metadata": {},
   "outputs": [],
   "source": [
    "import scanpy as sc\n",
    "import glob\n",
    "import os\n",
    "import anndata as ad\n",
    "import matplotlib.pyplot as plt\n",
    "import numpy as np\n",
    "import seaborn as sns\n",
    "import pandas as pd\n",
    "from scipy.io import mmread\n",
    "import doubletdetection\n",
    "import gzip\n",
    "\n",
    "def read_sc_data(\n",
    "    counts_file, \n",
    "    features_file,\n",
    "    metadata_file\n",
    "):\n",
    "    data_dict = {}\n",
    "    for key, filename in zip(\n",
    "        ['counts', 'features', 'metadata'],\n",
    "        [counts_file, features_file, metadata_file]\n",
    "    ):\n",
    "        if filename.endswith('gz'):\n",
    "            open_file = lambda x: gzip.open(x, 'rt')\n",
    "            \n",
    "        else: \n",
    "            open_file = lambda x: open(x, 'r')\n",
    "            \n",
    "        with open_file(filename) as file:\n",
    "            if key == 'counts':\n",
    "                # transpose due to the way the data was exported to comply with Seurat\n",
    "                # see also convert_to_raw.ipynb\n",
    "                data = mmread(file).T.tocsr()\n",
    "                \n",
    "            elif key == 'metadata':\n",
    "                data = pd.read_csv(\n",
    "                    file,\n",
    "                    sep = '\\t',\n",
    "                    index_col = 0\n",
    "                )\n",
    "            \n",
    "            else:\n",
    "                data = pd.DataFrame(\n",
    "                    index = file.read().rstrip().split()\n",
    "                )\n",
    "            \n",
    "        data_dict[key] = data\n",
    "\n",
    "    adata = ad.AnnData(\n",
    "        X = data_dict['counts'],\n",
    "        obs = data_dict['metadata'],\n",
    "        var = data_dict['features'],\n",
    "        dtype = np.int64\n",
    "    )\n",
    "    return adata\n",
    "\n",
    "def detect_doublets(sample_adata, n_jobs = 1, n_iters = 20, random_state = 0, **kwargs):\n",
    "    sc.pp.filter_genes(\n",
    "        sample_adata, \n",
    "        min_cells = 1\n",
    "    )\n",
    "    \n",
    "    clf = doubletdetection.BoostClassifier(\n",
    "        n_iters = n_iters,\n",
    "        clustering_algorithm = \"louvain\",\n",
    "        standard_scaling = True,\n",
    "        pseudocount = 0.1,\n",
    "        n_jobs = n_jobs,\n",
    "        random_state = random_state,\n",
    "        verbose = False\n",
    "    )\n",
    "    doublet = clf.fit(sample_adata.X).predict(**kwargs)\n",
    "    doublet_frame = pd.DataFrame(\n",
    "        {\n",
    "            'doublet': doublet,\n",
    "            'doublet_score': clf.doublet_score()\n",
    "        },\n",
    "        index = sample_adata.obs.index\n",
    "    )\n",
    "    print(\n",
    "        '{}: predicted {} / {} cells as doublets'.format(\n",
    "            sample_id,\n",
    "            int(doublet.sum()),\n",
    "            len(doublet)\n",
    "        )\n",
    "    )\n",
    "    del clf, sample_adata\n",
    "    \n",
    "    return doublet_frame, int(doublet.sum()), len(doublet)"
   ]
  },
  {
   "cell_type": "code",
   "execution_count": null,
   "id": "f043a558-5429-437e-944e-08269d7a03fa",
   "metadata": {},
   "outputs": [],
   "source": [
    "sirolimus_trial_data = sc.read_h5ad(\n",
    "    '../raw/srcx_sirolimus.h5ad',\n",
    ")\n",
    "sirolimus_trial_baseline = sirolimus_trial_data[sirolimus_trial_data.obs.timepoint == 'baseline_general'].copy()\n",
    "sirolimus_trial_baseline.obs.drop(\n",
    "    ['timepoint', 'visit_id'],\n",
    "    axis = 'columns',\n",
    "    inplace = True\n",
    ")\n",
    "sirolimus_trial_baseline.obs['status'] = 'sarcoidosis'\n",
    "sirolimus_trial_baseline.obs['cell_fraction'] = 'None'\n",
    "sirolimus_trial_baseline"
   ]
  },
  {
   "cell_type": "code",
   "execution_count": null,
   "id": "0bc576b1-8471-4ada-83a2-a1e356c66bc2",
   "metadata": {},
   "outputs": [],
   "source": [
    "sirolimus_missing_baseline = sc.read_h5ad(\n",
    "    '../raw/srcx_missing_baseline_samples.h5ad'\n",
    ")\n",
    "sirolimus_missing_baseline.obs.drop(\n",
    "    ['visit_id'],\n",
    "    axis = 'columns',\n",
    "    inplace = True\n",
    ")\n",
    "sirolimus_missing_baseline.obs['status'] = 'sarcoidosis'\n",
    "sirolimus_missing_baseline.obs['cell_fraction'] = 'None'\n",
    "sirolimus_missing_baseline"
   ]
  },
  {
   "cell_type": "code",
   "execution_count": null,
   "id": "48eb5c87-63d0-4a7a-a567-f99307b9c53a",
   "metadata": {},
   "outputs": [],
   "source": [
    "psoriasis = sc.read_10x_h5(\n",
    "    '../raw/ps_cellranger.filtered.h5'\n",
    ")\n",
    "metadata = pd.read_csv(\n",
    "    '../raw/ps_cellranger.metadata.tsv',\n",
    "    sep='\\t',\n",
    "    index_col=0\n",
    ")\n",
    "psoriasis.obs = psoriasis.obs.merge(\n",
    "    metadata,\n",
    "    left_index=True,\n",
    "    right_index=True,\n",
    "    how='left'\n",
    ")\n",
    "psoriasis"
   ]
  },
  {
   "cell_type": "code",
   "execution_count": null,
   "id": "ec3f019f-d350-4001-9462-9376abb9c28d",
   "metadata": {},
   "outputs": [],
   "source": [
    "psoriasis.obs.rename(\n",
    "    columns = {\n",
    "        'Status': 'status',\n",
    "        'Tissue': 'tissue',\n",
    "        'Cell_fraction': 'cell_fraction'\n",
    "    },\n",
    "    inplace = True\n",
    ")\n",
    "psoriasis.var_names_make_unique()\n",
    "psoriasis"
   ]
  },
  {
   "cell_type": "code",
   "execution_count": null,
   "id": "9f674b08-53da-4d0c-85dd-b0795d19073c",
   "metadata": {},
   "outputs": [],
   "source": [
    "hiv = sc.read_h5ad(\n",
    "    '../raw/hiv.h5ad'\n",
    ")\n",
    "hiv = hiv[hiv.obs.num_features == 1].copy()\n",
    "hiv.obs.drop(\n",
    "    ['num_features', 'num_umis'],\n",
    "    axis = 'columns',\n",
    "    inplace = True\n",
    ")\n",
    "hiv.obs.rename(\n",
    "    columns = {\n",
    "        'feature_call': 'tissue'\n",
    "    },\n",
    "    inplace = True\n",
    ")\n",
    "hiv.obs['status'] = 'normal'\n",
    "hiv.obs['cell_fraction'] = 'None'\n",
    "hiv.var.index = [var_name for var_name in hiv.var.gene_name.values]\n",
    "hiv.obs.loc[:, 'sample_id'] = hiv.obs[['sample_id', 'tissue']].apply(\n",
    "    lambda x: '_'.join(x.to_list()),\n",
    "    axis = 1\n",
    ")\n",
    "hiv.var_names_make_unique()\n",
    "hiv"
   ]
  },
  {
   "cell_type": "code",
   "execution_count": null,
   "id": "6d4a1c9b-bdc5-4aa1-aedc-1ae3624c463e",
   "metadata": {},
   "outputs": [],
   "source": [
    "# remove hiv samples \n",
    "hiv = hiv[hiv.obs.patient_id.isin(['SSHIV35_1', 'SSHIV35_2', 'SSHIV35_4'])].copy()\n",
    "hiv"
   ]
  },
  {
   "cell_type": "code",
   "execution_count": null,
   "id": "251cbe66-ec47-4ac9-8eba-c18a70f2beeb",
   "metadata": {},
   "outputs": [],
   "source": [
    "ps_pbmc = sc.read_h5ad(\n",
    "    '../raw/ps_pbmc.h5ad'\n",
    ")\n",
    "ps_pbmc = ps_pbmc[ps_pbmc.obs.num_features == 1].copy()\n",
    "ps_pbmc.obs.drop(\n",
    "    ['num_umis', 'num_features'],\n",
    "    axis = 'columns',\n",
    "    inplace = True\n",
    ")\n",
    "ps_pbmc.obs.rename(\n",
    "    columns = {\n",
    "        'feature_call': 'sample_id'\n",
    "    },\n",
    "    inplace = True\n",
    ")\n",
    "ps_pbmc.obs['status'] = 'psoriasis'\n",
    "ps_pbmc.obs['tissue'] = 'blood'\n",
    "ps_pbmc.obs['patient_id'] = ps_pbmc.obs.sample_id\n",
    "ps_pbmc.obs['cell_fraction'] = 'None'\n",
    "ps_pbmc.var.index = [var_name for var_name in ps_pbmc.var.gene_name]\n",
    "ps_pbmc.var_names_make_unique()\n",
    "ps_pbmc"
   ]
  },
  {
   "cell_type": "code",
   "execution_count": null,
   "id": "fbfb8a52-cdb2-4438-8586-43cd38523acb",
   "metadata": {},
   "outputs": [],
   "source": [
    "uc = sc.read_10x_h5(\n",
    "    '../raw/uc_cellranger.filtered.h5'\n",
    ")\n",
    "metadata = pd.read_csv(\n",
    "    '../raw/uc_cellranger.metadata.tsv',\n",
    "    sep='\\t',\n",
    "    index_col=0\n",
    ")\n",
    "uc.obs = uc.obs.merge(\n",
    "    metadata,\n",
    "    left_index=True,\n",
    "    right_index=True,\n",
    "    how='left'\n",
    ")\n",
    "uc.var_names_make_unique()\n",
    "uc"
   ]
  },
  {
   "cell_type": "code",
   "execution_count": null,
   "id": "e5b894ad-47d6-4623-97da-07fae9642ba1",
   "metadata": {},
   "outputs": [],
   "source": [
    "uc.obs.sample_id.unique()"
   ]
  },
  {
   "cell_type": "code",
   "execution_count": null,
   "id": "20f2e6bf-630f-4059-b37f-3f00328d6d73",
   "metadata": {},
   "outputs": [],
   "source": [
    "map_string = '''\n",
    "    GSM3576396\\tC9_R_10x_scRNA\n",
    "    GSM3576397\\tC12_R_10x_scRNA\n",
    "    GSM3576398\\tC16_R_10x_scRNA\n",
    "    GSM3576399\\tU4_R_10x_scRNA\n",
    "    GSM3576400\\tU5_R_10x_scRNA\n",
    "    GSM3576401\\tU34_R_10x_scRNA\n",
    "    GSM3576402\\tU35_R_10x_scRNA\n",
    "    GSM3576403\\tU41_R_10x_scRNA\n",
    "    GSM3576404\\tU44_R_10x_scRNA\n",
    "    GSM3576405\\tU45_R_10x_scRNA\n",
    "    GSM3576406\\tC17_R_10x_scRNA\n",
    "    GSM3576407\\tC18_R_10x_scRNA\n",
    "    GSM3576408\\tC19_R_10x_scRNA\n",
    "    GSM3576409\\tC21_R_10x_scRNA\n",
    "    GSM3576410\\tC30_R_10x_scRNA\n",
    "    GSM3576411\\tC12_PBMC_10x_scRNA\n",
    "    GSM3576412\\tC16_PBMC_10x_scRNA\n",
    "    GSM3576413\\tU4_PBMC_10x_scRNA\n",
    "    GSM3576414\\tU5_PBMC_10x_scRNA\n",
    "    GSM3576415\\tU34_PBMC_10x_scRNA\n",
    "    GSM3576416\\tU35_PBMC_10x_scRNA\n",
    "    GSM3576417\\tU41_PBMC_10x_scRNA\n",
    "    GSM3576418\\tU44_PBMC_10x_scRNA\n",
    "    GSM3576419\\tU45_PBMC_10x_scRNA\n",
    "    GSM3576420\\tC17_PBMC_10x_scRNA\n",
    "    GSM3576421\\tC18_PBMC_10x_scRNA\n",
    "    GSM3576422\\tC19_PBMC_10x_scRNA\n",
    "    GSM3576423\\tC21_PBMC_10x_scRNA\n",
    "    GSM3576424\\tC30_PBMC_10x_scRNA\n",
    "    GSM3576425\\tC33_PBMC_10x_scRNA\n",
    "    GSM3576426\\tC17_I_10x_scRNA\n",
    "    GSM3576427\\tC18_I_10x_scRNA\n",
    "    GSM3576428\\tC19_I_10x_scRNA\n",
    "    GSM3576429\\tC21_I_10x_scRNA\n",
    "    GSM3576430\\tC30_I_10x_scRNA\n",
    "    GSM3576431\\tC33_I_10x_scRNA\n",
    "'''\n",
    "\n",
    "gsm_to_patient_id = {}\n",
    "for sample_string in map_string.split('\\n'):\n",
    "    if not sample_string:\n",
    "        continue\n",
    "        \n",
    "    sample_id, patient_string = sample_string.strip().split('\\t')\n",
    "    patient_id = patient_string.split('_')[0]\n",
    "    gsm_to_patient_id[sample_id] = patient_id\n",
    "\n",
    "gsm_to_patient_id"
   ]
  },
  {
   "cell_type": "code",
   "execution_count": null,
   "id": "bf47d3d3-8615-4a27-9389-4c55d0173fcc",
   "metadata": {},
   "outputs": [],
   "source": [
    "uc.obs.rename(\n",
    "    columns = {\n",
    "        'Status': 'status',\n",
    "        'Tissue': 'tissue'\n",
    "    },\n",
    "    inplace = True\n",
    ")\n",
    "uc.obs['patient_id'] = uc.obs.sample_id.apply(\n",
    "    lambda x: gsm_to_patient_id[x]\n",
    ")\n",
    "uc.obs['cell_fraction'] = 'None'\n",
    "uc"
   ]
  },
  {
   "cell_type": "code",
   "execution_count": null,
   "id": "aa80804b-0657-4439-ad51-332c7a8dce99",
   "metadata": {},
   "outputs": [],
   "source": [
    "adata = ad.concat(\n",
    "    [\n",
    "        psoriasis,\n",
    "        ps_pbmc,\n",
    "        hiv,\n",
    "        sirolimus_missing_baseline,\n",
    "        sirolimus_trial_baseline,\n",
    "        uc\n",
    "    ]\n",
    ")\n",
    "adata.obs_names_make_unique()\n",
    "adata"
   ]
  },
  {
   "cell_type": "code",
   "execution_count": null,
   "id": "0d443087-1f39-42de-8d00-13584f889250",
   "metadata": {},
   "outputs": [],
   "source": [
    "# apparently this can't be run in the background (aka starting and closing the window)\n",
    "# thus you have to keep it open until it finishes (suspect the loading bar to be the culprit)\n",
    "\n",
    "doublet_frames, doublet_counts, cell_counts, labels = [], [], [], []\n",
    "for sample_id in adata.obs.sample_id.unique():    \n",
    "    print(sample_id)\n",
    "    sample_adata = adata[adata.obs.sample_id == sample_id].copy()\n",
    "    \n",
    "    if sample_adata.shape[0] < 30:\n",
    "        ndoublets, ncells = 0, sample_adata.shape[0]\n",
    "        index = sample_adata.obs.index\n",
    "        doublet_frame = pd.DataFrame(\n",
    "            {\n",
    "                'doublet': [False for i in index],\n",
    "                'doublet_score': [0 for i in index]\n",
    "            },\n",
    "            index = index\n",
    "        )\n",
    "        \n",
    "    else:\n",
    "        doublet_frame, ndoublets, ncells = detect_doublets(\n",
    "            sample_adata, \n",
    "            n_jobs = 1,\n",
    "            n_iters = 20,\n",
    "            random_state = 18247,\n",
    "            voter_thresh = 0.5\n",
    "        )\n",
    "        \n",
    "    for val, container in zip([doublet_frame, ndoublets, ncells, sample_id], [doublet_frames, doublet_counts, cell_counts, labels]):\n",
    "        container.append(val)"
   ]
  },
  {
   "cell_type": "code",
   "execution_count": null,
   "id": "01ea59f4-f900-4c78-b13c-3fb4a5b1c042",
   "metadata": {},
   "outputs": [],
   "source": [
    "df = pd.concat(doublet_frames)\n",
    "df.loc[:, 'doublet'] = df.doublet.astype(bool)\n",
    "df"
   ]
  },
  {
   "cell_type": "code",
   "execution_count": null,
   "id": "8a528f37-3c75-40af-bbfc-e445a050f4c2",
   "metadata": {},
   "outputs": [],
   "source": [
    "adata.obs = adata.obs.merge(\n",
    "    df,\n",
    "    right_index=True,\n",
    "    left_index=True,\n",
    "    how='left'\n",
    ")\n",
    "adata"
   ]
  },
  {
   "cell_type": "code",
   "execution_count": null,
   "id": "576922ce-8c1e-4098-8ea0-1ddf4b71dedd",
   "metadata": {},
   "outputs": [],
   "source": [
    "fig, ax = plt.subplots()\n",
    "labels = [\n",
    "    label + f' ({ndoublets} / {ncells})' for ndoublet, ncells, label in zip(doublet_counts, cell_counts, labels)\n",
    "]\n",
    "ax.bar(\n",
    "    range(1, len(labels) + 1),\n",
    "    np.array(doublet_counts) / np.array(cell_counts) * 100,\n",
    "    tick_label = labels\n",
    ")\n",
    "ax.set_ylabel('percent doublets')\n",
    "fig.set_figheight(10)\n",
    "fig.set_figwidth(20)\n",
    "fig.tight_layout()"
   ]
  },
  {
   "cell_type": "code",
   "execution_count": null,
   "id": "2464ba20-6afc-47e0-a0d3-cd0ca4ab3314",
   "metadata": {},
   "outputs": [],
   "source": [
    "adata.write_h5ad(\n",
    "    '../data/inflammatory_disease.h5ad'\n",
    ")"
   ]
  },
  {
   "cell_type": "code",
   "execution_count": 2,
   "id": "f2b224e8-6745-4212-98e1-4d42dc44eaa1",
   "metadata": {},
   "outputs": [
    {
     "data": {
      "text/plain": [
       "AnnData object with n_obs × n_vars = 927252 × 33538\n",
       "    obs: 'sample_id', 'patient_id', 'status', 'tissue', 'cell_fraction', 'doublet', 'doublet_score'"
      ]
     },
     "execution_count": 2,
     "metadata": {},
     "output_type": "execute_result"
    }
   ],
   "source": [
    "adata = sc.read_h5ad(\n",
    "    '../data/inflammatory_disease.h5ad'\n",
    ")\n",
    "adata"
   ]
  },
  {
   "cell_type": "code",
   "execution_count": 4,
   "id": "2803e564-5bac-424d-8d77-c8b93e3f3c7c",
   "metadata": {},
   "outputs": [
    {
     "data": {
      "text/plain": [
       "['dermis', 'epidermis', 'blood', 'skin', 'Blood', 'Skin_L', 'Skin_NL', 'PBMC', 'rectum', 'ileum']\n",
       "Categories (10, object): ['Blood', 'PBMC', 'Skin_L', 'Skin_NL', ..., 'epidermis', 'ileum', 'rectum', 'skin']"
      ]
     },
     "execution_count": 4,
     "metadata": {},
     "output_type": "execute_result"
    }
   ],
   "source": [
    "adata.obs.tissue.unique()"
   ]
  },
  {
   "cell_type": "code",
   "execution_count": 7,
   "id": "b779b94a-d4bc-4cd7-ab5e-5bf960683106",
   "metadata": {},
   "outputs": [
    {
     "data": {
      "text/plain": [
       "['normal', 'atopic eczema', 'psoriasis', 'sarcoidosis', 'UC', 'control']\n",
       "Categories (6, object): ['UC', 'atopic eczema', 'control', 'normal', 'psoriasis', 'sarcoidosis']"
      ]
     },
     "execution_count": 7,
     "metadata": {},
     "output_type": "execute_result"
    }
   ],
   "source": [
    "adata.obs.status.unique()"
   ]
  },
  {
   "cell_type": "code",
   "execution_count": 10,
   "id": "54c0dea2-3502-4101-b7de-66bc446adc88",
   "metadata": {},
   "outputs": [],
   "source": [
    "adata[adata.obs.status.isin(['normal', 'control']) & adata.obs.tissue.isin(['blood', 'Blood', 'PBMC'])].write_h5ad(\n",
    "    '../data/blood.control.h5ad'\n",
    ")"
   ]
  },
  {
   "cell_type": "code",
   "execution_count": null,
   "id": "53049fe1-7604-438f-a629-89bed3767466",
   "metadata": {},
   "outputs": [],
   "source": []
  }
 ],
 "metadata": {
  "kernelspec": {
   "display_name": "Python [conda env:.conda-scpython]",
   "language": "python",
   "name": "conda-env-.conda-scpython-py"
  },
  "language_info": {
   "codemirror_mode": {
    "name": "ipython",
    "version": 3
   },
   "file_extension": ".py",
   "mimetype": "text/x-python",
   "name": "python",
   "nbconvert_exporter": "python",
   "pygments_lexer": "ipython3",
   "version": "3.9.4"
  }
 },
 "nbformat": 4,
 "nbformat_minor": 5
}
