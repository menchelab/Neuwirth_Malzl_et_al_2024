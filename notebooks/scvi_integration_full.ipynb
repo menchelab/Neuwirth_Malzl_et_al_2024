{
 "cells": [
  {
   "cell_type": "code",
   "execution_count": 1,
   "id": "smoking-essence",
   "metadata": {},
   "outputs": [
    {
     "name": "stderr",
     "output_type": "stream",
     "text": [
      "Global seed set to 0\n"
     ]
    }
   ],
   "source": [
    "%matplotlib inline\n",
    "import scanpy as sc\n",
    "import scvi\n",
    "import numpy as np\n",
    "from sctools import integrate, plot"
   ]
  },
  {
   "cell_type": "markdown",
   "id": "0eb97813-9216-48c7-a16a-fbdc9085ed6e",
   "metadata": {},
   "source": [
    "## Data integration using SCVI\n",
    "This step aims to harmonize the data and remove batch effects"
   ]
  },
  {
   "cell_type": "code",
   "execution_count": 2,
   "id": "suburban-infrastructure",
   "metadata": {},
   "outputs": [
    {
     "data": {
      "text/plain": [
       "{'tissue.scps': AnnData object with n_obs × n_vars = 332546 × 20912\n",
       "     obs: 'sample_id', 'patient_id', 'status', 'tissue', 'cell_fraction', 'doublet', 'doublet_score', 'nFeature_RNA', 'nCount_RNA', 'percent_mt', 'percent_ribo', 'qc_pass',\n",
       " 'tissue.ad': AnnData object with n_obs × n_vars = 318976 × 21750\n",
       "     obs: 'sample_id', 'patient_id', 'status', 'tissue', 'cell_fraction', 'doublet', 'doublet_score', 'nFeature_RNA', 'nCount_RNA', 'percent_mt', 'percent_ribo', 'qc_pass',\n",
       " 'tissue.uc': AnnData object with n_obs × n_vars = 79378 × 18436\n",
       "     obs: 'sample_id', 'patient_id', 'status', 'tissue', 'cell_fraction', 'doublet', 'doublet_score', 'nFeature_RNA', 'nCount_RNA', 'percent_mt', 'percent_ribo', 'qc_pass',\n",
       " 'pbmc.scps': AnnData object with n_obs × n_vars = 40148 × 15998\n",
       "     obs: 'sample_id', 'patient_id', 'status', 'tissue', 'cell_fraction', 'doublet', 'doublet_score', 'nFeature_RNA', 'nCount_RNA', 'percent_mt', 'percent_ribo', 'qc_pass'}"
      ]
     },
     "execution_count": 2,
     "metadata": {},
     "output_type": "execute_result"
    }
   ],
   "source": [
    "prefixes = ['tissue.scps', 'tissue.ad', 'tissue.uc', 'pbmc.scps']\n",
    "adatas = {\n",
    "    k: sc.read_h5ad(f'../data/{k}.qcfiltered.h5ad') for k in prefixes\n",
    "}\n",
    "\n",
    "adatas"
   ]
  },
  {
   "cell_type": "code",
   "execution_count": 13,
   "id": "a55eca99-b6a2-4a2d-91d4-2e08a0f3f773",
   "metadata": {},
   "outputs": [],
   "source": [
    "adata = adatas['tissue.scps']\n",
    "cells_per_patient = adata.obs.groupby(['status', 'patient_id']).count()\n",
    "cell_count_table = cells_per_modality.drop(\n",
    "    index = cells_per_modality.index[~(cells_per_modality > 0).all(axis = 1)]\n",
    ")\n",
    "cell_count_table[['sample_id']].to_csv('../data/cell_counts_per_patient.csv')"
   ]
  },
  {
   "cell_type": "code",
   "execution_count": 3,
   "id": "amateur-rabbit",
   "metadata": {},
   "outputs": [
    {
     "name": "stdout",
     "output_type": "stream",
     "text": [
      "tissue.scps\n"
     ]
    },
    {
     "name": "stderr",
     "output_type": "stream",
     "text": [
      "/users/daniel.malzl/.local/lib/python3.9/site-packages/scanpy/preprocessing/_highly_variable_genes.py:64: UserWarning: `flavor='seurat_v3'` expects raw count data, but non-integers were found.\n",
      "  warnings.warn(\n",
      "/users/daniel.malzl/.local/lib/python3.9/site-packages/umap/distances.py:1063: NumbaDeprecationWarning: The 'nopython' keyword argument was not supplied to the 'numba.jit' decorator. The implicit default value for this argument is currently False, but it will be changed to True in Numba 0.59.0. See https://numba.readthedocs.io/en/stable/reference/deprecation.html#deprecation-of-object-mode-fall-back-behaviour-when-using-jit for details.\n",
      "  @numba.jit()\n",
      "/users/daniel.malzl/.local/lib/python3.9/site-packages/umap/distances.py:1071: NumbaDeprecationWarning: The 'nopython' keyword argument was not supplied to the 'numba.jit' decorator. The implicit default value for this argument is currently False, but it will be changed to True in Numba 0.59.0. See https://numba.readthedocs.io/en/stable/reference/deprecation.html#deprecation-of-object-mode-fall-back-behaviour-when-using-jit for details.\n",
      "  @numba.jit()\n",
      "/users/daniel.malzl/.local/lib/python3.9/site-packages/umap/distances.py:1086: NumbaDeprecationWarning: The 'nopython' keyword argument was not supplied to the 'numba.jit' decorator. The implicit default value for this argument is currently False, but it will be changed to True in Numba 0.59.0. See https://numba.readthedocs.io/en/stable/reference/deprecation.html#deprecation-of-object-mode-fall-back-behaviour-when-using-jit for details.\n",
      "  @numba.jit()\n",
      "/users/daniel.malzl/.local/lib/python3.9/site-packages/umap/umap_.py:660: NumbaDeprecationWarning: The 'nopython' keyword argument was not supplied to the 'numba.jit' decorator. The implicit default value for this argument is currently False, but it will be changed to True in Numba 0.59.0. See https://numba.readthedocs.io/en/stable/reference/deprecation.html#deprecation-of-object-mode-fall-back-behaviour-when-using-jit for details.\n",
      "  @numba.jit()\n",
      "/users/daniel.malzl/.local/lib/python3.9/site-packages/scanpy/plotting/_tools/scatterplots.py:394: UserWarning: No data for colormapping provided via 'c'. Parameters 'cmap' will be ignored\n",
      "  cax = scatter(\n",
      "/users/daniel.malzl/.local/lib/python3.9/site-packages/scanpy/plotting/_tools/scatterplots.py:394: UserWarning: No data for colormapping provided via 'c'. Parameters 'cmap' will be ignored\n",
      "  cax = scatter(\n"
     ]
    },
    {
     "name": "stdout",
     "output_type": "stream",
     "text": [
      "tissue.ad\n"
     ]
    },
    {
     "name": "stderr",
     "output_type": "stream",
     "text": [
      "/users/daniel.malzl/.local/lib/python3.9/site-packages/scanpy/preprocessing/_highly_variable_genes.py:64: UserWarning: `flavor='seurat_v3'` expects raw count data, but non-integers were found.\n",
      "  warnings.warn(\n",
      "IOStream.flush timed out\n",
      "IOStream.flush timed out\n",
      "IOStream.flush timed out\n",
      "IOStream.flush timed out\n",
      "IOStream.flush timed out\n",
      "IOStream.flush timed out\n",
      "IOStream.flush timed out\n",
      "IOStream.flush timed out\n",
      "/users/daniel.malzl/.local/lib/python3.9/site-packages/scanpy/plotting/_tools/scatterplots.py:394: UserWarning: No data for colormapping provided via 'c'. Parameters 'cmap' will be ignored\n",
      "  cax = scatter(\n",
      "/users/daniel.malzl/.local/lib/python3.9/site-packages/scanpy/plotting/_tools/scatterplots.py:394: UserWarning: No data for colormapping provided via 'c'. Parameters 'cmap' will be ignored\n",
      "  cax = scatter(\n"
     ]
    },
    {
     "name": "stdout",
     "output_type": "stream",
     "text": [
      "tissue.uc\n"
     ]
    },
    {
     "name": "stderr",
     "output_type": "stream",
     "text": [
      "/users/daniel.malzl/.local/lib/python3.9/site-packages/scanpy/preprocessing/_highly_variable_genes.py:64: UserWarning: `flavor='seurat_v3'` expects raw count data, but non-integers were found.\n",
      "  warnings.warn(\n",
      "/users/daniel.malzl/.local/lib/python3.9/site-packages/scanpy/plotting/_tools/scatterplots.py:394: UserWarning: No data for colormapping provided via 'c'. Parameters 'cmap' will be ignored\n",
      "  cax = scatter(\n",
      "/users/daniel.malzl/.local/lib/python3.9/site-packages/scanpy/plotting/_tools/scatterplots.py:394: UserWarning: No data for colormapping provided via 'c'. Parameters 'cmap' will be ignored\n",
      "  cax = scatter(\n"
     ]
    },
    {
     "name": "stdout",
     "output_type": "stream",
     "text": [
      "pbmc.scps\n"
     ]
    },
    {
     "name": "stderr",
     "output_type": "stream",
     "text": [
      "/users/daniel.malzl/.local/lib/python3.9/site-packages/scanpy/preprocessing/_highly_variable_genes.py:64: UserWarning: `flavor='seurat_v3'` expects raw count data, but non-integers were found.\n",
      "  warnings.warn(\n",
      "/users/daniel.malzl/.local/lib/python3.9/site-packages/scanpy/plotting/_tools/scatterplots.py:394: UserWarning: No data for colormapping provided via 'c'. Parameters 'cmap' will be ignored\n",
      "  cax = scatter(\n",
      "/users/daniel.malzl/.local/lib/python3.9/site-packages/scanpy/plotting/_tools/scatterplots.py:394: UserWarning: No data for colormapping provided via 'c'. Parameters 'cmap' will be ignored\n",
      "  cax = scatter(\n"
     ]
    }
   ],
   "source": [
    "# visualize raw data\n",
    "for k, adata in adatas.items():\n",
    "    print(k)\n",
    "    plot.integrate.raw_data_umap(\n",
    "        adata,\n",
    "        ['status', 'tissue', 'FOXP3'],\n",
    "        size = 10,\n",
    "        vmax = 0.5,\n",
    "        savefile = f'../plots/{k}.raw.umap.png'\n",
    "    )"
   ]
  },
  {
   "cell_type": "code",
   "execution_count": null,
   "id": "younger-torture",
   "metadata": {},
   "outputs": [],
   "source": [
    "integration_params = {\n",
    "    k: {'kwargs': dict()} for k in adatas.keys()\n",
    "}\n",
    "\n",
    "integration_results = {}\n",
    "for key, adata in adatas.items():\n",
    "    print(key)\n",
    "    params = integration_params[key]\n",
    "    integration_results[key] = integrate.integrate_data_scvi(\n",
    "        adata[params['subset'], :].copy(),\n",
    "        'sample_id',\n",
    "        train_size = 1,\n",
    "        **params['kwargs']\n",
    "    )\n",
    "\n",
    "    integration_results[key]['data'].write(\n",
    "        f'../data/{key}.integrated.h5ad'\n",
    "    )\n",
    "\n",
    "    integration_results[key]['model'].save(\n",
    "        f'../data/{key}.integration.scvi.model',\n",
    "        overwrite = True\n",
    "    )"
   ]
  },
  {
   "cell_type": "code",
   "execution_count": 2,
   "id": "sensitive-store",
   "metadata": {},
   "outputs": [
    {
     "name": "stderr",
     "output_type": "stream",
     "text": [
      "/users/daniel.malzl/.conda/envs/scpython/lib/python3.9/abc.py:98: FutureWarning: SparseDataset is deprecated and will be removed in late 2024. It has been replaced by the public classes CSRDataset and CSCDataset.\n",
      "\n",
      "For instance checks, use `isinstance(X, (anndata.experimental.CSRDataset, anndata.experimental.CSCDataset))` instead.\n",
      "\n",
      "For creation, use `anndata.experimental.sparse_dataset(X)` instead.\n",
      "\n",
      "  return _abc_instancecheck(cls, instance)\n"
     ]
    },
    {
     "data": {
      "text/html": [
       "<pre style=\"white-space:pre;overflow-x:auto;line-height:normal;font-family:Menlo,'DejaVu Sans Mono',consolas,'Courier New',monospace\">SCVI Model with the following params: \n",
       "n_hidden: <span style=\"color: #008080; text-decoration-color: #008080; font-weight: bold\">128</span>, n_latent: <span style=\"color: #008080; text-decoration-color: #008080; font-weight: bold\">30</span>, n_layers: <span style=\"color: #008080; text-decoration-color: #008080; font-weight: bold\">2</span>, dropout_rate: <span style=\"color: #008080; text-decoration-color: #008080; font-weight: bold\">0.1</span>, dispersion: gene, gene_likelihood: nb, \n",
       "latent_distribution: normal\n",
       "Training status: Trained\n",
       "</pre>\n"
      ],
      "text/plain": [
       "SCVI Model with the following params: \n",
       "n_hidden: \u001b[1;36m128\u001b[0m, n_latent: \u001b[1;36m30\u001b[0m, n_layers: \u001b[1;36m2\u001b[0m, dropout_rate: \u001b[1;36m0.1\u001b[0m, dispersion: gene, gene_likelihood: nb, \n",
       "latent_distribution: normal\n",
       "Training status: Trained\n"
      ]
     },
     "metadata": {},
     "output_type": "display_data"
    },
    {
     "data": {
      "text/html": [
       "<pre style=\"white-space:pre;overflow-x:auto;line-height:normal;font-family:Menlo,'DejaVu Sans Mono',consolas,'Courier New',monospace\">SCVI Model with the following params: \n",
       "n_hidden: <span style=\"color: #008080; text-decoration-color: #008080; font-weight: bold\">128</span>, n_latent: <span style=\"color: #008080; text-decoration-color: #008080; font-weight: bold\">30</span>, n_layers: <span style=\"color: #008080; text-decoration-color: #008080; font-weight: bold\">2</span>, dropout_rate: <span style=\"color: #008080; text-decoration-color: #008080; font-weight: bold\">0.1</span>, dispersion: gene, gene_likelihood: nb, \n",
       "latent_distribution: normal\n",
       "Training status: Trained\n",
       "</pre>\n"
      ],
      "text/plain": [
       "SCVI Model with the following params: \n",
       "n_hidden: \u001b[1;36m128\u001b[0m, n_latent: \u001b[1;36m30\u001b[0m, n_layers: \u001b[1;36m2\u001b[0m, dropout_rate: \u001b[1;36m0.1\u001b[0m, dispersion: gene, gene_likelihood: nb, \n",
       "latent_distribution: normal\n",
       "Training status: Trained\n"
      ]
     },
     "metadata": {},
     "output_type": "display_data"
    },
    {
     "data": {
      "text/html": [
       "<pre style=\"white-space:pre;overflow-x:auto;line-height:normal;font-family:Menlo,'DejaVu Sans Mono',consolas,'Courier New',monospace\">SCVI Model with the following params: \n",
       "n_hidden: <span style=\"color: #008080; text-decoration-color: #008080; font-weight: bold\">128</span>, n_latent: <span style=\"color: #008080; text-decoration-color: #008080; font-weight: bold\">30</span>, n_layers: <span style=\"color: #008080; text-decoration-color: #008080; font-weight: bold\">2</span>, dropout_rate: <span style=\"color: #008080; text-decoration-color: #008080; font-weight: bold\">0.1</span>, dispersion: gene, gene_likelihood: nb, \n",
       "latent_distribution: normal\n",
       "Training status: Trained\n",
       "</pre>\n"
      ],
      "text/plain": [
       "SCVI Model with the following params: \n",
       "n_hidden: \u001b[1;36m128\u001b[0m, n_latent: \u001b[1;36m30\u001b[0m, n_layers: \u001b[1;36m2\u001b[0m, dropout_rate: \u001b[1;36m0.1\u001b[0m, dispersion: gene, gene_likelihood: nb, \n",
       "latent_distribution: normal\n",
       "Training status: Trained\n"
      ]
     },
     "metadata": {},
     "output_type": "display_data"
    },
    {
     "data": {
      "text/html": [
       "<pre style=\"white-space:pre;overflow-x:auto;line-height:normal;font-family:Menlo,'DejaVu Sans Mono',consolas,'Courier New',monospace\">SCVI Model with the following params: \n",
       "n_hidden: <span style=\"color: #008080; text-decoration-color: #008080; font-weight: bold\">128</span>, n_latent: <span style=\"color: #008080; text-decoration-color: #008080; font-weight: bold\">30</span>, n_layers: <span style=\"color: #008080; text-decoration-color: #008080; font-weight: bold\">2</span>, dropout_rate: <span style=\"color: #008080; text-decoration-color: #008080; font-weight: bold\">0.1</span>, dispersion: gene, gene_likelihood: nb, \n",
       "latent_distribution: normal\n",
       "Training status: Trained\n",
       "</pre>\n"
      ],
      "text/plain": [
       "SCVI Model with the following params: \n",
       "n_hidden: \u001b[1;36m128\u001b[0m, n_latent: \u001b[1;36m30\u001b[0m, n_layers: \u001b[1;36m2\u001b[0m, dropout_rate: \u001b[1;36m0.1\u001b[0m, dispersion: gene, gene_likelihood: nb, \n",
       "latent_distribution: normal\n",
       "Training status: Trained\n"
      ]
     },
     "metadata": {},
     "output_type": "display_data"
    },
    {
     "data": {
      "text/plain": [
       "{'tissue.scps': {'data': AnnData object with n_obs × n_vars = 332546 × 4000\n",
       "      obs: 'sample_id', 'patient_id', 'status', 'tissue', 'cell_fraction', 'doublet', 'doublet_score', 'nFeature_RNA', 'nCount_RNA', 'percent_mt', 'percent_ribo', 'qc_pass', '_scvi_batch', '_scvi_labels'\n",
       "      var: 'highly_variable', 'highly_variable_rank', 'means', 'variances', 'variances_norm'\n",
       "      uns: '_scvi_manager_uuid', '_scvi_uuid', 'hvg', 'neighbors', 'umap'\n",
       "      obsm: 'X_scvi', 'X_umap'\n",
       "      layers: 'counts'\n",
       "      obsp: 'connectivities', 'distances',\n",
       "  'model': },\n",
       " 'tissue.ad': {'data': AnnData object with n_obs × n_vars = 318976 × 4000\n",
       "      obs: 'sample_id', 'patient_id', 'status', 'tissue', 'cell_fraction', 'doublet', 'doublet_score', 'nFeature_RNA', 'nCount_RNA', 'percent_mt', 'percent_ribo', 'qc_pass', '_scvi_batch', '_scvi_labels'\n",
       "      var: 'highly_variable', 'highly_variable_rank', 'means', 'variances', 'variances_norm'\n",
       "      uns: '_scvi_manager_uuid', '_scvi_uuid', 'hvg', 'neighbors', 'umap'\n",
       "      obsm: 'X_scvi', 'X_umap'\n",
       "      layers: 'counts'\n",
       "      obsp: 'connectivities', 'distances',\n",
       "  'model': },\n",
       " 'tissue.uc': {'data': AnnData object with n_obs × n_vars = 79378 × 4000\n",
       "      obs: 'sample_id', 'patient_id', 'status', 'tissue', 'cell_fraction', 'doublet', 'doublet_score', 'nFeature_RNA', 'nCount_RNA', 'percent_mt', 'percent_ribo', 'qc_pass', '_scvi_batch', '_scvi_labels'\n",
       "      var: 'highly_variable', 'highly_variable_rank', 'means', 'variances', 'variances_norm'\n",
       "      uns: '_scvi_manager_uuid', '_scvi_uuid', 'hvg', 'neighbors', 'umap'\n",
       "      obsm: 'X_scvi', 'X_umap'\n",
       "      layers: 'counts'\n",
       "      obsp: 'connectivities', 'distances',\n",
       "  'model': },\n",
       " 'pbmc.scps': {'data': AnnData object with n_obs × n_vars = 40148 × 4000\n",
       "      obs: 'sample_id', 'patient_id', 'status', 'tissue', 'cell_fraction', 'doublet', 'doublet_score', 'nFeature_RNA', 'nCount_RNA', 'percent_mt', 'percent_ribo', 'qc_pass', '_scvi_batch', '_scvi_labels'\n",
       "      var: 'highly_variable', 'highly_variable_rank', 'means', 'variances', 'variances_norm'\n",
       "      uns: '_scvi_manager_uuid', '_scvi_uuid', 'hvg', 'neighbors', 'umap'\n",
       "      obsm: 'X_scvi', 'X_umap'\n",
       "      layers: 'counts'\n",
       "      obsp: 'connectivities', 'distances',\n",
       "  'model': }}"
      ]
     },
     "execution_count": 2,
     "metadata": {},
     "output_type": "execute_result"
    }
   ],
   "source": [
    "# restore results if kernel breaks or gets shut down\n",
    "integration_results = {}\n",
    "for key in ['tissue.scps', 'tissue.ad', 'tissue.uc', 'pbmc.scps']:\n",
    "    data = sc.read_h5ad(\n",
    "        f'../data/{key}.integrated.h5ad'\n",
    "    )\n",
    "    integration_results[key] = {\n",
    "        'data': data,\n",
    "        'model': scvi.model.SCVI.load(\n",
    "            f'../data/{key}.integration.scvi.model', \n",
    "            adata = data\n",
    "        )\n",
    "    }\n",
    "integration_results"
   ]
  },
  {
   "cell_type": "code",
   "execution_count": 3,
   "id": "d8addf3c-6d83-494e-9107-40633a4b1b78",
   "metadata": {},
   "outputs": [
    {
     "name": "stderr",
     "output_type": "stream",
     "text": [
      "/users/daniel.malzl/.local/lib/python3.9/site-packages/scanpy/plotting/_utils.py:432: ImplicitModificationWarning: Trying to modify attribute `._uns` of view, initializing view as actual.\n",
      "  adata.uns[value_to_plot + '_colors'] = colors_list\n",
      "/users/daniel.malzl/.local/lib/python3.9/site-packages/scanpy/plotting/_tools/scatterplots.py:394: UserWarning: No data for colormapping provided via 'c'. Parameters 'cmap' will be ignored\n",
      "  cax = scatter(\n",
      "/users/daniel.malzl/.local/lib/python3.9/site-packages/scanpy/plotting/_utils.py:432: ImplicitModificationWarning: Trying to modify attribute `._uns` of view, initializing view as actual.\n",
      "  adata.uns[value_to_plot + '_colors'] = colors_list\n",
      "/users/daniel.malzl/.local/lib/python3.9/site-packages/scanpy/plotting/_tools/scatterplots.py:394: UserWarning: No data for colormapping provided via 'c'. Parameters 'cmap' will be ignored\n",
      "  cax = scatter(\n",
      "No artists with labels found to put in legend.  Note that artists whose label start with an underscore are ignored when legend() is called with no argument.\n",
      "No artists with labels found to put in legend.  Note that artists whose label start with an underscore are ignored when legend() is called with no argument.\n",
      "/users/daniel.malzl/.local/lib/python3.9/site-packages/scanpy/plotting/_utils.py:432: ImplicitModificationWarning: Trying to modify attribute `._uns` of view, initializing view as actual.\n",
      "  adata.uns[value_to_plot + '_colors'] = colors_list\n",
      "/users/daniel.malzl/.local/lib/python3.9/site-packages/scanpy/plotting/_tools/scatterplots.py:394: UserWarning: No data for colormapping provided via 'c'. Parameters 'cmap' will be ignored\n",
      "  cax = scatter(\n",
      "/users/daniel.malzl/.local/lib/python3.9/site-packages/scanpy/plotting/_utils.py:432: ImplicitModificationWarning: Trying to modify attribute `._uns` of view, initializing view as actual.\n",
      "  adata.uns[value_to_plot + '_colors'] = colors_list\n",
      "/users/daniel.malzl/.local/lib/python3.9/site-packages/scanpy/plotting/_tools/scatterplots.py:394: UserWarning: No data for colormapping provided via 'c'. Parameters 'cmap' will be ignored\n",
      "  cax = scatter(\n",
      "No artists with labels found to put in legend.  Note that artists whose label start with an underscore are ignored when legend() is called with no argument.\n",
      "No artists with labels found to put in legend.  Note that artists whose label start with an underscore are ignored when legend() is called with no argument.\n",
      "/users/daniel.malzl/.local/lib/python3.9/site-packages/scanpy/plotting/_utils.py:432: ImplicitModificationWarning: Trying to modify attribute `._uns` of view, initializing view as actual.\n",
      "  adata.uns[value_to_plot + '_colors'] = colors_list\n",
      "/users/daniel.malzl/.local/lib/python3.9/site-packages/scanpy/plotting/_tools/scatterplots.py:394: UserWarning: No data for colormapping provided via 'c'. Parameters 'cmap' will be ignored\n",
      "  cax = scatter(\n",
      "/users/daniel.malzl/.local/lib/python3.9/site-packages/scanpy/plotting/_utils.py:432: ImplicitModificationWarning: Trying to modify attribute `._uns` of view, initializing view as actual.\n",
      "  adata.uns[value_to_plot + '_colors'] = colors_list\n",
      "/users/daniel.malzl/.local/lib/python3.9/site-packages/scanpy/plotting/_tools/scatterplots.py:394: UserWarning: No data for colormapping provided via 'c'. Parameters 'cmap' will be ignored\n",
      "  cax = scatter(\n",
      "No artists with labels found to put in legend.  Note that artists whose label start with an underscore are ignored when legend() is called with no argument.\n",
      "No artists with labels found to put in legend.  Note that artists whose label start with an underscore are ignored when legend() is called with no argument.\n",
      "/users/daniel.malzl/.local/lib/python3.9/site-packages/scanpy/plotting/_utils.py:432: ImplicitModificationWarning: Trying to modify attribute `._uns` of view, initializing view as actual.\n",
      "  adata.uns[value_to_plot + '_colors'] = colors_list\n",
      "/users/daniel.malzl/.local/lib/python3.9/site-packages/scanpy/plotting/_tools/scatterplots.py:394: UserWarning: No data for colormapping provided via 'c'. Parameters 'cmap' will be ignored\n",
      "  cax = scatter(\n",
      "/users/daniel.malzl/.local/lib/python3.9/site-packages/scanpy/plotting/_utils.py:432: ImplicitModificationWarning: Trying to modify attribute `._uns` of view, initializing view as actual.\n",
      "  adata.uns[value_to_plot + '_colors'] = colors_list\n",
      "/users/daniel.malzl/.local/lib/python3.9/site-packages/scanpy/plotting/_tools/scatterplots.py:394: UserWarning: No data for colormapping provided via 'c'. Parameters 'cmap' will be ignored\n",
      "  cax = scatter(\n",
      "No artists with labels found to put in legend.  Note that artists whose label start with an underscore are ignored when legend() is called with no argument.\n",
      "No artists with labels found to put in legend.  Note that artists whose label start with an underscore are ignored when legend() is called with no argument.\n"
     ]
    }
   ],
   "source": [
    "fig, axs = plot.integrate.plot_integration_results(\n",
    "    integration_results,\n",
    "    ['status', 'sample_id', 'FOXP3', 'CD3D'],\n",
    "    [\n",
    "        dict(size = 10, vmax = None),\n",
    "        dict(size = 10, vmax = None),\n",
    "        dict(size = 10, vmax = 1),\n",
    "        dict(size = 10, vmax = 10)\n",
    "    ],\n",
    "    data_key = 'data',\n",
    "    legend_off = True\n",
    ")"
   ]
  },
  {
   "cell_type": "markdown",
   "id": "86db25ed-605c-4113-a92f-5166faff9b09",
   "metadata": {},
   "source": [
    "## Identification of T-cell subsets\n",
    "This section aims at extracting T-cells from full dataset based on CD3D and FOXP3 expression (FOXP3 is taken into account here because the ultimate goal is to extract regulatory T-cells)"
   ]
  },
  {
   "cell_type": "code",
   "execution_count": 4,
   "id": "funky-roommate",
   "metadata": {},
   "outputs": [
    {
     "name": "stderr",
     "output_type": "stream",
     "text": [
      "/users/daniel.malzl/.local/lib/python3.9/site-packages/scanpy/plotting/_utils.py:432: ImplicitModificationWarning: Trying to modify attribute `._uns` of view, initializing view as actual.\n",
      "  adata.uns[value_to_plot + '_colors'] = colors_list\n",
      "/users/daniel.malzl/.local/lib/python3.9/site-packages/scanpy/plotting/_tools/scatterplots.py:394: UserWarning: No data for colormapping provided via 'c'. Parameters 'cmap' will be ignored\n",
      "  cax = scatter(\n",
      "/users/daniel.malzl/.local/lib/python3.9/site-packages/scanpy/plotting/_utils.py:432: ImplicitModificationWarning: Trying to modify attribute `._uns` of view, initializing view as actual.\n",
      "  adata.uns[value_to_plot + '_colors'] = colors_list\n",
      "/users/daniel.malzl/.local/lib/python3.9/site-packages/scanpy/plotting/_tools/scatterplots.py:394: UserWarning: No data for colormapping provided via 'c'. Parameters 'cmap' will be ignored\n",
      "  cax = scatter(\n",
      "/users/daniel.malzl/.local/lib/python3.9/site-packages/scanpy/plotting/_utils.py:432: ImplicitModificationWarning: Trying to modify attribute `._uns` of view, initializing view as actual.\n",
      "  adata.uns[value_to_plot + '_colors'] = colors_list\n",
      "/users/daniel.malzl/.local/lib/python3.9/site-packages/scanpy/plotting/_tools/scatterplots.py:394: UserWarning: No data for colormapping provided via 'c'. Parameters 'cmap' will be ignored\n",
      "  cax = scatter(\n",
      "/users/daniel.malzl/.local/lib/python3.9/site-packages/scanpy/plotting/_utils.py:432: ImplicitModificationWarning: Trying to modify attribute `._uns` of view, initializing view as actual.\n",
      "  adata.uns[value_to_plot + '_colors'] = colors_list\n",
      "/users/daniel.malzl/.local/lib/python3.9/site-packages/scanpy/plotting/_tools/scatterplots.py:394: UserWarning: No data for colormapping provided via 'c'. Parameters 'cmap' will be ignored\n",
      "  cax = scatter(\n",
      "/users/daniel.malzl/.local/lib/python3.9/site-packages/scanpy/plotting/_utils.py:432: ImplicitModificationWarning: Trying to modify attribute `._uns` of view, initializing view as actual.\n",
      "  adata.uns[value_to_plot + '_colors'] = colors_list\n",
      "/users/daniel.malzl/.local/lib/python3.9/site-packages/scanpy/plotting/_tools/scatterplots.py:394: UserWarning: No data for colormapping provided via 'c'. Parameters 'cmap' will be ignored\n",
      "  cax = scatter(\n",
      "/users/daniel.malzl/.local/lib/python3.9/site-packages/scanpy/plotting/_utils.py:432: ImplicitModificationWarning: Trying to modify attribute `._uns` of view, initializing view as actual.\n",
      "  adata.uns[value_to_plot + '_colors'] = colors_list\n",
      "/users/daniel.malzl/.local/lib/python3.9/site-packages/scanpy/plotting/_tools/scatterplots.py:394: UserWarning: No data for colormapping provided via 'c'. Parameters 'cmap' will be ignored\n",
      "  cax = scatter(\n",
      "/users/daniel.malzl/.local/lib/python3.9/site-packages/scanpy/plotting/_utils.py:432: ImplicitModificationWarning: Trying to modify attribute `._uns` of view, initializing view as actual.\n",
      "  adata.uns[value_to_plot + '_colors'] = colors_list\n",
      "/users/daniel.malzl/.local/lib/python3.9/site-packages/scanpy/plotting/_tools/scatterplots.py:394: UserWarning: No data for colormapping provided via 'c'. Parameters 'cmap' will be ignored\n",
      "  cax = scatter(\n",
      "/users/daniel.malzl/.local/lib/python3.9/site-packages/scanpy/plotting/_utils.py:432: ImplicitModificationWarning: Trying to modify attribute `._uns` of view, initializing view as actual.\n",
      "  adata.uns[value_to_plot + '_colors'] = colors_list\n",
      "/users/daniel.malzl/.local/lib/python3.9/site-packages/scanpy/plotting/_tools/scatterplots.py:394: UserWarning: No data for colormapping provided via 'c'. Parameters 'cmap' will be ignored\n",
      "  cax = scatter(\n",
      "/users/daniel.malzl/.local/lib/python3.9/site-packages/scanpy/plotting/_utils.py:432: ImplicitModificationWarning: Trying to modify attribute `._uns` of view, initializing view as actual.\n",
      "  adata.uns[value_to_plot + '_colors'] = colors_list\n",
      "/users/daniel.malzl/.local/lib/python3.9/site-packages/scanpy/plotting/_tools/scatterplots.py:394: UserWarning: No data for colormapping provided via 'c'. Parameters 'cmap' will be ignored\n",
      "  cax = scatter(\n",
      "/users/daniel.malzl/.local/lib/python3.9/site-packages/scanpy/plotting/_utils.py:432: ImplicitModificationWarning: Trying to modify attribute `._uns` of view, initializing view as actual.\n",
      "  adata.uns[value_to_plot + '_colors'] = colors_list\n",
      "/users/daniel.malzl/.local/lib/python3.9/site-packages/scanpy/plotting/_tools/scatterplots.py:394: UserWarning: No data for colormapping provided via 'c'. Parameters 'cmap' will be ignored\n",
      "  cax = scatter(\n",
      "/users/daniel.malzl/.local/lib/python3.9/site-packages/scanpy/plotting/_utils.py:432: ImplicitModificationWarning: Trying to modify attribute `._uns` of view, initializing view as actual.\n",
      "  adata.uns[value_to_plot + '_colors'] = colors_list\n",
      "/users/daniel.malzl/.local/lib/python3.9/site-packages/scanpy/plotting/_tools/scatterplots.py:394: UserWarning: No data for colormapping provided via 'c'. Parameters 'cmap' will be ignored\n",
      "  cax = scatter(\n",
      "/users/daniel.malzl/.local/lib/python3.9/site-packages/scanpy/plotting/_utils.py:432: ImplicitModificationWarning: Trying to modify attribute `._uns` of view, initializing view as actual.\n",
      "  adata.uns[value_to_plot + '_colors'] = colors_list\n",
      "/users/daniel.malzl/.local/lib/python3.9/site-packages/scanpy/plotting/_tools/scatterplots.py:394: UserWarning: No data for colormapping provided via 'c'. Parameters 'cmap' will be ignored\n",
      "  cax = scatter(\n",
      "/users/daniel.malzl/.local/lib/python3.9/site-packages/scanpy/plotting/_utils.py:432: ImplicitModificationWarning: Trying to modify attribute `._uns` of view, initializing view as actual.\n",
      "  adata.uns[value_to_plot + '_colors'] = colors_list\n",
      "/users/daniel.malzl/.local/lib/python3.9/site-packages/scanpy/plotting/_tools/scatterplots.py:394: UserWarning: No data for colormapping provided via 'c'. Parameters 'cmap' will be ignored\n",
      "  cax = scatter(\n",
      "/users/daniel.malzl/.local/lib/python3.9/site-packages/scanpy/plotting/_utils.py:432: ImplicitModificationWarning: Trying to modify attribute `._uns` of view, initializing view as actual.\n",
      "  adata.uns[value_to_plot + '_colors'] = colors_list\n",
      "/users/daniel.malzl/.local/lib/python3.9/site-packages/scanpy/plotting/_tools/scatterplots.py:394: UserWarning: No data for colormapping provided via 'c'. Parameters 'cmap' will be ignored\n",
      "  cax = scatter(\n",
      "/users/daniel.malzl/.local/lib/python3.9/site-packages/scanpy/plotting/_utils.py:432: ImplicitModificationWarning: Trying to modify attribute `._uns` of view, initializing view as actual.\n",
      "  adata.uns[value_to_plot + '_colors'] = colors_list\n",
      "/users/daniel.malzl/.local/lib/python3.9/site-packages/scanpy/plotting/_tools/scatterplots.py:394: UserWarning: No data for colormapping provided via 'c'. Parameters 'cmap' will be ignored\n",
      "  cax = scatter(\n",
      "/users/daniel.malzl/.local/lib/python3.9/site-packages/scanpy/plotting/_utils.py:432: ImplicitModificationWarning: Trying to modify attribute `._uns` of view, initializing view as actual.\n",
      "  adata.uns[value_to_plot + '_colors'] = colors_list\n",
      "/users/daniel.malzl/.local/lib/python3.9/site-packages/scanpy/plotting/_tools/scatterplots.py:394: UserWarning: No data for colormapping provided via 'c'. Parameters 'cmap' will be ignored\n",
      "  cax = scatter(\n"
     ]
    }
   ],
   "source": [
    "fig, axs = plot.integrate.plot_leiden_clusterings(\n",
    "    integration_results,\n",
    "    [0.1, 0.25, 0.3, 0.4],\n",
    "    data_key = 'data',\n",
    "    legend_loc = 'on data'\n",
    ")\n",
    "fig.savefig('../plots/full.cluster.inspect.png')"
   ]
  },
  {
   "cell_type": "code",
   "execution_count": 3,
   "id": "c0b83ea4-8b76-4d5b-bc34-ad9670b57b4a",
   "metadata": {},
   "outputs": [],
   "source": [
    "resolutions = {\n",
    "    'tissue.scps': 0.1,\n",
    "    'tissue.uc': 0.4,\n",
    "    'tissue.ad': 0.25,\n",
    "    'pbmc.scps': 0.3\n",
    "}\n",
    "for k, resolution in resolutions.items():\n",
    "    d = integration_results[k]\n",
    "    sc.tl.leiden(\n",
    "        d['data'], \n",
    "        key_added = f'leiden_scvi_{resolution}',\n",
    "        resolution = resolution\n",
    "    )"
   ]
  },
  {
   "cell_type": "code",
   "execution_count": 4,
   "id": "177b3991-0e21-4596-9371-293a8177a299",
   "metadata": {},
   "outputs": [
    {
     "name": "stderr",
     "output_type": "stream",
     "text": [
      "/users/daniel.malzl/.local/lib/python3.9/site-packages/scanpy/plotting/_utils.py:432: ImplicitModificationWarning: Trying to modify attribute `._uns` of view, initializing view as actual.\n",
      "  adata.uns[value_to_plot + '_colors'] = colors_list\n",
      "/users/daniel.malzl/.local/lib/python3.9/site-packages/scanpy/plotting/_tools/scatterplots.py:394: UserWarning: No data for colormapping provided via 'c'. Parameters 'cmap' will be ignored\n",
      "  cax = scatter(\n",
      "/users/daniel.malzl/.local/lib/python3.9/site-packages/scanpy/plotting/_utils.py:432: ImplicitModificationWarning: Trying to modify attribute `._uns` of view, initializing view as actual.\n",
      "  adata.uns[value_to_plot + '_colors'] = colors_list\n",
      "/users/daniel.malzl/.local/lib/python3.9/site-packages/scanpy/plotting/_tools/scatterplots.py:394: UserWarning: No data for colormapping provided via 'c'. Parameters 'cmap' will be ignored\n",
      "  cax = scatter(\n",
      "/users/daniel.malzl/.local/lib/python3.9/site-packages/scanpy/plotting/_utils.py:432: ImplicitModificationWarning: Trying to modify attribute `._uns` of view, initializing view as actual.\n",
      "  adata.uns[value_to_plot + '_colors'] = colors_list\n",
      "/users/daniel.malzl/.local/lib/python3.9/site-packages/scanpy/plotting/_tools/scatterplots.py:394: UserWarning: No data for colormapping provided via 'c'. Parameters 'cmap' will be ignored\n",
      "  cax = scatter(\n",
      "/users/daniel.malzl/.local/lib/python3.9/site-packages/scanpy/plotting/_utils.py:432: ImplicitModificationWarning: Trying to modify attribute `._uns` of view, initializing view as actual.\n",
      "  adata.uns[value_to_plot + '_colors'] = colors_list\n",
      "/users/daniel.malzl/.local/lib/python3.9/site-packages/scanpy/plotting/_tools/scatterplots.py:394: UserWarning: No data for colormapping provided via 'c'. Parameters 'cmap' will be ignored\n",
      "  cax = scatter(\n"
     ]
    }
   ],
   "source": [
    "cluster_keys = {k: f'leiden_scvi_{r}' for k, r in resolutions.items()}\n",
    "fig, axs = plot.integrate.plot_clustering_and_expression(\n",
    "    integration_results,\n",
    "    cluster_keys,\n",
    "    ['CD3D', 'FOXP3'],\n",
    "    [\n",
    "        dict(size = 10, vmax = None, legend_loc = 'on data'),\n",
    "        dict(size = 10, vmax = 10),\n",
    "        dict(size = 10, vmax = 1)\n",
    "    ],\n",
    "    data_key = 'data'\n",
    ")\n",
    "fig.savefig('../plots/full.cluster.results.png')"
   ]
  },
  {
   "cell_type": "code",
   "execution_count": 5,
   "id": "a93f0108-3139-4dd7-99e4-8ff887a74b87",
   "metadata": {},
   "outputs": [],
   "source": [
    "tcell_clusters = {\n",
    "    'tissue.scps': '1',\n",
    "    'tissue.uc': '0,2,6',\n",
    "    'tissue.ad': '1,10',\n",
    "    'pbmc.scps': '0,3,6'\n",
    "}\n",
    "\n",
    "tcell_clusters = {\n",
    "    k: [c for c in cs.split(',')] for k, cs in tcell_clusters.items()\n",
    "}"
   ]
  },
  {
   "cell_type": "code",
   "execution_count": 6,
   "id": "ca067e52-30df-4e74-99a4-fd096421913d",
   "metadata": {},
   "outputs": [
    {
     "name": "stdout",
     "output_type": "stream",
     "text": [
      "tissue.scps coarse_cell_types\n",
      "Tcell     62462\n",
      "other    270084\n",
      "Name: sample_id, dtype: int64\n",
      "tissue.ad coarse_cell_types\n",
      "Tcell     61787\n",
      "other    257189\n",
      "Name: sample_id, dtype: int64\n",
      "tissue.uc coarse_cell_types\n",
      "Tcell    46867\n",
      "other    32511\n",
      "Name: sample_id, dtype: int64\n",
      "pbmc.scps coarse_cell_types\n",
      "Tcell    18557\n",
      "other    21591\n",
      "Name: sample_id, dtype: int64\n"
     ]
    },
    {
     "name": "stderr",
     "output_type": "stream",
     "text": [
      "/users/daniel.malzl/.local/lib/python3.9/site-packages/anndata/_core/anndata.py:1301: ImplicitModificationWarning: Trying to modify attribute `.obs` of view, initializing view as actual.\n",
      "  df[key] = c\n",
      "/users/daniel.malzl/.local/lib/python3.9/site-packages/scanpy/plotting/_tools/scatterplots.py:394: UserWarning: No data for colormapping provided via 'c'. Parameters 'cmap' will be ignored\n",
      "  cax = scatter(\n",
      "/users/daniel.malzl/.local/lib/python3.9/site-packages/anndata/_core/anndata.py:1301: ImplicitModificationWarning: Trying to modify attribute `.obs` of view, initializing view as actual.\n",
      "  df[key] = c\n",
      "/users/daniel.malzl/.local/lib/python3.9/site-packages/anndata/_core/anndata.py:1301: ImplicitModificationWarning: Trying to modify attribute `.obs` of view, initializing view as actual.\n",
      "  df[key] = c\n",
      "/users/daniel.malzl/.local/lib/python3.9/site-packages/anndata/_core/anndata.py:1301: ImplicitModificationWarning: Trying to modify attribute `.obs` of view, initializing view as actual.\n",
      "  df[key] = c\n",
      "/users/daniel.malzl/.local/lib/python3.9/site-packages/scanpy/plotting/_tools/scatterplots.py:394: UserWarning: No data for colormapping provided via 'c'. Parameters 'cmap' will be ignored\n",
      "  cax = scatter(\n",
      "/users/daniel.malzl/.local/lib/python3.9/site-packages/anndata/_core/anndata.py:1301: ImplicitModificationWarning: Trying to modify attribute `.obs` of view, initializing view as actual.\n",
      "  df[key] = c\n",
      "/users/daniel.malzl/.local/lib/python3.9/site-packages/anndata/_core/anndata.py:1301: ImplicitModificationWarning: Trying to modify attribute `.obs` of view, initializing view as actual.\n",
      "  df[key] = c\n",
      "/users/daniel.malzl/.local/lib/python3.9/site-packages/anndata/_core/anndata.py:1301: ImplicitModificationWarning: Trying to modify attribute `.obs` of view, initializing view as actual.\n",
      "  df[key] = c\n",
      "/users/daniel.malzl/.local/lib/python3.9/site-packages/scanpy/plotting/_tools/scatterplots.py:394: UserWarning: No data for colormapping provided via 'c'. Parameters 'cmap' will be ignored\n",
      "  cax = scatter(\n",
      "/users/daniel.malzl/.local/lib/python3.9/site-packages/anndata/_core/anndata.py:1301: ImplicitModificationWarning: Trying to modify attribute `.obs` of view, initializing view as actual.\n",
      "  df[key] = c\n",
      "/users/daniel.malzl/.local/lib/python3.9/site-packages/anndata/_core/anndata.py:1301: ImplicitModificationWarning: Trying to modify attribute `.obs` of view, initializing view as actual.\n",
      "  df[key] = c\n",
      "/users/daniel.malzl/.local/lib/python3.9/site-packages/anndata/_core/anndata.py:1301: ImplicitModificationWarning: Trying to modify attribute `.obs` of view, initializing view as actual.\n",
      "  df[key] = c\n",
      "/users/daniel.malzl/.local/lib/python3.9/site-packages/scanpy/plotting/_tools/scatterplots.py:394: UserWarning: No data for colormapping provided via 'c'. Parameters 'cmap' will be ignored\n",
      "  cax = scatter(\n",
      "/users/daniel.malzl/.local/lib/python3.9/site-packages/anndata/_core/anndata.py:1301: ImplicitModificationWarning: Trying to modify attribute `.obs` of view, initializing view as actual.\n",
      "  df[key] = c\n",
      "/users/daniel.malzl/.local/lib/python3.9/site-packages/anndata/_core/anndata.py:1301: ImplicitModificationWarning: Trying to modify attribute `.obs` of view, initializing view as actual.\n",
      "  df[key] = c\n"
     ]
    }
   ],
   "source": [
    "for k, d in integration_results.items():\n",
    "    clustering = cluster_keys[k]\n",
    "    d['data'].obs['coarse_cell_types'] = d['data'].obs[clustering].apply(\n",
    "        lambda x: 'Tcell' if x in tcell_clusters[k] else 'other'\n",
    "    )\n",
    "    print(k, d['data'].obs.groupby('coarse_cell_types').count().iloc[:, 0])\n",
    "    \n",
    "fig, axs = plot.integrate.plot_clustering_and_expression(\n",
    "    integration_results,\n",
    "    {k: 'coarse_cell_types' for k in integration_results.keys()},\n",
    "    ['CD3D', 'FOXP3'],\n",
    "    [\n",
    "        dict(size = 10, vmax = None),\n",
    "        dict(size = 10, vmax = 10),\n",
    "        dict(size = 10, vmax = 1)\n",
    "    ],\n",
    "    data_key = 'data'\n",
    ")\n",
    "fig.savefig('../plots/full.cluster.tcell.png')"
   ]
  },
  {
   "cell_type": "code",
   "execution_count": null,
   "id": "monthly-finding",
   "metadata": {},
   "outputs": [],
   "source": [
    "for k, d in integration_results.items():\n",
    "    d['data'].write(\n",
    "        f'../data/{k}.integrated.clustered.h5ad'\n",
    "    )"
   ]
  }
 ],
 "metadata": {
  "kernelspec": {
   "display_name": "scpython",
   "language": "python",
   "name": "scpython"
  },
  "language_info": {
   "codemirror_mode": {
    "name": "ipython",
    "version": 3
   },
   "file_extension": ".py",
   "mimetype": "text/x-python",
   "name": "python",
   "nbconvert_exporter": "python",
   "pygments_lexer": "ipython3",
   "version": "3.9.4"
  }
 },
 "nbformat": 4,
 "nbformat_minor": 5
}
