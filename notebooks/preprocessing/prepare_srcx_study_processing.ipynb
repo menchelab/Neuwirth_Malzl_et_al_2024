{
 "cells": [
  {
   "cell_type": "markdown",
   "id": "c43188f3-7de6-46c2-aa03-0507f80b6208",
   "metadata": {},
   "source": [
    "# prepare `cellranger multi` run"
   ]
  },
  {
   "cell_type": "code",
   "execution_count": 1,
   "id": "4a3196e8-fe8e-459f-a525-970a0457ebc5",
   "metadata": {},
   "outputs": [
    {
     "data": {
      "text/html": [
       "<div>\n",
       "<style scoped>\n",
       "    .dataframe tbody tr th:only-of-type {\n",
       "        vertical-align: middle;\n",
       "    }\n",
       "\n",
       "    .dataframe tbody tr th {\n",
       "        vertical-align: top;\n",
       "    }\n",
       "\n",
       "    .dataframe thead th {\n",
       "        text-align: right;\n",
       "    }\n",
       "</style>\n",
       "<table border=\"1\" class=\"dataframe\">\n",
       "  <thead>\n",
       "    <tr style=\"text-align: right;\">\n",
       "      <th></th>\n",
       "      <th>patient_id</th>\n",
       "      <th>visit_id</th>\n",
       "      <th>sample_material</th>\n",
       "      <th>sample_tissue</th>\n",
       "      <th>sample_date</th>\n",
       "      <th>staining_HTO</th>\n",
       "      <th>sorting_criterium</th>\n",
       "      <th>cell_count</th>\n",
       "    </tr>\n",
       "  </thead>\n",
       "  <tbody>\n",
       "    <tr>\n",
       "      <th>3</th>\n",
       "      <td>P01</td>\n",
       "      <td>V02</td>\n",
       "      <td>sorted_PBMC</td>\n",
       "      <td>Blood</td>\n",
       "      <td>2019-09-24</td>\n",
       "      <td>#0251</td>\n",
       "      <td>living_CD45pos</td>\n",
       "      <td>10000</td>\n",
       "    </tr>\n",
       "    <tr>\n",
       "      <th>4</th>\n",
       "      <td>P01</td>\n",
       "      <td>V02</td>\n",
       "      <td>sorted_skin</td>\n",
       "      <td>Skin_L</td>\n",
       "      <td>2019-09-24</td>\n",
       "      <td>#0254</td>\n",
       "      <td>living_CD45pos</td>\n",
       "      <td>3485</td>\n",
       "    </tr>\n",
       "    <tr>\n",
       "      <th>5</th>\n",
       "      <td>P01</td>\n",
       "      <td>V02</td>\n",
       "      <td>sorted_skin</td>\n",
       "      <td>Skin_L</td>\n",
       "      <td>2019-09-24</td>\n",
       "      <td>#0254</td>\n",
       "      <td>living_CD45neg</td>\n",
       "      <td>10000</td>\n",
       "    </tr>\n",
       "    <tr>\n",
       "      <th>6</th>\n",
       "      <td>P01</td>\n",
       "      <td>V02</td>\n",
       "      <td>sorted_skin</td>\n",
       "      <td>Skin_NL</td>\n",
       "      <td>2019-09-24</td>\n",
       "      <td>#0252</td>\n",
       "      <td>living_CD45pos</td>\n",
       "      <td>1505</td>\n",
       "    </tr>\n",
       "    <tr>\n",
       "      <th>7</th>\n",
       "      <td>P01</td>\n",
       "      <td>V02</td>\n",
       "      <td>sorted_skin</td>\n",
       "      <td>Skin_NL</td>\n",
       "      <td>2019-09-24</td>\n",
       "      <td>#0252</td>\n",
       "      <td>living_CD45neg</td>\n",
       "      <td>10000</td>\n",
       "    </tr>\n",
       "    <tr>\n",
       "      <th>...</th>\n",
       "      <td>...</td>\n",
       "      <td>...</td>\n",
       "      <td>...</td>\n",
       "      <td>...</td>\n",
       "      <td>...</td>\n",
       "      <td>...</td>\n",
       "      <td>...</td>\n",
       "      <td>...</td>\n",
       "    </tr>\n",
       "    <tr>\n",
       "      <th>1467</th>\n",
       "      <td>P15</td>\n",
       "      <td>V02</td>\n",
       "      <td>sorted_PBMC</td>\n",
       "      <td>Blood</td>\n",
       "      <td>2021-06-29</td>\n",
       "      <td>#0251</td>\n",
       "      <td>living_CD45pos</td>\n",
       "      <td>10000</td>\n",
       "    </tr>\n",
       "    <tr>\n",
       "      <th>1468</th>\n",
       "      <td>P15</td>\n",
       "      <td>V02</td>\n",
       "      <td>sorted_skin</td>\n",
       "      <td>Skin_L</td>\n",
       "      <td>2021-06-29</td>\n",
       "      <td>#0253</td>\n",
       "      <td>living_CD45pos</td>\n",
       "      <td>20000</td>\n",
       "    </tr>\n",
       "    <tr>\n",
       "      <th>1469</th>\n",
       "      <td>P15</td>\n",
       "      <td>V02</td>\n",
       "      <td>sorted_skin</td>\n",
       "      <td>Skin_L</td>\n",
       "      <td>2021-06-29</td>\n",
       "      <td>#0253</td>\n",
       "      <td>living_CD45neg</td>\n",
       "      <td>20000</td>\n",
       "    </tr>\n",
       "    <tr>\n",
       "      <th>1470</th>\n",
       "      <td>P15</td>\n",
       "      <td>V02</td>\n",
       "      <td>sorted_skin</td>\n",
       "      <td>Skin_NL</td>\n",
       "      <td>2021-06-29</td>\n",
       "      <td>#0253</td>\n",
       "      <td>living_CD45pos</td>\n",
       "      <td>20000</td>\n",
       "    </tr>\n",
       "    <tr>\n",
       "      <th>1471</th>\n",
       "      <td>P15</td>\n",
       "      <td>V02</td>\n",
       "      <td>sorted_skin</td>\n",
       "      <td>Skin_NL</td>\n",
       "      <td>2021-06-29</td>\n",
       "      <td>#0253</td>\n",
       "      <td>living_CD45neg</td>\n",
       "      <td>20000</td>\n",
       "    </tr>\n",
       "  </tbody>\n",
       "</table>\n",
       "<p>225 rows × 8 columns</p>\n",
       "</div>"
      ],
      "text/plain": [
       "     patient_id visit_id sample_material sample_tissue sample_date  \\\n",
       "3           P01      V02     sorted_PBMC         Blood  2019-09-24   \n",
       "4           P01      V02     sorted_skin        Skin_L  2019-09-24   \n",
       "5           P01      V02     sorted_skin        Skin_L  2019-09-24   \n",
       "6           P01      V02     sorted_skin       Skin_NL  2019-09-24   \n",
       "7           P01      V02     sorted_skin       Skin_NL  2019-09-24   \n",
       "...         ...      ...             ...           ...         ...   \n",
       "1467        P15      V02     sorted_PBMC         Blood  2021-06-29   \n",
       "1468        P15      V02     sorted_skin        Skin_L  2021-06-29   \n",
       "1469        P15      V02     sorted_skin        Skin_L  2021-06-29   \n",
       "1470        P15      V02     sorted_skin       Skin_NL  2021-06-29   \n",
       "1471        P15      V02     sorted_skin       Skin_NL  2021-06-29   \n",
       "\n",
       "     staining_HTO sorting_criterium cell_count  \n",
       "3           #0251    living_CD45pos      10000  \n",
       "4           #0254    living_CD45pos       3485  \n",
       "5           #0254    living_CD45neg      10000  \n",
       "6           #0252    living_CD45pos       1505  \n",
       "7           #0252    living_CD45neg      10000  \n",
       "...           ...               ...        ...  \n",
       "1467        #0251    living_CD45pos      10000  \n",
       "1468        #0253    living_CD45pos      20000  \n",
       "1469        #0253    living_CD45neg      20000  \n",
       "1470        #0253    living_CD45pos      20000  \n",
       "1471        #0253    living_CD45neg      20000  \n",
       "\n",
       "[225 rows x 8 columns]"
      ]
     },
     "execution_count": 1,
     "metadata": {},
     "output_type": "execute_result"
    }
   ],
   "source": [
    "import pandas as pd\n",
    "df1 = pd.read_excel(\n",
    "    '../cr_resources/sirolimus/ProbenSrcX.xlsx',\n",
    "    usecols = [2, 3, 4, 5, 7, 17, 18, 21]\n",
    ")\n",
    "df1.drop(\n",
    "    index = df1[df1.isna().all(axis = 1)].index,\n",
    "    inplace = True\n",
    ")\n",
    "df1 = df1.loc[df1.staining_HTO.str.startswith('#'), :]\n",
    "df1"
   ]
  },
  {
   "cell_type": "code",
   "execution_count": 2,
   "id": "ad6afd70-de8e-49bf-932b-0845b5c1636b",
   "metadata": {},
   "outputs": [
    {
     "data": {
      "text/html": [
       "<div>\n",
       "<style scoped>\n",
       "    .dataframe tbody tr th:only-of-type {\n",
       "        vertical-align: middle;\n",
       "    }\n",
       "\n",
       "    .dataframe tbody tr th {\n",
       "        vertical-align: top;\n",
       "    }\n",
       "\n",
       "    .dataframe thead th {\n",
       "        text-align: right;\n",
       "    }\n",
       "</style>\n",
       "<table border=\"1\" class=\"dataframe\">\n",
       "  <thead>\n",
       "    <tr style=\"text-align: right;\">\n",
       "      <th></th>\n",
       "      <th>patient_id</th>\n",
       "      <th>visit_id</th>\n",
       "      <th>sample_material</th>\n",
       "      <th>sample_tissue</th>\n",
       "      <th>sample_date</th>\n",
       "      <th>staining_HTO</th>\n",
       "      <th>sorting_criterium</th>\n",
       "      <th>cell_count</th>\n",
       "    </tr>\n",
       "  </thead>\n",
       "  <tbody>\n",
       "    <tr>\n",
       "      <th>0</th>\n",
       "      <td>P12</td>\n",
       "      <td>V15</td>\n",
       "      <td>PBMC</td>\n",
       "      <td>blood</td>\n",
       "      <td>2021-08-24</td>\n",
       "      <td>#0251</td>\n",
       "      <td>living_CD45pos</td>\n",
       "      <td>10000</td>\n",
       "    </tr>\n",
       "    <tr>\n",
       "      <th>1</th>\n",
       "      <td>P12</td>\n",
       "      <td>V15</td>\n",
       "      <td>sorted_skin</td>\n",
       "      <td>skinL</td>\n",
       "      <td>2021-08-24</td>\n",
       "      <td>#0253</td>\n",
       "      <td>living_CD45pos</td>\n",
       "      <td>20000</td>\n",
       "    </tr>\n",
       "    <tr>\n",
       "      <th>2</th>\n",
       "      <td>P12</td>\n",
       "      <td>V15</td>\n",
       "      <td>sorted_skin</td>\n",
       "      <td>skinL</td>\n",
       "      <td>2021-08-24</td>\n",
       "      <td>#0253</td>\n",
       "      <td>living_CD45neg</td>\n",
       "      <td>20000</td>\n",
       "    </tr>\n",
       "    <tr>\n",
       "      <th>3</th>\n",
       "      <td>P12</td>\n",
       "      <td>V14</td>\n",
       "      <td>PBMC</td>\n",
       "      <td>blood</td>\n",
       "      <td>2021-06-16</td>\n",
       "      <td>#0251</td>\n",
       "      <td>living_CD45pos</td>\n",
       "      <td>10000</td>\n",
       "    </tr>\n",
       "    <tr>\n",
       "      <th>4</th>\n",
       "      <td>P12</td>\n",
       "      <td>V14</td>\n",
       "      <td>sorted_skin</td>\n",
       "      <td>skinL</td>\n",
       "      <td>2021-06-16</td>\n",
       "      <td>#0253</td>\n",
       "      <td>living_CD45pos</td>\n",
       "      <td>20000</td>\n",
       "    </tr>\n",
       "    <tr>\n",
       "      <th>5</th>\n",
       "      <td>P12</td>\n",
       "      <td>V14</td>\n",
       "      <td>sorted_skin</td>\n",
       "      <td>skinL</td>\n",
       "      <td>2021-06-16</td>\n",
       "      <td>#0253</td>\n",
       "      <td>living_CD45neg</td>\n",
       "      <td>20000</td>\n",
       "    </tr>\n",
       "    <tr>\n",
       "      <th>6</th>\n",
       "      <td>P13</td>\n",
       "      <td>V15</td>\n",
       "      <td>PBMC</td>\n",
       "      <td>blood</td>\n",
       "      <td>2021-08-30</td>\n",
       "      <td>#0251</td>\n",
       "      <td>living_CD45pos</td>\n",
       "      <td>10000</td>\n",
       "    </tr>\n",
       "    <tr>\n",
       "      <th>7</th>\n",
       "      <td>P13</td>\n",
       "      <td>V15</td>\n",
       "      <td>sorted_skin</td>\n",
       "      <td>skinL</td>\n",
       "      <td>2021-08-30</td>\n",
       "      <td>#0253</td>\n",
       "      <td>living_CD45pos</td>\n",
       "      <td>2209</td>\n",
       "    </tr>\n",
       "    <tr>\n",
       "      <th>8</th>\n",
       "      <td>P13</td>\n",
       "      <td>V15</td>\n",
       "      <td>sorted_skin</td>\n",
       "      <td>skinL</td>\n",
       "      <td>2021-08-30</td>\n",
       "      <td>#0253</td>\n",
       "      <td>living_CD45neg</td>\n",
       "      <td>20000</td>\n",
       "    </tr>\n",
       "    <tr>\n",
       "      <th>9</th>\n",
       "      <td>P13</td>\n",
       "      <td>V14</td>\n",
       "      <td>PBMC</td>\n",
       "      <td>blood</td>\n",
       "      <td>2021-07-05</td>\n",
       "      <td>#0251</td>\n",
       "      <td>living_CD45pos</td>\n",
       "      <td>10000</td>\n",
       "    </tr>\n",
       "    <tr>\n",
       "      <th>10</th>\n",
       "      <td>P13</td>\n",
       "      <td>V14</td>\n",
       "      <td>sorted_skin</td>\n",
       "      <td>skinL</td>\n",
       "      <td>2021-07-05</td>\n",
       "      <td>#0253</td>\n",
       "      <td>living_CD45pos</td>\n",
       "      <td>20000</td>\n",
       "    </tr>\n",
       "    <tr>\n",
       "      <th>11</th>\n",
       "      <td>P13</td>\n",
       "      <td>V14</td>\n",
       "      <td>sorted_skin</td>\n",
       "      <td>skinL</td>\n",
       "      <td>2021-07-05</td>\n",
       "      <td>#0253</td>\n",
       "      <td>living_CD45neg</td>\n",
       "      <td>20000</td>\n",
       "    </tr>\n",
       "    <tr>\n",
       "      <th>12</th>\n",
       "      <td>P14</td>\n",
       "      <td>V14</td>\n",
       "      <td>PBMC</td>\n",
       "      <td>blood</td>\n",
       "      <td>2021-10-27</td>\n",
       "      <td>#0251</td>\n",
       "      <td>living_CD45pos</td>\n",
       "      <td>10000</td>\n",
       "    </tr>\n",
       "    <tr>\n",
       "      <th>13</th>\n",
       "      <td>P14</td>\n",
       "      <td>V14</td>\n",
       "      <td>sorted_skin</td>\n",
       "      <td>skinL</td>\n",
       "      <td>2021-10-27</td>\n",
       "      <td>#0253</td>\n",
       "      <td>living_CD45pos</td>\n",
       "      <td>20000</td>\n",
       "    </tr>\n",
       "    <tr>\n",
       "      <th>14</th>\n",
       "      <td>P14</td>\n",
       "      <td>V14</td>\n",
       "      <td>sorted_skin</td>\n",
       "      <td>skinL</td>\n",
       "      <td>2021-10-27</td>\n",
       "      <td>#0253</td>\n",
       "      <td>living_CD45neg</td>\n",
       "      <td>20000</td>\n",
       "    </tr>\n",
       "    <tr>\n",
       "      <th>15</th>\n",
       "      <td>P14</td>\n",
       "      <td>V15</td>\n",
       "      <td>PBMC</td>\n",
       "      <td>blood</td>\n",
       "      <td>2021-12-16</td>\n",
       "      <td>#0254</td>\n",
       "      <td>living_CD45pos</td>\n",
       "      <td>10000</td>\n",
       "    </tr>\n",
       "    <tr>\n",
       "      <th>16</th>\n",
       "      <td>P14</td>\n",
       "      <td>V15</td>\n",
       "      <td>sorted_skin</td>\n",
       "      <td>skinL</td>\n",
       "      <td>2021-12-16</td>\n",
       "      <td>#0252</td>\n",
       "      <td>living_CD45pos</td>\n",
       "      <td>20000</td>\n",
       "    </tr>\n",
       "    <tr>\n",
       "      <th>17</th>\n",
       "      <td>P14</td>\n",
       "      <td>V15</td>\n",
       "      <td>sorted_skin</td>\n",
       "      <td>skinL</td>\n",
       "      <td>2021-12-16</td>\n",
       "      <td>#0252</td>\n",
       "      <td>living_CD45neg</td>\n",
       "      <td>20000</td>\n",
       "    </tr>\n",
       "    <tr>\n",
       "      <th>18</th>\n",
       "      <td>P14</td>\n",
       "      <td>V06</td>\n",
       "      <td>PBMC</td>\n",
       "      <td>blood</td>\n",
       "      <td>2021-07-13</td>\n",
       "      <td>#0251</td>\n",
       "      <td>living_CD45pos</td>\n",
       "      <td>10000</td>\n",
       "    </tr>\n",
       "    <tr>\n",
       "      <th>19</th>\n",
       "      <td>P14</td>\n",
       "      <td>V06</td>\n",
       "      <td>sorted_skin</td>\n",
       "      <td>skinL</td>\n",
       "      <td>2021-07-13</td>\n",
       "      <td>#0253</td>\n",
       "      <td>living_CD45pos</td>\n",
       "      <td>20000</td>\n",
       "    </tr>\n",
       "    <tr>\n",
       "      <th>20</th>\n",
       "      <td>P14</td>\n",
       "      <td>V06</td>\n",
       "      <td>sorted_skin</td>\n",
       "      <td>skinL</td>\n",
       "      <td>2021-07-13</td>\n",
       "      <td>#0253</td>\n",
       "      <td>living_CD45neg</td>\n",
       "      <td>20000</td>\n",
       "    </tr>\n",
       "    <tr>\n",
       "      <th>21</th>\n",
       "      <td>P17</td>\n",
       "      <td>V11</td>\n",
       "      <td>PBMC</td>\n",
       "      <td>blood</td>\n",
       "      <td>2021-12-15</td>\n",
       "      <td>#0254</td>\n",
       "      <td>living_CD45pos</td>\n",
       "      <td>10000</td>\n",
       "    </tr>\n",
       "    <tr>\n",
       "      <th>22</th>\n",
       "      <td>P17</td>\n",
       "      <td>V11</td>\n",
       "      <td>sorted_skin</td>\n",
       "      <td>skinL</td>\n",
       "      <td>2021-12-15</td>\n",
       "      <td>#0252</td>\n",
       "      <td>living_CD45pos</td>\n",
       "      <td>5775</td>\n",
       "    </tr>\n",
       "    <tr>\n",
       "      <th>23</th>\n",
       "      <td>P17</td>\n",
       "      <td>V11</td>\n",
       "      <td>sorted_skin</td>\n",
       "      <td>skinL</td>\n",
       "      <td>2021-12-15</td>\n",
       "      <td>#0252</td>\n",
       "      <td>living_CD45neg</td>\n",
       "      <td>20000</td>\n",
       "    </tr>\n",
       "    <tr>\n",
       "      <th>24</th>\n",
       "      <td>P17</td>\n",
       "      <td>V10</td>\n",
       "      <td>PBMC</td>\n",
       "      <td>blood</td>\n",
       "      <td>2021-12-15</td>\n",
       "      <td>#0252</td>\n",
       "      <td>living_CD45pos</td>\n",
       "      <td>10000</td>\n",
       "    </tr>\n",
       "    <tr>\n",
       "      <th>25</th>\n",
       "      <td>P17</td>\n",
       "      <td>V10</td>\n",
       "      <td>sorted_skin</td>\n",
       "      <td>skinL</td>\n",
       "      <td>2021-12-15</td>\n",
       "      <td>#0254</td>\n",
       "      <td>living_CD45pos</td>\n",
       "      <td>3590</td>\n",
       "    </tr>\n",
       "    <tr>\n",
       "      <th>26</th>\n",
       "      <td>P17</td>\n",
       "      <td>V10</td>\n",
       "      <td>sorted_skin</td>\n",
       "      <td>skinL</td>\n",
       "      <td>2021-12-15</td>\n",
       "      <td>#0254</td>\n",
       "      <td>living_CD45neg</td>\n",
       "      <td>20000</td>\n",
       "    </tr>\n",
       "    <tr>\n",
       "      <th>27</th>\n",
       "      <td>P17</td>\n",
       "      <td>V02</td>\n",
       "      <td>PBMC</td>\n",
       "      <td>blood</td>\n",
       "      <td>2021-07-07</td>\n",
       "      <td>#0251</td>\n",
       "      <td>living_CD45pos</td>\n",
       "      <td>10000</td>\n",
       "    </tr>\n",
       "    <tr>\n",
       "      <th>28</th>\n",
       "      <td>P17</td>\n",
       "      <td>V02</td>\n",
       "      <td>sorted_skin</td>\n",
       "      <td>skinL</td>\n",
       "      <td>2021-07-07</td>\n",
       "      <td>#0253</td>\n",
       "      <td>living_CD45pos</td>\n",
       "      <td>3868</td>\n",
       "    </tr>\n",
       "    <tr>\n",
       "      <th>29</th>\n",
       "      <td>P17</td>\n",
       "      <td>V02</td>\n",
       "      <td>sorted_skin</td>\n",
       "      <td>skinL</td>\n",
       "      <td>2021-07-07</td>\n",
       "      <td>#0253</td>\n",
       "      <td>living_CD45neg</td>\n",
       "      <td>10000</td>\n",
       "    </tr>\n",
       "    <tr>\n",
       "      <th>30</th>\n",
       "      <td>P17</td>\n",
       "      <td>V02</td>\n",
       "      <td>sorted_skin</td>\n",
       "      <td>skinNL</td>\n",
       "      <td>2021-07-07</td>\n",
       "      <td>#0252</td>\n",
       "      <td>living_CD45pos</td>\n",
       "      <td>10000</td>\n",
       "    </tr>\n",
       "    <tr>\n",
       "      <th>31</th>\n",
       "      <td>P17</td>\n",
       "      <td>V02</td>\n",
       "      <td>sorted_skin</td>\n",
       "      <td>skinNL</td>\n",
       "      <td>2021-07-07</td>\n",
       "      <td>#0252</td>\n",
       "      <td>living_CD45neg</td>\n",
       "      <td>10000</td>\n",
       "    </tr>\n",
       "    <tr>\n",
       "      <th>32</th>\n",
       "      <td>P15</td>\n",
       "      <td>V11</td>\n",
       "      <td>PBMC</td>\n",
       "      <td>blood</td>\n",
       "      <td>2021-12-07</td>\n",
       "      <td>#0254</td>\n",
       "      <td>living_CD45pos</td>\n",
       "      <td>10000</td>\n",
       "    </tr>\n",
       "    <tr>\n",
       "      <th>33</th>\n",
       "      <td>P15</td>\n",
       "      <td>V11</td>\n",
       "      <td>sorted_skin</td>\n",
       "      <td>skinL</td>\n",
       "      <td>2021-12-07</td>\n",
       "      <td>#0253</td>\n",
       "      <td>living_CD45pos</td>\n",
       "      <td>20000</td>\n",
       "    </tr>\n",
       "    <tr>\n",
       "      <th>34</th>\n",
       "      <td>P15</td>\n",
       "      <td>V11</td>\n",
       "      <td>sorted_skin</td>\n",
       "      <td>skinL</td>\n",
       "      <td>2021-12-07</td>\n",
       "      <td>#0253</td>\n",
       "      <td>living_CD45neg</td>\n",
       "      <td>20000</td>\n",
       "    </tr>\n",
       "    <tr>\n",
       "      <th>35</th>\n",
       "      <td>P15</td>\n",
       "      <td>V10</td>\n",
       "      <td>PBMC</td>\n",
       "      <td>blood</td>\n",
       "      <td>2021-11-19</td>\n",
       "      <td>#0251</td>\n",
       "      <td>living_CD45pos</td>\n",
       "      <td>10000</td>\n",
       "    </tr>\n",
       "    <tr>\n",
       "      <th>36</th>\n",
       "      <td>P15</td>\n",
       "      <td>V10</td>\n",
       "      <td>sorted_skin</td>\n",
       "      <td>skinL1</td>\n",
       "      <td>2021-11-19</td>\n",
       "      <td>#0253</td>\n",
       "      <td>living_CD45pos</td>\n",
       "      <td>15000</td>\n",
       "    </tr>\n",
       "    <tr>\n",
       "      <th>37</th>\n",
       "      <td>P15</td>\n",
       "      <td>V10</td>\n",
       "      <td>sorted_skin</td>\n",
       "      <td>skinL1</td>\n",
       "      <td>2021-11-19</td>\n",
       "      <td>#0253</td>\n",
       "      <td>living_CD45neg</td>\n",
       "      <td>10000</td>\n",
       "    </tr>\n",
       "    <tr>\n",
       "      <th>38</th>\n",
       "      <td>P15</td>\n",
       "      <td>V10</td>\n",
       "      <td>sorted_skin</td>\n",
       "      <td>skinL2</td>\n",
       "      <td>2021-11-19</td>\n",
       "      <td>#0252</td>\n",
       "      <td>living_CD45pos</td>\n",
       "      <td>10000</td>\n",
       "    </tr>\n",
       "    <tr>\n",
       "      <th>39</th>\n",
       "      <td>P15</td>\n",
       "      <td>V10</td>\n",
       "      <td>sorted_skin</td>\n",
       "      <td>skinL2</td>\n",
       "      <td>2021-11-19</td>\n",
       "      <td>#0252</td>\n",
       "      <td>living_CD45neg</td>\n",
       "      <td>10000</td>\n",
       "    </tr>\n",
       "  </tbody>\n",
       "</table>\n",
       "</div>"
      ],
      "text/plain": [
       "   patient_id visit_id sample_material sample_tissue sample_date staining_HTO  \\\n",
       "0         P12      V15            PBMC         blood  2021-08-24        #0251   \n",
       "1         P12      V15     sorted_skin         skinL  2021-08-24        #0253   \n",
       "2         P12      V15     sorted_skin         skinL  2021-08-24        #0253   \n",
       "3         P12      V14            PBMC         blood  2021-06-16        #0251   \n",
       "4         P12      V14     sorted_skin         skinL  2021-06-16        #0253   \n",
       "5         P12      V14     sorted_skin         skinL  2021-06-16        #0253   \n",
       "6         P13      V15            PBMC         blood  2021-08-30        #0251   \n",
       "7         P13      V15     sorted_skin         skinL  2021-08-30        #0253   \n",
       "8         P13      V15     sorted_skin         skinL  2021-08-30        #0253   \n",
       "9         P13      V14            PBMC         blood  2021-07-05        #0251   \n",
       "10        P13      V14     sorted_skin         skinL  2021-07-05        #0253   \n",
       "11        P13      V14     sorted_skin         skinL  2021-07-05        #0253   \n",
       "12        P14      V14            PBMC         blood  2021-10-27        #0251   \n",
       "13        P14      V14     sorted_skin         skinL  2021-10-27        #0253   \n",
       "14        P14      V14     sorted_skin         skinL  2021-10-27        #0253   \n",
       "15        P14      V15            PBMC         blood  2021-12-16        #0254   \n",
       "16        P14      V15     sorted_skin         skinL  2021-12-16        #0252   \n",
       "17        P14      V15     sorted_skin         skinL  2021-12-16        #0252   \n",
       "18        P14      V06            PBMC         blood  2021-07-13        #0251   \n",
       "19        P14      V06     sorted_skin         skinL  2021-07-13        #0253   \n",
       "20        P14      V06     sorted_skin         skinL  2021-07-13        #0253   \n",
       "21        P17      V11            PBMC         blood  2021-12-15        #0254   \n",
       "22        P17      V11     sorted_skin         skinL  2021-12-15        #0252   \n",
       "23        P17      V11     sorted_skin         skinL  2021-12-15        #0252   \n",
       "24        P17      V10            PBMC         blood  2021-12-15        #0252   \n",
       "25        P17      V10     sorted_skin         skinL  2021-12-15        #0254   \n",
       "26        P17      V10     sorted_skin         skinL  2021-12-15        #0254   \n",
       "27        P17      V02            PBMC         blood  2021-07-07        #0251   \n",
       "28        P17      V02     sorted_skin         skinL  2021-07-07        #0253   \n",
       "29        P17      V02     sorted_skin         skinL  2021-07-07        #0253   \n",
       "30        P17      V02     sorted_skin        skinNL  2021-07-07        #0252   \n",
       "31        P17      V02     sorted_skin        skinNL  2021-07-07        #0252   \n",
       "32        P15      V11            PBMC         blood  2021-12-07        #0254   \n",
       "33        P15      V11     sorted_skin         skinL  2021-12-07        #0253   \n",
       "34        P15      V11     sorted_skin         skinL  2021-12-07        #0253   \n",
       "35        P15      V10            PBMC         blood  2021-11-19        #0251   \n",
       "36        P15      V10     sorted_skin        skinL1  2021-11-19        #0253   \n",
       "37        P15      V10     sorted_skin        skinL1  2021-11-19        #0253   \n",
       "38        P15      V10     sorted_skin        skinL2  2021-11-19        #0252   \n",
       "39        P15      V10     sorted_skin        skinL2  2021-11-19        #0252   \n",
       "\n",
       "   sorting_criterium  cell_count  \n",
       "0     living_CD45pos       10000  \n",
       "1     living_CD45pos       20000  \n",
       "2     living_CD45neg       20000  \n",
       "3     living_CD45pos       10000  \n",
       "4     living_CD45pos       20000  \n",
       "5     living_CD45neg       20000  \n",
       "6     living_CD45pos       10000  \n",
       "7     living_CD45pos        2209  \n",
       "8     living_CD45neg       20000  \n",
       "9     living_CD45pos       10000  \n",
       "10    living_CD45pos       20000  \n",
       "11    living_CD45neg       20000  \n",
       "12    living_CD45pos       10000  \n",
       "13    living_CD45pos       20000  \n",
       "14    living_CD45neg       20000  \n",
       "15    living_CD45pos       10000  \n",
       "16    living_CD45pos       20000  \n",
       "17    living_CD45neg       20000  \n",
       "18    living_CD45pos       10000  \n",
       "19    living_CD45pos       20000  \n",
       "20    living_CD45neg       20000  \n",
       "21    living_CD45pos       10000  \n",
       "22    living_CD45pos        5775  \n",
       "23    living_CD45neg       20000  \n",
       "24    living_CD45pos       10000  \n",
       "25    living_CD45pos        3590  \n",
       "26    living_CD45neg       20000  \n",
       "27    living_CD45pos       10000  \n",
       "28    living_CD45pos        3868  \n",
       "29    living_CD45neg       10000  \n",
       "30    living_CD45pos       10000  \n",
       "31    living_CD45neg       10000  \n",
       "32    living_CD45pos       10000  \n",
       "33    living_CD45pos       20000  \n",
       "34    living_CD45neg       20000  \n",
       "35    living_CD45pos       10000  \n",
       "36    living_CD45pos       15000  \n",
       "37    living_CD45neg       10000  \n",
       "38    living_CD45pos       10000  \n",
       "39    living_CD45neg       10000  "
      ]
     },
     "execution_count": 2,
     "metadata": {},
     "output_type": "execute_result"
    }
   ],
   "source": [
    "df2 = pd.read_excel(\n",
    "    '../cr_resources/sirolimus/Proben SrcX Hashing information 06.21 - 12.21.xlsx',\n",
    "    usecols = [0, 1, 2, 3, 4, 5, 6, 7]\n",
    ")\n",
    "df2.rename(\n",
    "    columns = {\n",
    "        'hashtag': 'staining_HTO'\n",
    "    },\n",
    "    inplace = True\n",
    ")\n",
    "df2 = df2.loc[\n",
    "    :, \n",
    "    ['patient_id', 'visit_id', 'sample_material', 'sample_tissue', 'sample_date', 'staining_HTO', 'sorting_criterium', 'cell_count']\n",
    "]\n",
    "df2.loc[:, 'staining_HTO'] = df2.staining_HTO.apply(\n",
    "    lambda x: f'#025{x}'\n",
    ")\n",
    "df2"
   ]
  },
  {
   "cell_type": "code",
   "execution_count": 3,
   "id": "371130dc-bdb1-4060-bedd-e468c3404ba7",
   "metadata": {},
   "outputs": [],
   "source": [
    "df = pd.concat([df1, df2])\n",
    "old_name_map = {}\n",
    "for pid in ['P15', 'P17']:\n",
    "    for old_vid, new_vid in zip(['V02', 'V10', 'V11'], ['V06', 'V14', 'V15']):\n",
    "        old_name_map['_'.join([pid, new_vid])] = '_'.join([pid, old_vid])\n",
    "        df.loc[\n",
    "            (df.patient_id == pid) & (df.visit_id == old_vid),\n",
    "            'visit_id'\n",
    "        ] = new_vid"
   ]
  },
  {
   "cell_type": "code",
   "execution_count": 4,
   "id": "76fae203-f6a1-455a-94b5-bdaa1c3172e6",
   "metadata": {},
   "outputs": [
    {
     "data": {
      "text/html": [
       "<div>\n",
       "<style scoped>\n",
       "    .dataframe tbody tr th:only-of-type {\n",
       "        vertical-align: middle;\n",
       "    }\n",
       "\n",
       "    .dataframe tbody tr th {\n",
       "        vertical-align: top;\n",
       "    }\n",
       "\n",
       "    .dataframe thead th {\n",
       "        text-align: right;\n",
       "    }\n",
       "</style>\n",
       "<table border=\"1\" class=\"dataframe\">\n",
       "  <thead>\n",
       "    <tr style=\"text-align: right;\">\n",
       "      <th></th>\n",
       "      <th>patient_id</th>\n",
       "      <th>visit_id</th>\n",
       "      <th>sample_material</th>\n",
       "      <th>sample_tissue</th>\n",
       "      <th>sample_date</th>\n",
       "      <th>staining_HTO</th>\n",
       "      <th>sorting_criterium</th>\n",
       "      <th>cell_count</th>\n",
       "    </tr>\n",
       "  </thead>\n",
       "  <tbody>\n",
       "    <tr>\n",
       "      <th>0</th>\n",
       "      <td>P02</td>\n",
       "      <td>V02</td>\n",
       "      <td>sorted_PBMC</td>\n",
       "      <td>Blood</td>\n",
       "      <td>2019-09-25</td>\n",
       "      <td>#0251</td>\n",
       "      <td>living_CD45pos</td>\n",
       "      <td>10000</td>\n",
       "    </tr>\n",
       "    <tr>\n",
       "      <th>1</th>\n",
       "      <td>P02</td>\n",
       "      <td>V02</td>\n",
       "      <td>sorted_skin</td>\n",
       "      <td>Skin_L</td>\n",
       "      <td>2019-09-25</td>\n",
       "      <td>#0254</td>\n",
       "      <td>living_CD45pos</td>\n",
       "      <td>10000</td>\n",
       "    </tr>\n",
       "    <tr>\n",
       "      <th>2</th>\n",
       "      <td>P02</td>\n",
       "      <td>V02</td>\n",
       "      <td>sorted_skin</td>\n",
       "      <td>Skin_L</td>\n",
       "      <td>2019-09-25</td>\n",
       "      <td>#0254</td>\n",
       "      <td>living_CD45neg</td>\n",
       "      <td>10000</td>\n",
       "    </tr>\n",
       "    <tr>\n",
       "      <th>3</th>\n",
       "      <td>P02</td>\n",
       "      <td>V02</td>\n",
       "      <td>sorted_skin</td>\n",
       "      <td>Skin_NL</td>\n",
       "      <td>2019-09-25</td>\n",
       "      <td>#0252</td>\n",
       "      <td>living_CD45pos</td>\n",
       "      <td>3009</td>\n",
       "    </tr>\n",
       "    <tr>\n",
       "      <th>4</th>\n",
       "      <td>P02</td>\n",
       "      <td>V02</td>\n",
       "      <td>sorted_skin</td>\n",
       "      <td>Skin_NL</td>\n",
       "      <td>2019-09-25</td>\n",
       "      <td>#0252</td>\n",
       "      <td>living_CD45neg</td>\n",
       "      <td>9560</td>\n",
       "    </tr>\n",
       "    <tr>\n",
       "      <th>...</th>\n",
       "      <td>...</td>\n",
       "      <td>...</td>\n",
       "      <td>...</td>\n",
       "      <td>...</td>\n",
       "      <td>...</td>\n",
       "      <td>...</td>\n",
       "      <td>...</td>\n",
       "      <td>...</td>\n",
       "    </tr>\n",
       "    <tr>\n",
       "      <th>139</th>\n",
       "      <td>P17</td>\n",
       "      <td>V14</td>\n",
       "      <td>sorted_skin</td>\n",
       "      <td>skinL</td>\n",
       "      <td>2021-12-15</td>\n",
       "      <td>#0254</td>\n",
       "      <td>living_CD45pos</td>\n",
       "      <td>3590</td>\n",
       "    </tr>\n",
       "    <tr>\n",
       "      <th>140</th>\n",
       "      <td>P17</td>\n",
       "      <td>V14</td>\n",
       "      <td>sorted_skin</td>\n",
       "      <td>skinL</td>\n",
       "      <td>2021-12-15</td>\n",
       "      <td>#0254</td>\n",
       "      <td>living_CD45neg</td>\n",
       "      <td>20000</td>\n",
       "    </tr>\n",
       "    <tr>\n",
       "      <th>141</th>\n",
       "      <td>P17</td>\n",
       "      <td>V15</td>\n",
       "      <td>PBMC</td>\n",
       "      <td>blood</td>\n",
       "      <td>2021-12-15</td>\n",
       "      <td>#0254</td>\n",
       "      <td>living_CD45pos</td>\n",
       "      <td>10000</td>\n",
       "    </tr>\n",
       "    <tr>\n",
       "      <th>142</th>\n",
       "      <td>P17</td>\n",
       "      <td>V15</td>\n",
       "      <td>sorted_skin</td>\n",
       "      <td>skinL</td>\n",
       "      <td>2021-12-15</td>\n",
       "      <td>#0252</td>\n",
       "      <td>living_CD45pos</td>\n",
       "      <td>5775</td>\n",
       "    </tr>\n",
       "    <tr>\n",
       "      <th>143</th>\n",
       "      <td>P17</td>\n",
       "      <td>V15</td>\n",
       "      <td>sorted_skin</td>\n",
       "      <td>skinL</td>\n",
       "      <td>2021-12-15</td>\n",
       "      <td>#0252</td>\n",
       "      <td>living_CD45neg</td>\n",
       "      <td>20000</td>\n",
       "    </tr>\n",
       "  </tbody>\n",
       "</table>\n",
       "<p>144 rows × 8 columns</p>\n",
       "</div>"
      ],
      "text/plain": [
       "    patient_id visit_id sample_material sample_tissue sample_date  \\\n",
       "0          P02      V02     sorted_PBMC         Blood  2019-09-25   \n",
       "1          P02      V02     sorted_skin        Skin_L  2019-09-25   \n",
       "2          P02      V02     sorted_skin        Skin_L  2019-09-25   \n",
       "3          P02      V02     sorted_skin       Skin_NL  2019-09-25   \n",
       "4          P02      V02     sorted_skin       Skin_NL  2019-09-25   \n",
       "..         ...      ...             ...           ...         ...   \n",
       "139        P17      V14     sorted_skin         skinL  2021-12-15   \n",
       "140        P17      V14     sorted_skin         skinL  2021-12-15   \n",
       "141        P17      V15            PBMC         blood  2021-12-15   \n",
       "142        P17      V15     sorted_skin         skinL  2021-12-15   \n",
       "143        P17      V15     sorted_skin         skinL  2021-12-15   \n",
       "\n",
       "    staining_HTO sorting_criterium cell_count  \n",
       "0          #0251    living_CD45pos      10000  \n",
       "1          #0254    living_CD45pos      10000  \n",
       "2          #0254    living_CD45neg      10000  \n",
       "3          #0252    living_CD45pos       3009  \n",
       "4          #0252    living_CD45neg       9560  \n",
       "..           ...               ...        ...  \n",
       "139        #0254    living_CD45pos       3590  \n",
       "140        #0254    living_CD45neg      20000  \n",
       "141        #0254    living_CD45pos      10000  \n",
       "142        #0252    living_CD45pos       5775  \n",
       "143        #0252    living_CD45neg      20000  \n",
       "\n",
       "[144 rows x 8 columns]"
      ]
     },
     "execution_count": 4,
     "metadata": {},
     "output_type": "execute_result"
    }
   ],
   "source": [
    "# samples removed due to dropout or missing timepoints\n",
    "remove = ['P01', 'P06', 'P07', 'P09', 'P10', 'P11']\n",
    "systemic = ['V02', 'V06', 'V14', 'V15']\n",
    "df = df.loc[\n",
    "    ~df.patient_id.isin(remove) & df.visit_id.isin(systemic),\n",
    "    :\n",
    "]\n",
    "df.sort_values(\n",
    "    by = ['patient_id', 'visit_id'],\n",
    "    inplace = True\n",
    ")\n",
    "df.reset_index(\n",
    "    drop = True,\n",
    "    inplace = True\n",
    ")\n",
    "df"
   ]
  },
  {
   "cell_type": "code",
   "execution_count": 5,
   "id": "b6fa582e-4b17-4265-a997-789353a9e6f2",
   "metadata": {},
   "outputs": [
    {
     "data": {
      "text/html": [
       "<div>\n",
       "<style scoped>\n",
       "    .dataframe tbody tr th:only-of-type {\n",
       "        vertical-align: middle;\n",
       "    }\n",
       "\n",
       "    .dataframe tbody tr th {\n",
       "        vertical-align: top;\n",
       "    }\n",
       "\n",
       "    .dataframe thead th {\n",
       "        text-align: right;\n",
       "    }\n",
       "</style>\n",
       "<table border=\"1\" class=\"dataframe\">\n",
       "  <thead>\n",
       "    <tr style=\"text-align: right;\">\n",
       "      <th></th>\n",
       "      <th>visit_id</th>\n",
       "      <th>sample_material</th>\n",
       "      <th>sample_tissue</th>\n",
       "      <th>sample_date</th>\n",
       "      <th>staining_HTO</th>\n",
       "      <th>sorting_criterium</th>\n",
       "      <th>cell_count</th>\n",
       "    </tr>\n",
       "    <tr>\n",
       "      <th>patient_id</th>\n",
       "      <th></th>\n",
       "      <th></th>\n",
       "      <th></th>\n",
       "      <th></th>\n",
       "      <th></th>\n",
       "      <th></th>\n",
       "      <th></th>\n",
       "    </tr>\n",
       "  </thead>\n",
       "  <tbody>\n",
       "    <tr>\n",
       "      <th>P02</th>\n",
       "      <td>16</td>\n",
       "      <td>16</td>\n",
       "      <td>16</td>\n",
       "      <td>16</td>\n",
       "      <td>16</td>\n",
       "      <td>16</td>\n",
       "      <td>16</td>\n",
       "    </tr>\n",
       "    <tr>\n",
       "      <th>P03</th>\n",
       "      <td>16</td>\n",
       "      <td>16</td>\n",
       "      <td>16</td>\n",
       "      <td>16</td>\n",
       "      <td>16</td>\n",
       "      <td>16</td>\n",
       "      <td>16</td>\n",
       "    </tr>\n",
       "    <tr>\n",
       "      <th>P04</th>\n",
       "      <td>16</td>\n",
       "      <td>16</td>\n",
       "      <td>16</td>\n",
       "      <td>16</td>\n",
       "      <td>16</td>\n",
       "      <td>16</td>\n",
       "      <td>16</td>\n",
       "    </tr>\n",
       "    <tr>\n",
       "      <th>P05</th>\n",
       "      <td>16</td>\n",
       "      <td>16</td>\n",
       "      <td>16</td>\n",
       "      <td>16</td>\n",
       "      <td>16</td>\n",
       "      <td>16</td>\n",
       "      <td>16</td>\n",
       "    </tr>\n",
       "    <tr>\n",
       "      <th>P08</th>\n",
       "      <td>14</td>\n",
       "      <td>14</td>\n",
       "      <td>14</td>\n",
       "      <td>14</td>\n",
       "      <td>14</td>\n",
       "      <td>14</td>\n",
       "      <td>14</td>\n",
       "    </tr>\n",
       "    <tr>\n",
       "      <th>P12</th>\n",
       "      <td>14</td>\n",
       "      <td>14</td>\n",
       "      <td>14</td>\n",
       "      <td>14</td>\n",
       "      <td>14</td>\n",
       "      <td>14</td>\n",
       "      <td>14</td>\n",
       "    </tr>\n",
       "    <tr>\n",
       "      <th>P13</th>\n",
       "      <td>14</td>\n",
       "      <td>14</td>\n",
       "      <td>14</td>\n",
       "      <td>14</td>\n",
       "      <td>14</td>\n",
       "      <td>14</td>\n",
       "      <td>14</td>\n",
       "    </tr>\n",
       "    <tr>\n",
       "      <th>P14</th>\n",
       "      <td>14</td>\n",
       "      <td>14</td>\n",
       "      <td>14</td>\n",
       "      <td>14</td>\n",
       "      <td>14</td>\n",
       "      <td>14</td>\n",
       "      <td>14</td>\n",
       "    </tr>\n",
       "    <tr>\n",
       "      <th>P15</th>\n",
       "      <td>13</td>\n",
       "      <td>13</td>\n",
       "      <td>13</td>\n",
       "      <td>13</td>\n",
       "      <td>13</td>\n",
       "      <td>13</td>\n",
       "      <td>13</td>\n",
       "    </tr>\n",
       "    <tr>\n",
       "      <th>P17</th>\n",
       "      <td>11</td>\n",
       "      <td>11</td>\n",
       "      <td>11</td>\n",
       "      <td>11</td>\n",
       "      <td>11</td>\n",
       "      <td>11</td>\n",
       "      <td>11</td>\n",
       "    </tr>\n",
       "  </tbody>\n",
       "</table>\n",
       "</div>"
      ],
      "text/plain": [
       "            visit_id  sample_material  sample_tissue  sample_date  \\\n",
       "patient_id                                                          \n",
       "P02               16               16             16           16   \n",
       "P03               16               16             16           16   \n",
       "P04               16               16             16           16   \n",
       "P05               16               16             16           16   \n",
       "P08               14               14             14           14   \n",
       "P12               14               14             14           14   \n",
       "P13               14               14             14           14   \n",
       "P14               14               14             14           14   \n",
       "P15               13               13             13           13   \n",
       "P17               11               11             11           11   \n",
       "\n",
       "            staining_HTO  sorting_criterium  cell_count  \n",
       "patient_id                                               \n",
       "P02                   16                 16          16  \n",
       "P03                   16                 16          16  \n",
       "P04                   16                 16          16  \n",
       "P05                   16                 16          16  \n",
       "P08                   14                 14          14  \n",
       "P12                   14                 14          14  \n",
       "P13                   14                 14          14  \n",
       "P14                   14                 14          14  \n",
       "P15                   13                 13          13  \n",
       "P17                   11                 11          11  "
      ]
     },
     "execution_count": 5,
     "metadata": {},
     "output_type": "execute_result"
    }
   ],
   "source": [
    "df.groupby('patient_id').count()"
   ]
  },
  {
   "cell_type": "code",
   "execution_count": 6,
   "id": "c9bb3a7b-7a6c-499f-9f1f-993fb21da232",
   "metadata": {},
   "outputs": [
    {
     "data": {
      "text/html": [
       "<div>\n",
       "<style scoped>\n",
       "    .dataframe tbody tr th:only-of-type {\n",
       "        vertical-align: middle;\n",
       "    }\n",
       "\n",
       "    .dataframe tbody tr th {\n",
       "        vertical-align: top;\n",
       "    }\n",
       "\n",
       "    .dataframe thead th {\n",
       "        text-align: right;\n",
       "    }\n",
       "</style>\n",
       "<table border=\"1\" class=\"dataframe\">\n",
       "  <thead>\n",
       "    <tr style=\"text-align: right;\">\n",
       "      <th></th>\n",
       "      <th>patient_id</th>\n",
       "      <th>visit_id</th>\n",
       "      <th>sample_material</th>\n",
       "      <th>sample_tissue</th>\n",
       "      <th>sample_date</th>\n",
       "      <th>staining_HTO</th>\n",
       "      <th>sorting_criterium</th>\n",
       "      <th>cell_count</th>\n",
       "    </tr>\n",
       "  </thead>\n",
       "  <tbody>\n",
       "    <tr>\n",
       "      <th>120</th>\n",
       "      <td>P15</td>\n",
       "      <td>V06</td>\n",
       "      <td>sorted_PBMC</td>\n",
       "      <td>Blood</td>\n",
       "      <td>2021-06-29</td>\n",
       "      <td>#0251</td>\n",
       "      <td>living_CD45pos</td>\n",
       "      <td>10000</td>\n",
       "    </tr>\n",
       "    <tr>\n",
       "      <th>121</th>\n",
       "      <td>P15</td>\n",
       "      <td>V06</td>\n",
       "      <td>sorted_skin</td>\n",
       "      <td>Skin_L</td>\n",
       "      <td>2021-06-29</td>\n",
       "      <td>#0253</td>\n",
       "      <td>living_CD45pos</td>\n",
       "      <td>20000</td>\n",
       "    </tr>\n",
       "    <tr>\n",
       "      <th>122</th>\n",
       "      <td>P15</td>\n",
       "      <td>V06</td>\n",
       "      <td>sorted_skin</td>\n",
       "      <td>Skin_L</td>\n",
       "      <td>2021-06-29</td>\n",
       "      <td>#0253</td>\n",
       "      <td>living_CD45neg</td>\n",
       "      <td>20000</td>\n",
       "    </tr>\n",
       "    <tr>\n",
       "      <th>123</th>\n",
       "      <td>P15</td>\n",
       "      <td>V06</td>\n",
       "      <td>sorted_skin</td>\n",
       "      <td>Skin_NL</td>\n",
       "      <td>2021-06-29</td>\n",
       "      <td>#0253</td>\n",
       "      <td>living_CD45pos</td>\n",
       "      <td>20000</td>\n",
       "    </tr>\n",
       "    <tr>\n",
       "      <th>124</th>\n",
       "      <td>P15</td>\n",
       "      <td>V06</td>\n",
       "      <td>sorted_skin</td>\n",
       "      <td>Skin_NL</td>\n",
       "      <td>2021-06-29</td>\n",
       "      <td>#0253</td>\n",
       "      <td>living_CD45neg</td>\n",
       "      <td>20000</td>\n",
       "    </tr>\n",
       "    <tr>\n",
       "      <th>125</th>\n",
       "      <td>P15</td>\n",
       "      <td>V14</td>\n",
       "      <td>PBMC</td>\n",
       "      <td>blood</td>\n",
       "      <td>2021-11-19</td>\n",
       "      <td>#0251</td>\n",
       "      <td>living_CD45pos</td>\n",
       "      <td>10000</td>\n",
       "    </tr>\n",
       "    <tr>\n",
       "      <th>126</th>\n",
       "      <td>P15</td>\n",
       "      <td>V14</td>\n",
       "      <td>sorted_skin</td>\n",
       "      <td>skinL1</td>\n",
       "      <td>2021-11-19</td>\n",
       "      <td>#0253</td>\n",
       "      <td>living_CD45pos</td>\n",
       "      <td>15000</td>\n",
       "    </tr>\n",
       "    <tr>\n",
       "      <th>127</th>\n",
       "      <td>P15</td>\n",
       "      <td>V14</td>\n",
       "      <td>sorted_skin</td>\n",
       "      <td>skinL1</td>\n",
       "      <td>2021-11-19</td>\n",
       "      <td>#0253</td>\n",
       "      <td>living_CD45neg</td>\n",
       "      <td>10000</td>\n",
       "    </tr>\n",
       "    <tr>\n",
       "      <th>128</th>\n",
       "      <td>P15</td>\n",
       "      <td>V14</td>\n",
       "      <td>sorted_skin</td>\n",
       "      <td>skinL2</td>\n",
       "      <td>2021-11-19</td>\n",
       "      <td>#0252</td>\n",
       "      <td>living_CD45pos</td>\n",
       "      <td>10000</td>\n",
       "    </tr>\n",
       "    <tr>\n",
       "      <th>129</th>\n",
       "      <td>P15</td>\n",
       "      <td>V14</td>\n",
       "      <td>sorted_skin</td>\n",
       "      <td>skinL2</td>\n",
       "      <td>2021-11-19</td>\n",
       "      <td>#0252</td>\n",
       "      <td>living_CD45neg</td>\n",
       "      <td>10000</td>\n",
       "    </tr>\n",
       "    <tr>\n",
       "      <th>130</th>\n",
       "      <td>P15</td>\n",
       "      <td>V15</td>\n",
       "      <td>PBMC</td>\n",
       "      <td>blood</td>\n",
       "      <td>2021-12-07</td>\n",
       "      <td>#0254</td>\n",
       "      <td>living_CD45pos</td>\n",
       "      <td>10000</td>\n",
       "    </tr>\n",
       "    <tr>\n",
       "      <th>131</th>\n",
       "      <td>P15</td>\n",
       "      <td>V15</td>\n",
       "      <td>sorted_skin</td>\n",
       "      <td>skinL</td>\n",
       "      <td>2021-12-07</td>\n",
       "      <td>#0253</td>\n",
       "      <td>living_CD45pos</td>\n",
       "      <td>20000</td>\n",
       "    </tr>\n",
       "    <tr>\n",
       "      <th>132</th>\n",
       "      <td>P15</td>\n",
       "      <td>V15</td>\n",
       "      <td>sorted_skin</td>\n",
       "      <td>skinL</td>\n",
       "      <td>2021-12-07</td>\n",
       "      <td>#0253</td>\n",
       "      <td>living_CD45neg</td>\n",
       "      <td>20000</td>\n",
       "    </tr>\n",
       "  </tbody>\n",
       "</table>\n",
       "</div>"
      ],
      "text/plain": [
       "    patient_id visit_id sample_material sample_tissue sample_date  \\\n",
       "120        P15      V06     sorted_PBMC         Blood  2021-06-29   \n",
       "121        P15      V06     sorted_skin        Skin_L  2021-06-29   \n",
       "122        P15      V06     sorted_skin        Skin_L  2021-06-29   \n",
       "123        P15      V06     sorted_skin       Skin_NL  2021-06-29   \n",
       "124        P15      V06     sorted_skin       Skin_NL  2021-06-29   \n",
       "125        P15      V14            PBMC         blood  2021-11-19   \n",
       "126        P15      V14     sorted_skin        skinL1  2021-11-19   \n",
       "127        P15      V14     sorted_skin        skinL1  2021-11-19   \n",
       "128        P15      V14     sorted_skin        skinL2  2021-11-19   \n",
       "129        P15      V14     sorted_skin        skinL2  2021-11-19   \n",
       "130        P15      V15            PBMC         blood  2021-12-07   \n",
       "131        P15      V15     sorted_skin         skinL  2021-12-07   \n",
       "132        P15      V15     sorted_skin         skinL  2021-12-07   \n",
       "\n",
       "    staining_HTO sorting_criterium cell_count  \n",
       "120        #0251    living_CD45pos      10000  \n",
       "121        #0253    living_CD45pos      20000  \n",
       "122        #0253    living_CD45neg      20000  \n",
       "123        #0253    living_CD45pos      20000  \n",
       "124        #0253    living_CD45neg      20000  \n",
       "125        #0251    living_CD45pos      10000  \n",
       "126        #0253    living_CD45pos      15000  \n",
       "127        #0253    living_CD45neg      10000  \n",
       "128        #0252    living_CD45pos      10000  \n",
       "129        #0252    living_CD45neg      10000  \n",
       "130        #0254    living_CD45pos      10000  \n",
       "131        #0253    living_CD45pos      20000  \n",
       "132        #0253    living_CD45neg      20000  "
      ]
     },
     "execution_count": 6,
     "metadata": {},
     "output_type": "execute_result"
    }
   ],
   "source": [
    "df.loc[df.patient_id == 'P15']"
   ]
  },
  {
   "cell_type": "code",
   "execution_count": 7,
   "id": "14d99210-31af-4a76-b39e-6ee9f96034e7",
   "metadata": {},
   "outputs": [
    {
     "data": {
      "text/html": [
       "<div>\n",
       "<style scoped>\n",
       "    .dataframe tbody tr th:only-of-type {\n",
       "        vertical-align: middle;\n",
       "    }\n",
       "\n",
       "    .dataframe tbody tr th {\n",
       "        vertical-align: top;\n",
       "    }\n",
       "\n",
       "    .dataframe thead th {\n",
       "        text-align: right;\n",
       "    }\n",
       "</style>\n",
       "<table border=\"1\" class=\"dataframe\">\n",
       "  <thead>\n",
       "    <tr style=\"text-align: right;\">\n",
       "      <th></th>\n",
       "      <th>patient_id</th>\n",
       "      <th>visit_id</th>\n",
       "      <th>sample_material</th>\n",
       "      <th>sample_tissue</th>\n",
       "      <th>sample_date</th>\n",
       "      <th>staining_HTO</th>\n",
       "      <th>sorting_criterium</th>\n",
       "      <th>cell_count</th>\n",
       "    </tr>\n",
       "  </thead>\n",
       "  <tbody>\n",
       "    <tr>\n",
       "      <th>0</th>\n",
       "      <td>P02</td>\n",
       "      <td>V02</td>\n",
       "      <td>sorted_PBMC</td>\n",
       "      <td>Blood</td>\n",
       "      <td>2019-09-25</td>\n",
       "      <td>AB0251</td>\n",
       "      <td>living_CD45pos</td>\n",
       "      <td>10000</td>\n",
       "    </tr>\n",
       "    <tr>\n",
       "      <th>1</th>\n",
       "      <td>P02</td>\n",
       "      <td>V02</td>\n",
       "      <td>sorted_skin</td>\n",
       "      <td>Skin_L</td>\n",
       "      <td>2019-09-25</td>\n",
       "      <td>AB0254</td>\n",
       "      <td>living_CD45pos</td>\n",
       "      <td>10000</td>\n",
       "    </tr>\n",
       "    <tr>\n",
       "      <th>2</th>\n",
       "      <td>P02</td>\n",
       "      <td>V02</td>\n",
       "      <td>sorted_skin</td>\n",
       "      <td>Skin_L</td>\n",
       "      <td>2019-09-25</td>\n",
       "      <td>AB0254</td>\n",
       "      <td>living_CD45neg</td>\n",
       "      <td>10000</td>\n",
       "    </tr>\n",
       "    <tr>\n",
       "      <th>3</th>\n",
       "      <td>P02</td>\n",
       "      <td>V02</td>\n",
       "      <td>sorted_skin</td>\n",
       "      <td>Skin_NL</td>\n",
       "      <td>2019-09-25</td>\n",
       "      <td>AB0252</td>\n",
       "      <td>living_CD45pos</td>\n",
       "      <td>3009</td>\n",
       "    </tr>\n",
       "    <tr>\n",
       "      <th>4</th>\n",
       "      <td>P02</td>\n",
       "      <td>V02</td>\n",
       "      <td>sorted_skin</td>\n",
       "      <td>Skin_NL</td>\n",
       "      <td>2019-09-25</td>\n",
       "      <td>AB0252</td>\n",
       "      <td>living_CD45neg</td>\n",
       "      <td>9560</td>\n",
       "    </tr>\n",
       "    <tr>\n",
       "      <th>...</th>\n",
       "      <td>...</td>\n",
       "      <td>...</td>\n",
       "      <td>...</td>\n",
       "      <td>...</td>\n",
       "      <td>...</td>\n",
       "      <td>...</td>\n",
       "      <td>...</td>\n",
       "      <td>...</td>\n",
       "    </tr>\n",
       "    <tr>\n",
       "      <th>139</th>\n",
       "      <td>P17</td>\n",
       "      <td>V14</td>\n",
       "      <td>sorted_skin</td>\n",
       "      <td>Skin_L</td>\n",
       "      <td>2021-12-15</td>\n",
       "      <td>AB0254</td>\n",
       "      <td>living_CD45pos</td>\n",
       "      <td>3590</td>\n",
       "    </tr>\n",
       "    <tr>\n",
       "      <th>140</th>\n",
       "      <td>P17</td>\n",
       "      <td>V14</td>\n",
       "      <td>sorted_skin</td>\n",
       "      <td>Skin_L</td>\n",
       "      <td>2021-12-15</td>\n",
       "      <td>AB0254</td>\n",
       "      <td>living_CD45neg</td>\n",
       "      <td>20000</td>\n",
       "    </tr>\n",
       "    <tr>\n",
       "      <th>141</th>\n",
       "      <td>P17</td>\n",
       "      <td>V15</td>\n",
       "      <td>PBMC</td>\n",
       "      <td>Blood</td>\n",
       "      <td>2021-12-15</td>\n",
       "      <td>AB0254</td>\n",
       "      <td>living_CD45pos</td>\n",
       "      <td>10000</td>\n",
       "    </tr>\n",
       "    <tr>\n",
       "      <th>142</th>\n",
       "      <td>P17</td>\n",
       "      <td>V15</td>\n",
       "      <td>sorted_skin</td>\n",
       "      <td>Skin_L</td>\n",
       "      <td>2021-12-15</td>\n",
       "      <td>AB0252</td>\n",
       "      <td>living_CD45pos</td>\n",
       "      <td>5775</td>\n",
       "    </tr>\n",
       "    <tr>\n",
       "      <th>143</th>\n",
       "      <td>P17</td>\n",
       "      <td>V15</td>\n",
       "      <td>sorted_skin</td>\n",
       "      <td>Skin_L</td>\n",
       "      <td>2021-12-15</td>\n",
       "      <td>AB0252</td>\n",
       "      <td>living_CD45neg</td>\n",
       "      <td>20000</td>\n",
       "    </tr>\n",
       "  </tbody>\n",
       "</table>\n",
       "<p>144 rows × 8 columns</p>\n",
       "</div>"
      ],
      "text/plain": [
       "    patient_id visit_id sample_material sample_tissue sample_date  \\\n",
       "0          P02      V02     sorted_PBMC         Blood  2019-09-25   \n",
       "1          P02      V02     sorted_skin        Skin_L  2019-09-25   \n",
       "2          P02      V02     sorted_skin        Skin_L  2019-09-25   \n",
       "3          P02      V02     sorted_skin       Skin_NL  2019-09-25   \n",
       "4          P02      V02     sorted_skin       Skin_NL  2019-09-25   \n",
       "..         ...      ...             ...           ...         ...   \n",
       "139        P17      V14     sorted_skin        Skin_L  2021-12-15   \n",
       "140        P17      V14     sorted_skin        Skin_L  2021-12-15   \n",
       "141        P17      V15            PBMC         Blood  2021-12-15   \n",
       "142        P17      V15     sorted_skin        Skin_L  2021-12-15   \n",
       "143        P17      V15     sorted_skin        Skin_L  2021-12-15   \n",
       "\n",
       "    staining_HTO sorting_criterium cell_count  \n",
       "0         AB0251    living_CD45pos      10000  \n",
       "1         AB0254    living_CD45pos      10000  \n",
       "2         AB0254    living_CD45neg      10000  \n",
       "3         AB0252    living_CD45pos       3009  \n",
       "4         AB0252    living_CD45neg       9560  \n",
       "..           ...               ...        ...  \n",
       "139       AB0254    living_CD45pos       3590  \n",
       "140       AB0254    living_CD45neg      20000  \n",
       "141       AB0254    living_CD45pos      10000  \n",
       "142       AB0252    living_CD45pos       5775  \n",
       "143       AB0252    living_CD45neg      20000  \n",
       "\n",
       "[144 rows x 8 columns]"
      ]
     },
     "execution_count": 7,
     "metadata": {},
     "output_type": "execute_result"
    }
   ],
   "source": [
    "rename = {\n",
    "    'skinL': 'Skin_L',\n",
    "    'skinL1': 'Skin_L_Knee',\n",
    "    'skinL2': 'Skin_L_Ankle',\n",
    "    'skinNL': 'Skin_NL',\n",
    "    'blood': 'Blood'\n",
    "}\n",
    "df.loc[:, 'sample_tissue'] = df.sample_tissue.apply(\n",
    "    lambda x: rename[x] if x in rename else x\n",
    ")\n",
    "df.loc[\n",
    "    (df.patient_id == 'P15') & (df.visit_id == 'V06') & (df.sample_tissue == 'Skin_NL'),\n",
    "    'staining_HTO'\n",
    "] = '#0252'\n",
    "\n",
    "# necessary since cellranger does not like # in the names\n",
    "df.loc[:, 'staining_HTO'] = df.staining_HTO.apply(\n",
    "    lambda x: x.replace('#', 'AB')\n",
    ")\n",
    "df"
   ]
  },
  {
   "cell_type": "code",
   "execution_count": 8,
   "id": "f296114f-5eed-49ed-ac5f-f65dd0cbe433",
   "metadata": {},
   "outputs": [
    {
     "data": {
      "text/plain": [
       "array(['V02', 'V06', 'V14', 'V15'], dtype=object)"
      ]
     },
     "execution_count": 8,
     "metadata": {},
     "output_type": "execute_result"
    }
   ],
   "source": [
    "df.visit_id.unique()"
   ]
  },
  {
   "cell_type": "code",
   "execution_count": 9,
   "id": "bfe15ac2-4ebd-478c-9428-a77a991afad4",
   "metadata": {},
   "outputs": [
    {
     "name": "stdout",
     "output_type": "stream",
     "text": [
      "AB0251,{name},R2,5P(BC),GTCAACTCTTTAGCG,Multiplexing Capture\n",
      "\n",
      "AB0252,{name},R2,5P(BC),TGATGGCCTATTGGG,Multiplexing Capture\n",
      "\n",
      "AB0253,{name},R2,5P(BC),TTCCGCCTCTCTTTG,Multiplexing Capture\n",
      "\n",
      "AB0254,{name},R2,5P(BC),AGTAAGTTCAGCGTA,Multiplexing Capture\n",
      "\n"
     ]
    },
    {
     "data": {
      "text/plain": [
       "({'AB0251': 'AB0251,{name},R2,5P(BC),GTCAACTCTTTAGCG,Multiplexing Capture\\n',\n",
       "  'AB0252': 'AB0252,{name},R2,5P(BC),TGATGGCCTATTGGG,Multiplexing Capture\\n',\n",
       "  'AB0253': 'AB0253,{name},R2,5P(BC),TTCCGCCTCTCTTTG,Multiplexing Capture\\n',\n",
       "  'AB0254': 'AB0254,{name},R2,5P(BC),AGTAAGTTCAGCGTA,Multiplexing Capture\\n'},\n",
       " 'id,name,read,pattern,sequence,feature_type\\n')"
      ]
     },
     "execution_count": 9,
     "metadata": {},
     "output_type": "execute_result"
    }
   ],
   "source": [
    "hto_cmo_ref = {}\n",
    "with open('../cr_resources/hto_cmo_ref_totalseqA.csv') as f:\n",
    "    header = f.readline()\n",
    "    for line in f:\n",
    "        line = line.split(',')\n",
    "        k = line[0]\n",
    "        line[1] = '{name}'\n",
    "        hto_cmo_ref[k] = ','.join(line)\n",
    "        print(','.join(line))\n",
    "        \n",
    "hto_cmo_ref, header"
   ]
  },
  {
   "cell_type": "code",
   "execution_count": 10,
   "id": "61cdf88c-dedd-4dd8-bf7e-ab3267641ec4",
   "metadata": {},
   "outputs": [
    {
     "data": {
      "text/plain": [
       "'[gene-expression]\\nreference,/resources/references/10x/refdata-cellranger-GRCh38-3.0.0\\ncmo-set,/groups/pavri/bioinfo/daniel/scStary/cr_resources/{resource_dir}/hto_cmo_ref_{hto_cmo_ref_id}.csv\\n\\n[libraries]\\nfastq_id,fastqs,feature_types\\n{sample_name}_gex,{gex_fastq_prefix},Gene Expression\\n{sample_name}_mux,{mux_fastq_prefix},Multiplexing Capture\\n\\n[samples]\\nsample_id,cmo_ids\\n'"
      ]
     },
     "execution_count": 10,
     "metadata": {},
     "output_type": "execute_result"
    }
   ],
   "source": [
    "with open('../cr_resources/hto_demux_config.conf') as f:\n",
    "    config_file = f.read()\n",
    "config_file"
   ]
  },
  {
   "cell_type": "code",
   "execution_count": 11,
   "id": "f2606d31-8a7f-494c-b792-0bea16576072",
   "metadata": {},
   "outputs": [
    {
     "data": {
      "text/plain": [
       "{'P15_V06': 'P15_V02',\n",
       " 'P15_V14': 'P15_V10',\n",
       " 'P15_V15': 'P15_V11',\n",
       " 'P17_V06': 'P17_V02',\n",
       " 'P17_V14': 'P17_V10',\n",
       " 'P17_V15': 'P17_V11'}"
      ]
     },
     "execution_count": 11,
     "metadata": {},
     "output_type": "execute_result"
    }
   ],
   "source": [
    "old_name_map"
   ]
  },
  {
   "cell_type": "code",
   "execution_count": 12,
   "id": "1898352f-0d06-4d68-bb75-1303eeffeb96",
   "metadata": {},
   "outputs": [],
   "source": [
    "cmo_refs_sample = {}\n",
    "for pvid, sample_df in df.groupby(['patient_id', 'visit_id']):\n",
    "    tmp = sample_df.loc[\n",
    "        :,\n",
    "        ['staining_HTO', 'sample_tissue']\n",
    "    ].drop_duplicates()\n",
    "    k = ','.join(tmp.apply(lambda x: ':'.join(x), axis = 1))\n",
    "    pvid = '_'.join(pvid)\n",
    "    if not k in cmo_refs_sample:\n",
    "        cmo_refs_sample[k] = set([pvid])\n",
    "    \n",
    "    else:\n",
    "        cmo_refs_sample[k].add(pvid)"
   ]
  },
  {
   "cell_type": "code",
   "execution_count": 13,
   "id": "ae1cfc8b-12ac-45d4-8575-90522880f8ce",
   "metadata": {
    "tags": []
   },
   "outputs": [
    {
     "data": {
      "image/png": "[encoded data removed]",
      "text/plain": [
       "<Figure size 1440x216 with 1 Axes>"
      ]
     },
     "metadata": {
      "needs_background": "light"
     },
     "output_type": "display_data"
    }
   ],
   "source": [
    "import matplotlib.pyplot as plt\n",
    "import numpy as np\n",
    "\n",
    "fig, ax = plt.subplots()\n",
    "a = np.zeros((4, 38))\n",
    "idx = {\n",
    "    'AB0251': 0,\n",
    "    'AB0252': 1,\n",
    "    'AB0253': 2,\n",
    "    'AB0254': 3\n",
    "}\n",
    "samples = []\n",
    "j = 0\n",
    "for k, v in cmo_refs_sample.items():\n",
    "    for sample in v:\n",
    "        samples.append(sample)\n",
    "        for cmo in k.split(','):\n",
    "            a[idx[cmo.split(':')[0]], j] = 1\n",
    "        \n",
    "        j += 1\n",
    "        \n",
    "ax.imshow(a, vmin = 0, vmax = 1, cmap = 'Greys')\n",
    "ax.set_yticks(range(4))\n",
    "ax.set_yticklabels([k for k in idx], fontsize = 18)\n",
    "ax.set_xticks(range(len(samples)))\n",
    "ax.set_xticklabels(samples, rotation = 90, fontsize = 18)\n",
    "ax.set_title('Cellplex antibody assignment', fontsize = 20)\n",
    "fig.set_figheight(3)\n",
    "fig.set_figwidth(20)\n",
    "fig.tight_layout()"
   ]
  },
  {
   "cell_type": "code",
   "execution_count": 12,
   "id": "573a41c7-459f-4346-97ea-87e981f83249",
   "metadata": {},
   "outputs": [
    {
     "data": {
      "text/plain": [
       "[['P03_V02', 'hto_cmo_ref_0.csv', 'hto_demux_config_P03_V02.conf'],\n",
       " ['P02_V02', 'hto_cmo_ref_0.csv', 'hto_demux_config_P02_V02.conf'],\n",
       " ['P05_V02', 'hto_cmo_ref_0.csv', 'hto_demux_config_P05_V02.conf'],\n",
       " ['P04_V02', 'hto_cmo_ref_0.csv', 'hto_demux_config_P04_V02.conf'],\n",
       " ['P13_V02', 'hto_cmo_ref_1.csv', 'hto_demux_config_P13_V02.conf'],\n",
       " ['P12_V02', 'hto_cmo_ref_1.csv', 'hto_demux_config_P12_V02.conf'],\n",
       " ['P04_V06', 'hto_cmo_ref_1.csv', 'hto_demux_config_P04_V06.conf'],\n",
       " ['P02_V06', 'hto_cmo_ref_1.csv', 'hto_demux_config_P02_V06.conf'],\n",
       " ['P05_V06', 'hto_cmo_ref_1.csv', 'hto_demux_config_P05_V06.conf'],\n",
       " ['P03_V06', 'hto_cmo_ref_1.csv', 'hto_demux_config_P03_V06.conf'],\n",
       " ['P15_V06', 'hto_cmo_ref_1.csv', 'hto_demux_config_P15_V06.conf'],\n",
       " ['P17_V06', 'hto_cmo_ref_1.csv', 'hto_demux_config_P17_V06.conf'],\n",
       " ['P08_V02', 'hto_cmo_ref_1.csv', 'hto_demux_config_P08_V02.conf'],\n",
       " ['P14_V02', 'hto_cmo_ref_1.csv', 'hto_demux_config_P14_V02.conf'],\n",
       " ['P03_V15', 'hto_cmo_ref_2.csv', 'hto_demux_config_P03_V15.conf'],\n",
       " ['P05_V14', 'hto_cmo_ref_2.csv', 'hto_demux_config_P05_V14.conf'],\n",
       " ['P14_V06', 'hto_cmo_ref_2.csv', 'hto_demux_config_P14_V06.conf'],\n",
       " ['P08_V06', 'hto_cmo_ref_2.csv', 'hto_demux_config_P08_V06.conf'],\n",
       " ['P12_V15', 'hto_cmo_ref_2.csv', 'hto_demux_config_P12_V15.conf'],\n",
       " ['P12_V06', 'hto_cmo_ref_2.csv', 'hto_demux_config_P12_V06.conf'],\n",
       " ['P05_V15', 'hto_cmo_ref_2.csv', 'hto_demux_config_P05_V15.conf'],\n",
       " ['P04_V15', 'hto_cmo_ref_2.csv', 'hto_demux_config_P04_V15.conf'],\n",
       " ['P02_V15', 'hto_cmo_ref_2.csv', 'hto_demux_config_P02_V15.conf'],\n",
       " ['P13_V15', 'hto_cmo_ref_2.csv', 'hto_demux_config_P13_V15.conf'],\n",
       " ['P04_V14', 'hto_cmo_ref_2.csv', 'hto_demux_config_P04_V14.conf'],\n",
       " ['P08_V14', 'hto_cmo_ref_2.csv', 'hto_demux_config_P08_V14.conf'],\n",
       " ['P03_V14', 'hto_cmo_ref_2.csv', 'hto_demux_config_P03_V14.conf'],\n",
       " ['P13_V14', 'hto_cmo_ref_2.csv', 'hto_demux_config_P13_V14.conf'],\n",
       " ['P13_V06', 'hto_cmo_ref_2.csv', 'hto_demux_config_P13_V06.conf'],\n",
       " ['P14_V14', 'hto_cmo_ref_2.csv', 'hto_demux_config_P14_V14.conf'],\n",
       " ['P12_V14', 'hto_cmo_ref_2.csv', 'hto_demux_config_P12_V14.conf'],\n",
       " ['P02_V14', 'hto_cmo_ref_2.csv', 'hto_demux_config_P02_V14.conf'],\n",
       " ['P08_V15', 'hto_cmo_ref_3.csv', 'hto_demux_config_P08_V15.conf'],\n",
       " ['P14_V15', 'hto_cmo_ref_4.csv', 'hto_demux_config_P14_V15.conf'],\n",
       " ['P17_V15', 'hto_cmo_ref_4.csv', 'hto_demux_config_P17_V15.conf'],\n",
       " ['P15_V14', 'hto_cmo_ref_5.csv', 'hto_demux_config_P15_V14.conf'],\n",
       " ['P15_V15', 'hto_cmo_ref_6.csv', 'hto_demux_config_P15_V15.conf'],\n",
       " ['P17_V14', 'hto_cmo_ref_7.csv', 'hto_demux_config_P17_V14.conf']]"
      ]
     },
     "execution_count": 12,
     "metadata": {},
     "output_type": "execute_result"
    }
   ],
   "source": [
    "import glob\n",
    "import os\n",
    "\n",
    "file_assignments = []\n",
    "resource_dir = 'sirolimus'\n",
    "for i, (k, v) in enumerate(cmo_refs_sample.items()):\n",
    "    cmos = k.split(',')\n",
    "    hto_cmo_ref_content = header\n",
    "    config_content = config_file\n",
    "    for cmo, name in [cmo.split(':') for cmo in cmos]:\n",
    "        hto_cmo_ref_content += hto_cmo_ref[cmo].format(name = name)\n",
    "        config_content += ','.join([name, cmo]) + '\\n'\n",
    "    \n",
    "    hto_cmo_ref_file = f'hto_cmo_ref_{i}.csv'\n",
    "    with open(f'../cr_resources/{resource_dir}/{hto_cmo_ref_file}', 'w') as f:\n",
    "        f.write(hto_cmo_ref_content)\n",
    "        \n",
    "    for pvid in v:\n",
    "        old_pvid = old_name_map[pvid] if pvid in old_name_map else pvid\n",
    "        suffix = ''\n",
    "        if pvid == 'P15_V14':\n",
    "            suffix = '383'\n",
    "        \n",
    "        elif pvid == 'P15_V15':\n",
    "            suffix = '392'\n",
    "            \n",
    "        for s in [pvid, old_pvid]:\n",
    "            gex_data = glob.glob(f'/scratch/daniel.malzl/SRCX/*{s}_TK{suffix}*')\n",
    "            mux_data = glob.glob(f'/scratch/daniel.malzl/SRCX/*{s}_HTO_TK{suffix}*')\n",
    "            \n",
    "            if gex_data and mux_data:\n",
    "                break\n",
    "        \n",
    "        data_paths = {}\n",
    "        sample_name = f'SrcX_{pvid}'\n",
    "        for data_type, data_files in zip(\n",
    "            ['gex', 'mux'],\n",
    "            [gex_data, mux_data]\n",
    "        ):\n",
    "            directory = f'/scratch/daniel.malzl/srcx_data/{sample_name}_{data_type}'\n",
    "            if not os.path.exists(directory):\n",
    "                os.mkdir(directory)\n",
    "            \n",
    "            data_paths[data_type] = directory\n",
    "                \n",
    "            for source in data_files:\n",
    "                basename = os.path.basename(source)\n",
    "                suffix = '_'.join(basename.split('_')[-4:])\n",
    "                destination = f'{directory}/{sample_name}_{data_type}_{suffix}'\n",
    "                \n",
    "                if not os.path.exists(destination):\n",
    "                    os.symlink(\n",
    "                        source,\n",
    "                        destination\n",
    "                    )\n",
    "        \n",
    "        sample_config_content = config_content.format(\n",
    "            resource_dir = resource_dir,\n",
    "            hto_cmo_ref_id = i,\n",
    "            sample_name = sample_name,\n",
    "            gex_fastq_prefix = data_paths['gex'],\n",
    "            mux_fastq_prefix = data_paths['mux']\n",
    "        )\n",
    "        config_file_name = f'hto_demux_config_{pvid}.conf'\n",
    "        with open(f'../cr_resources/{resource_dir}/{config_file_name}', 'w') as f:\n",
    "            f.write(sample_config_content)\n",
    "            \n",
    "        file_assignments.append(\n",
    "            [pvid, hto_cmo_ref_file, config_file_name]\n",
    "        )\n",
    "\n",
    "with open(f'../cr_resources/{resource_dir}/sample_hto_demux.csv', 'w') as f:\n",
    "    f.write(\n",
    "        '\\n'.join(\n",
    "            [','.join(l) for l in file_assignments]\n",
    "        )\n",
    "    )\n",
    "file_assignments"
   ]
  },
  {
   "cell_type": "code",
   "execution_count": 64,
   "id": "9900ad2a-aa16-4a69-92e5-a3f7071b01c4",
   "metadata": {},
   "outputs": [
    {
     "data": {
      "text/plain": [
       "38"
      ]
     },
     "execution_count": 64,
     "metadata": {},
     "output_type": "execute_result"
    }
   ],
   "source": [
    "len(file_assignments)"
   ]
  },
  {
   "cell_type": "markdown",
   "id": "2044a42d-cd91-40ac-8e56-740287292029",
   "metadata": {},
   "source": [
    "# aggregate data\n",
    "aggr did not work for whatever reason but we anyway have the filtered data so we do it manually using scanpy. run after `cellranger multi`"
   ]
  },
  {
   "cell_type": "code",
   "execution_count": 13,
   "id": "d0d6099a-6ab5-44ca-82c8-87aaf1bb3098",
   "metadata": {},
   "outputs": [
    {
     "name": "stdout",
     "output_type": "stream",
     "text": [
      "P02 V02 Blood\n"
     ]
    },
    {
     "name": "stderr",
     "output_type": "stream",
     "text": [
      "/users/daniel.malzl/.conda/envs/scpython/lib/python3.9/site-packages/anndata/_core/anndata.py:1830: UserWarning: Variable names are not unique. To make them unique, call `.var_names_make_unique`.\n",
      "  utils.warn_names_duplicates(\"var\")\n"
     ]
    },
    {
     "name": "stdout",
     "output_type": "stream",
     "text": [
      "P02 V02 Skin_L\n"
     ]
    },
    {
     "name": "stderr",
     "output_type": "stream",
     "text": [
      "/users/daniel.malzl/.conda/envs/scpython/lib/python3.9/site-packages/anndata/_core/anndata.py:1830: UserWarning: Variable names are not unique. To make them unique, call `.var_names_make_unique`.\n",
      "  utils.warn_names_duplicates(\"var\")\n"
     ]
    },
    {
     "name": "stdout",
     "output_type": "stream",
     "text": [
      "P02 V02 Skin_NL\n"
     ]
    },
    {
     "name": "stderr",
     "output_type": "stream",
     "text": [
      "/users/daniel.malzl/.conda/envs/scpython/lib/python3.9/site-packages/anndata/_core/anndata.py:1830: UserWarning: Variable names are not unique. To make them unique, call `.var_names_make_unique`.\n",
      "  utils.warn_names_duplicates(\"var\")\n"
     ]
    },
    {
     "name": "stdout",
     "output_type": "stream",
     "text": [
      "P02 V06 Blood\n"
     ]
    },
    {
     "name": "stderr",
     "output_type": "stream",
     "text": [
      "/users/daniel.malzl/.conda/envs/scpython/lib/python3.9/site-packages/anndata/_core/anndata.py:1830: UserWarning: Variable names are not unique. To make them unique, call `.var_names_make_unique`.\n",
      "  utils.warn_names_duplicates(\"var\")\n"
     ]
    },
    {
     "name": "stdout",
     "output_type": "stream",
     "text": [
      "P02 V06 Skin_L\n"
     ]
    },
    {
     "name": "stderr",
     "output_type": "stream",
     "text": [
      "/users/daniel.malzl/.conda/envs/scpython/lib/python3.9/site-packages/anndata/_core/anndata.py:1830: UserWarning: Variable names are not unique. To make them unique, call `.var_names_make_unique`.\n",
      "  utils.warn_names_duplicates(\"var\")\n"
     ]
    },
    {
     "name": "stdout",
     "output_type": "stream",
     "text": [
      "P02 V06 Skin_NL\n"
     ]
    },
    {
     "name": "stderr",
     "output_type": "stream",
     "text": [
      "/users/daniel.malzl/.conda/envs/scpython/lib/python3.9/site-packages/anndata/_core/anndata.py:1830: UserWarning: Variable names are not unique. To make them unique, call `.var_names_make_unique`.\n",
      "  utils.warn_names_duplicates(\"var\")\n"
     ]
    },
    {
     "name": "stdout",
     "output_type": "stream",
     "text": [
      "P02 V14 Blood\n"
     ]
    },
    {
     "name": "stderr",
     "output_type": "stream",
     "text": [
      "/users/daniel.malzl/.conda/envs/scpython/lib/python3.9/site-packages/anndata/_core/anndata.py:1830: UserWarning: Variable names are not unique. To make them unique, call `.var_names_make_unique`.\n",
      "  utils.warn_names_duplicates(\"var\")\n"
     ]
    },
    {
     "name": "stdout",
     "output_type": "stream",
     "text": [
      "P02 V14 Skin_L\n"
     ]
    },
    {
     "name": "stderr",
     "output_type": "stream",
     "text": [
      "/users/daniel.malzl/.conda/envs/scpython/lib/python3.9/site-packages/anndata/_core/anndata.py:1830: UserWarning: Variable names are not unique. To make them unique, call `.var_names_make_unique`.\n",
      "  utils.warn_names_duplicates(\"var\")\n"
     ]
    },
    {
     "name": "stdout",
     "output_type": "stream",
     "text": [
      "P02 V15 Blood\n"
     ]
    },
    {
     "name": "stderr",
     "output_type": "stream",
     "text": [
      "/users/daniel.malzl/.conda/envs/scpython/lib/python3.9/site-packages/anndata/_core/anndata.py:1830: UserWarning: Variable names are not unique. To make them unique, call `.var_names_make_unique`.\n",
      "  utils.warn_names_duplicates(\"var\")\n"
     ]
    },
    {
     "name": "stdout",
     "output_type": "stream",
     "text": [
      "P02 V15 Skin_L\n"
     ]
    },
    {
     "name": "stderr",
     "output_type": "stream",
     "text": [
      "/users/daniel.malzl/.conda/envs/scpython/lib/python3.9/site-packages/anndata/_core/anndata.py:1830: UserWarning: Variable names are not unique. To make them unique, call `.var_names_make_unique`.\n",
      "  utils.warn_names_duplicates(\"var\")\n"
     ]
    },
    {
     "name": "stdout",
     "output_type": "stream",
     "text": [
      "P03 V02 Blood\n"
     ]
    },
    {
     "name": "stderr",
     "output_type": "stream",
     "text": [
      "/users/daniel.malzl/.conda/envs/scpython/lib/python3.9/site-packages/anndata/_core/anndata.py:1830: UserWarning: Variable names are not unique. To make them unique, call `.var_names_make_unique`.\n",
      "  utils.warn_names_duplicates(\"var\")\n"
     ]
    },
    {
     "name": "stdout",
     "output_type": "stream",
     "text": [
      "P03 V02 Skin_L\n"
     ]
    },
    {
     "name": "stderr",
     "output_type": "stream",
     "text": [
      "/users/daniel.malzl/.conda/envs/scpython/lib/python3.9/site-packages/anndata/_core/anndata.py:1830: UserWarning: Variable names are not unique. To make them unique, call `.var_names_make_unique`.\n",
      "  utils.warn_names_duplicates(\"var\")\n"
     ]
    },
    {
     "name": "stdout",
     "output_type": "stream",
     "text": [
      "P03 V02 Skin_NL\n",
      "P03 V06 Blood\n"
     ]
    },
    {
     "name": "stderr",
     "output_type": "stream",
     "text": [
      "/users/daniel.malzl/.conda/envs/scpython/lib/python3.9/site-packages/anndata/_core/anndata.py:1830: UserWarning: Variable names are not unique. To make them unique, call `.var_names_make_unique`.\n",
      "  utils.warn_names_duplicates(\"var\")\n",
      "/users/daniel.malzl/.conda/envs/scpython/lib/python3.9/site-packages/anndata/_core/anndata.py:1830: UserWarning: Variable names are not unique. To make them unique, call `.var_names_make_unique`.\n",
      "  utils.warn_names_duplicates(\"var\")\n"
     ]
    },
    {
     "name": "stdout",
     "output_type": "stream",
     "text": [
      "P03 V06 Skin_L\n"
     ]
    },
    {
     "name": "stderr",
     "output_type": "stream",
     "text": [
      "/users/daniel.malzl/.conda/envs/scpython/lib/python3.9/site-packages/anndata/_core/anndata.py:1830: UserWarning: Variable names are not unique. To make them unique, call `.var_names_make_unique`.\n",
      "  utils.warn_names_duplicates(\"var\")\n"
     ]
    },
    {
     "name": "stdout",
     "output_type": "stream",
     "text": [
      "P03 V06 Skin_NL\n",
      "P03 V14 Blood\n"
     ]
    },
    {
     "name": "stderr",
     "output_type": "stream",
     "text": [
      "/users/daniel.malzl/.conda/envs/scpython/lib/python3.9/site-packages/anndata/_core/anndata.py:1830: UserWarning: Variable names are not unique. To make them unique, call `.var_names_make_unique`.\n",
      "  utils.warn_names_duplicates(\"var\")\n",
      "/users/daniel.malzl/.conda/envs/scpython/lib/python3.9/site-packages/anndata/_core/anndata.py:1830: UserWarning: Variable names are not unique. To make them unique, call `.var_names_make_unique`.\n",
      "  utils.warn_names_duplicates(\"var\")\n"
     ]
    },
    {
     "name": "stdout",
     "output_type": "stream",
     "text": [
      "P03 V14 Skin_L\n"
     ]
    },
    {
     "name": "stderr",
     "output_type": "stream",
     "text": [
      "/users/daniel.malzl/.conda/envs/scpython/lib/python3.9/site-packages/anndata/_core/anndata.py:1830: UserWarning: Variable names are not unique. To make them unique, call `.var_names_make_unique`.\n",
      "  utils.warn_names_duplicates(\"var\")\n"
     ]
    },
    {
     "name": "stdout",
     "output_type": "stream",
     "text": [
      "P03 V15 Blood\n"
     ]
    },
    {
     "name": "stderr",
     "output_type": "stream",
     "text": [
      "/users/daniel.malzl/.conda/envs/scpython/lib/python3.9/site-packages/anndata/_core/anndata.py:1830: UserWarning: Variable names are not unique. To make them unique, call `.var_names_make_unique`.\n",
      "  utils.warn_names_duplicates(\"var\")\n"
     ]
    },
    {
     "name": "stdout",
     "output_type": "stream",
     "text": [
      "P03 V15 Skin_L\n"
     ]
    },
    {
     "name": "stderr",
     "output_type": "stream",
     "text": [
      "/users/daniel.malzl/.conda/envs/scpython/lib/python3.9/site-packages/anndata/_core/anndata.py:1830: UserWarning: Variable names are not unique. To make them unique, call `.var_names_make_unique`.\n",
      "  utils.warn_names_duplicates(\"var\")\n"
     ]
    },
    {
     "name": "stdout",
     "output_type": "stream",
     "text": [
      "P04 V02 Blood\n",
      "no counts for this sample\n",
      "Empty datasets cannot be sliced\n",
      "P04 V02 Skin_L\n"
     ]
    },
    {
     "name": "stderr",
     "output_type": "stream",
     "text": [
      "/users/daniel.malzl/.conda/envs/scpython/lib/python3.9/site-packages/anndata/_core/anndata.py:1830: UserWarning: Variable names are not unique. To make them unique, call `.var_names_make_unique`.\n",
      "  utils.warn_names_duplicates(\"var\")\n"
     ]
    },
    {
     "name": "stdout",
     "output_type": "stream",
     "text": [
      "P04 V02 Skin_NL\n",
      "no counts for this sample\n",
      "Empty datasets cannot be sliced\n",
      "P04 V06 Blood\n"
     ]
    },
    {
     "name": "stderr",
     "output_type": "stream",
     "text": [
      "/users/daniel.malzl/.conda/envs/scpython/lib/python3.9/site-packages/anndata/_core/anndata.py:1830: UserWarning: Variable names are not unique. To make them unique, call `.var_names_make_unique`.\n",
      "  utils.warn_names_duplicates(\"var\")\n"
     ]
    },
    {
     "name": "stdout",
     "output_type": "stream",
     "text": [
      "P04 V06 Skin_L\n"
     ]
    },
    {
     "name": "stderr",
     "output_type": "stream",
     "text": [
      "/users/daniel.malzl/.conda/envs/scpython/lib/python3.9/site-packages/anndata/_core/anndata.py:1830: UserWarning: Variable names are not unique. To make them unique, call `.var_names_make_unique`.\n",
      "  utils.warn_names_duplicates(\"var\")\n"
     ]
    },
    {
     "name": "stdout",
     "output_type": "stream",
     "text": [
      "P04 V06 Skin_NL\n"
     ]
    },
    {
     "name": "stderr",
     "output_type": "stream",
     "text": [
      "/users/daniel.malzl/.conda/envs/scpython/lib/python3.9/site-packages/anndata/_core/anndata.py:1830: UserWarning: Variable names are not unique. To make them unique, call `.var_names_make_unique`.\n",
      "  utils.warn_names_duplicates(\"var\")\n"
     ]
    },
    {
     "name": "stdout",
     "output_type": "stream",
     "text": [
      "P04 V14 Blood\n"
     ]
    },
    {
     "name": "stderr",
     "output_type": "stream",
     "text": [
      "/users/daniel.malzl/.conda/envs/scpython/lib/python3.9/site-packages/anndata/_core/anndata.py:1830: UserWarning: Variable names are not unique. To make them unique, call `.var_names_make_unique`.\n",
      "  utils.warn_names_duplicates(\"var\")\n"
     ]
    },
    {
     "name": "stdout",
     "output_type": "stream",
     "text": [
      "P04 V14 Skin_L\n"
     ]
    },
    {
     "name": "stderr",
     "output_type": "stream",
     "text": [
      "/users/daniel.malzl/.conda/envs/scpython/lib/python3.9/site-packages/anndata/_core/anndata.py:1830: UserWarning: Variable names are not unique. To make them unique, call `.var_names_make_unique`.\n",
      "  utils.warn_names_duplicates(\"var\")\n"
     ]
    },
    {
     "name": "stdout",
     "output_type": "stream",
     "text": [
      "P04 V15 Blood\n"
     ]
    },
    {
     "name": "stderr",
     "output_type": "stream",
     "text": [
      "/users/daniel.malzl/.conda/envs/scpython/lib/python3.9/site-packages/anndata/_core/anndata.py:1830: UserWarning: Variable names are not unique. To make them unique, call `.var_names_make_unique`.\n",
      "  utils.warn_names_duplicates(\"var\")\n"
     ]
    },
    {
     "name": "stdout",
     "output_type": "stream",
     "text": [
      "P04 V15 Skin_L\n",
      "P05 V02 Blood\n"
     ]
    },
    {
     "name": "stderr",
     "output_type": "stream",
     "text": [
      "/users/daniel.malzl/.conda/envs/scpython/lib/python3.9/site-packages/anndata/_core/anndata.py:1830: UserWarning: Variable names are not unique. To make them unique, call `.var_names_make_unique`.\n",
      "  utils.warn_names_duplicates(\"var\")\n",
      "/users/daniel.malzl/.conda/envs/scpython/lib/python3.9/site-packages/anndata/_core/anndata.py:1830: UserWarning: Variable names are not unique. To make them unique, call `.var_names_make_unique`.\n",
      "  utils.warn_names_duplicates(\"var\")\n"
     ]
    },
    {
     "name": "stdout",
     "output_type": "stream",
     "text": [
      "P05 V02 Skin_L\n"
     ]
    },
    {
     "name": "stderr",
     "output_type": "stream",
     "text": [
      "/users/daniel.malzl/.conda/envs/scpython/lib/python3.9/site-packages/anndata/_core/anndata.py:1830: UserWarning: Variable names are not unique. To make them unique, call `.var_names_make_unique`.\n",
      "  utils.warn_names_duplicates(\"var\")\n"
     ]
    },
    {
     "name": "stdout",
     "output_type": "stream",
     "text": [
      "P05 V02 Skin_NL\n",
      "P05 V06 Blood\n"
     ]
    },
    {
     "name": "stderr",
     "output_type": "stream",
     "text": [
      "/users/daniel.malzl/.conda/envs/scpython/lib/python3.9/site-packages/anndata/_core/anndata.py:1830: UserWarning: Variable names are not unique. To make them unique, call `.var_names_make_unique`.\n",
      "  utils.warn_names_duplicates(\"var\")\n",
      "/users/daniel.malzl/.conda/envs/scpython/lib/python3.9/site-packages/anndata/_core/anndata.py:1830: UserWarning: Variable names are not unique. To make them unique, call `.var_names_make_unique`.\n",
      "  utils.warn_names_duplicates(\"var\")\n"
     ]
    },
    {
     "name": "stdout",
     "output_type": "stream",
     "text": [
      "P05 V06 Skin_L\n"
     ]
    },
    {
     "name": "stderr",
     "output_type": "stream",
     "text": [
      "/users/daniel.malzl/.conda/envs/scpython/lib/python3.9/site-packages/anndata/_core/anndata.py:1830: UserWarning: Variable names are not unique. To make them unique, call `.var_names_make_unique`.\n",
      "  utils.warn_names_duplicates(\"var\")\n"
     ]
    },
    {
     "name": "stdout",
     "output_type": "stream",
     "text": [
      "P05 V06 Skin_NL\n",
      "P05 V14 Blood\n"
     ]
    },
    {
     "name": "stderr",
     "output_type": "stream",
     "text": [
      "/users/daniel.malzl/.conda/envs/scpython/lib/python3.9/site-packages/anndata/_core/anndata.py:1830: UserWarning: Variable names are not unique. To make them unique, call `.var_names_make_unique`.\n",
      "  utils.warn_names_duplicates(\"var\")\n",
      "/users/daniel.malzl/.conda/envs/scpython/lib/python3.9/site-packages/anndata/_core/anndata.py:1830: UserWarning: Variable names are not unique. To make them unique, call `.var_names_make_unique`.\n",
      "  utils.warn_names_duplicates(\"var\")\n"
     ]
    },
    {
     "name": "stdout",
     "output_type": "stream",
     "text": [
      "P05 V14 Skin_L\n"
     ]
    },
    {
     "name": "stderr",
     "output_type": "stream",
     "text": [
      "/users/daniel.malzl/.conda/envs/scpython/lib/python3.9/site-packages/anndata/_core/anndata.py:1830: UserWarning: Variable names are not unique. To make them unique, call `.var_names_make_unique`.\n",
      "  utils.warn_names_duplicates(\"var\")\n"
     ]
    },
    {
     "name": "stdout",
     "output_type": "stream",
     "text": [
      "P05 V15 Blood\n"
     ]
    },
    {
     "name": "stderr",
     "output_type": "stream",
     "text": [
      "/users/daniel.malzl/.conda/envs/scpython/lib/python3.9/site-packages/anndata/_core/anndata.py:1830: UserWarning: Variable names are not unique. To make them unique, call `.var_names_make_unique`.\n",
      "  utils.warn_names_duplicates(\"var\")\n"
     ]
    },
    {
     "name": "stdout",
     "output_type": "stream",
     "text": [
      "P05 V15 Skin_L\n"
     ]
    },
    {
     "name": "stderr",
     "output_type": "stream",
     "text": [
      "/users/daniel.malzl/.conda/envs/scpython/lib/python3.9/site-packages/anndata/_core/anndata.py:1830: UserWarning: Variable names are not unique. To make them unique, call `.var_names_make_unique`.\n",
      "  utils.warn_names_duplicates(\"var\")\n"
     ]
    },
    {
     "name": "stdout",
     "output_type": "stream",
     "text": [
      "P08 V02 Blood\n"
     ]
    },
    {
     "name": "stderr",
     "output_type": "stream",
     "text": [
      "/users/daniel.malzl/.conda/envs/scpython/lib/python3.9/site-packages/anndata/_core/anndata.py:1830: UserWarning: Variable names are not unique. To make them unique, call `.var_names_make_unique`.\n",
      "  utils.warn_names_duplicates(\"var\")\n"
     ]
    },
    {
     "name": "stdout",
     "output_type": "stream",
     "text": [
      "P08 V02 Skin_L\n"
     ]
    },
    {
     "name": "stderr",
     "output_type": "stream",
     "text": [
      "/users/daniel.malzl/.conda/envs/scpython/lib/python3.9/site-packages/anndata/_core/anndata.py:1830: UserWarning: Variable names are not unique. To make them unique, call `.var_names_make_unique`.\n",
      "  utils.warn_names_duplicates(\"var\")\n"
     ]
    },
    {
     "name": "stdout",
     "output_type": "stream",
     "text": [
      "P08 V02 Skin_NL\n"
     ]
    },
    {
     "name": "stderr",
     "output_type": "stream",
     "text": [
      "/users/daniel.malzl/.conda/envs/scpython/lib/python3.9/site-packages/anndata/_core/anndata.py:1830: UserWarning: Variable names are not unique. To make them unique, call `.var_names_make_unique`.\n",
      "  utils.warn_names_duplicates(\"var\")\n"
     ]
    },
    {
     "name": "stdout",
     "output_type": "stream",
     "text": [
      "P08 V06 Blood\n"
     ]
    },
    {
     "name": "stderr",
     "output_type": "stream",
     "text": [
      "/users/daniel.malzl/.conda/envs/scpython/lib/python3.9/site-packages/anndata/_core/anndata.py:1830: UserWarning: Variable names are not unique. To make them unique, call `.var_names_make_unique`.\n",
      "  utils.warn_names_duplicates(\"var\")\n"
     ]
    },
    {
     "name": "stdout",
     "output_type": "stream",
     "text": [
      "P08 V06 Skin_L\n"
     ]
    },
    {
     "name": "stderr",
     "output_type": "stream",
     "text": [
      "/users/daniel.malzl/.conda/envs/scpython/lib/python3.9/site-packages/anndata/_core/anndata.py:1830: UserWarning: Variable names are not unique. To make them unique, call `.var_names_make_unique`.\n",
      "  utils.warn_names_duplicates(\"var\")\n"
     ]
    },
    {
     "name": "stdout",
     "output_type": "stream",
     "text": [
      "P08 V14 Blood\n"
     ]
    },
    {
     "name": "stderr",
     "output_type": "stream",
     "text": [
      "/users/daniel.malzl/.conda/envs/scpython/lib/python3.9/site-packages/anndata/_core/anndata.py:1830: UserWarning: Variable names are not unique. To make them unique, call `.var_names_make_unique`.\n",
      "  utils.warn_names_duplicates(\"var\")\n"
     ]
    },
    {
     "name": "stdout",
     "output_type": "stream",
     "text": [
      "P08 V14 Skin_L\n"
     ]
    },
    {
     "name": "stderr",
     "output_type": "stream",
     "text": [
      "/users/daniel.malzl/.conda/envs/scpython/lib/python3.9/site-packages/anndata/_core/anndata.py:1830: UserWarning: Variable names are not unique. To make them unique, call `.var_names_make_unique`.\n",
      "  utils.warn_names_duplicates(\"var\")\n"
     ]
    },
    {
     "name": "stdout",
     "output_type": "stream",
     "text": [
      "P08 V15 Blood\n"
     ]
    },
    {
     "name": "stderr",
     "output_type": "stream",
     "text": [
      "/users/daniel.malzl/.conda/envs/scpython/lib/python3.9/site-packages/anndata/_core/anndata.py:1830: UserWarning: Variable names are not unique. To make them unique, call `.var_names_make_unique`.\n",
      "  utils.warn_names_duplicates(\"var\")\n"
     ]
    },
    {
     "name": "stdout",
     "output_type": "stream",
     "text": [
      "P08 V15 Skin_L\n"
     ]
    },
    {
     "name": "stderr",
     "output_type": "stream",
     "text": [
      "/users/daniel.malzl/.conda/envs/scpython/lib/python3.9/site-packages/anndata/_core/anndata.py:1830: UserWarning: Variable names are not unique. To make them unique, call `.var_names_make_unique`.\n",
      "  utils.warn_names_duplicates(\"var\")\n"
     ]
    },
    {
     "name": "stdout",
     "output_type": "stream",
     "text": [
      "P12 V02 Blood\n"
     ]
    },
    {
     "name": "stderr",
     "output_type": "stream",
     "text": [
      "/users/daniel.malzl/.conda/envs/scpython/lib/python3.9/site-packages/anndata/_core/anndata.py:1830: UserWarning: Variable names are not unique. To make them unique, call `.var_names_make_unique`.\n",
      "  utils.warn_names_duplicates(\"var\")\n"
     ]
    },
    {
     "name": "stdout",
     "output_type": "stream",
     "text": [
      "P12 V02 Skin_L\n"
     ]
    },
    {
     "name": "stderr",
     "output_type": "stream",
     "text": [
      "/users/daniel.malzl/.conda/envs/scpython/lib/python3.9/site-packages/anndata/_core/anndata.py:1830: UserWarning: Variable names are not unique. To make them unique, call `.var_names_make_unique`.\n",
      "  utils.warn_names_duplicates(\"var\")\n"
     ]
    },
    {
     "name": "stdout",
     "output_type": "stream",
     "text": [
      "P12 V02 Skin_NL\n"
     ]
    },
    {
     "name": "stderr",
     "output_type": "stream",
     "text": [
      "/users/daniel.malzl/.conda/envs/scpython/lib/python3.9/site-packages/anndata/_core/anndata.py:1830: UserWarning: Variable names are not unique. To make them unique, call `.var_names_make_unique`.\n",
      "  utils.warn_names_duplicates(\"var\")\n"
     ]
    },
    {
     "name": "stdout",
     "output_type": "stream",
     "text": [
      "P12 V06 Blood\n"
     ]
    },
    {
     "name": "stderr",
     "output_type": "stream",
     "text": [
      "/users/daniel.malzl/.conda/envs/scpython/lib/python3.9/site-packages/anndata/_core/anndata.py:1830: UserWarning: Variable names are not unique. To make them unique, call `.var_names_make_unique`.\n",
      "  utils.warn_names_duplicates(\"var\")\n"
     ]
    },
    {
     "name": "stdout",
     "output_type": "stream",
     "text": [
      "P12 V06 Skin_L\n"
     ]
    },
    {
     "name": "stderr",
     "output_type": "stream",
     "text": [
      "/users/daniel.malzl/.conda/envs/scpython/lib/python3.9/site-packages/anndata/_core/anndata.py:1830: UserWarning: Variable names are not unique. To make them unique, call `.var_names_make_unique`.\n",
      "  utils.warn_names_duplicates(\"var\")\n",
      "/users/daniel.malzl/.conda/envs/scpython/lib/python3.9/site-packages/anndata/_core/anndata.py:1830: UserWarning: Variable names are not unique. To make them unique, call `.var_names_make_unique`.\n",
      "  utils.warn_names_duplicates(\"var\")\n"
     ]
    },
    {
     "name": "stdout",
     "output_type": "stream",
     "text": [
      "P12 V14 Blood\n",
      "P12 V14 Skin_L\n"
     ]
    },
    {
     "name": "stderr",
     "output_type": "stream",
     "text": [
      "/users/daniel.malzl/.conda/envs/scpython/lib/python3.9/site-packages/anndata/_core/anndata.py:1830: UserWarning: Variable names are not unique. To make them unique, call `.var_names_make_unique`.\n",
      "  utils.warn_names_duplicates(\"var\")\n",
      "/users/daniel.malzl/.conda/envs/scpython/lib/python3.9/site-packages/anndata/_core/anndata.py:1830: UserWarning: Variable names are not unique. To make them unique, call `.var_names_make_unique`.\n",
      "  utils.warn_names_duplicates(\"var\")\n"
     ]
    },
    {
     "name": "stdout",
     "output_type": "stream",
     "text": [
      "P12 V15 Blood\n",
      "P12 V15 Skin_L\n"
     ]
    },
    {
     "name": "stderr",
     "output_type": "stream",
     "text": [
      "/users/daniel.malzl/.conda/envs/scpython/lib/python3.9/site-packages/anndata/_core/anndata.py:1830: UserWarning: Variable names are not unique. To make them unique, call `.var_names_make_unique`.\n",
      "  utils.warn_names_duplicates(\"var\")\n"
     ]
    },
    {
     "name": "stdout",
     "output_type": "stream",
     "text": [
      "P13 V02 Blood\n"
     ]
    },
    {
     "name": "stderr",
     "output_type": "stream",
     "text": [
      "/users/daniel.malzl/.conda/envs/scpython/lib/python3.9/site-packages/anndata/_core/anndata.py:1830: UserWarning: Variable names are not unique. To make them unique, call `.var_names_make_unique`.\n",
      "  utils.warn_names_duplicates(\"var\")\n"
     ]
    },
    {
     "name": "stdout",
     "output_type": "stream",
     "text": [
      "P13 V02 Skin_L\n"
     ]
    },
    {
     "name": "stderr",
     "output_type": "stream",
     "text": [
      "/users/daniel.malzl/.conda/envs/scpython/lib/python3.9/site-packages/anndata/_core/anndata.py:1830: UserWarning: Variable names are not unique. To make them unique, call `.var_names_make_unique`.\n",
      "  utils.warn_names_duplicates(\"var\")\n"
     ]
    },
    {
     "name": "stdout",
     "output_type": "stream",
     "text": [
      "P13 V02 Skin_NL\n"
     ]
    },
    {
     "name": "stderr",
     "output_type": "stream",
     "text": [
      "/users/daniel.malzl/.conda/envs/scpython/lib/python3.9/site-packages/anndata/_core/anndata.py:1830: UserWarning: Variable names are not unique. To make them unique, call `.var_names_make_unique`.\n",
      "  utils.warn_names_duplicates(\"var\")\n"
     ]
    },
    {
     "name": "stdout",
     "output_type": "stream",
     "text": [
      "P13 V06 Blood\n"
     ]
    },
    {
     "name": "stderr",
     "output_type": "stream",
     "text": [
      "/users/daniel.malzl/.conda/envs/scpython/lib/python3.9/site-packages/anndata/_core/anndata.py:1830: UserWarning: Variable names are not unique. To make them unique, call `.var_names_make_unique`.\n",
      "  utils.warn_names_duplicates(\"var\")\n"
     ]
    },
    {
     "name": "stdout",
     "output_type": "stream",
     "text": [
      "P13 V06 Skin_L\n"
     ]
    },
    {
     "name": "stderr",
     "output_type": "stream",
     "text": [
      "/users/daniel.malzl/.conda/envs/scpython/lib/python3.9/site-packages/anndata/_core/anndata.py:1830: UserWarning: Variable names are not unique. To make them unique, call `.var_names_make_unique`.\n",
      "  utils.warn_names_duplicates(\"var\")\n"
     ]
    },
    {
     "name": "stdout",
     "output_type": "stream",
     "text": [
      "P13 V14 Blood\n"
     ]
    },
    {
     "name": "stderr",
     "output_type": "stream",
     "text": [
      "/users/daniel.malzl/.conda/envs/scpython/lib/python3.9/site-packages/anndata/_core/anndata.py:1830: UserWarning: Variable names are not unique. To make them unique, call `.var_names_make_unique`.\n",
      "  utils.warn_names_duplicates(\"var\")\n"
     ]
    },
    {
     "name": "stdout",
     "output_type": "stream",
     "text": [
      "P13 V14 Skin_L\n",
      "P13 V15 Blood\n"
     ]
    },
    {
     "name": "stderr",
     "output_type": "stream",
     "text": [
      "/users/daniel.malzl/.conda/envs/scpython/lib/python3.9/site-packages/anndata/_core/anndata.py:1830: UserWarning: Variable names are not unique. To make them unique, call `.var_names_make_unique`.\n",
      "  utils.warn_names_duplicates(\"var\")\n",
      "/users/daniel.malzl/.conda/envs/scpython/lib/python3.9/site-packages/anndata/_core/anndata.py:1830: UserWarning: Variable names are not unique. To make them unique, call `.var_names_make_unique`.\n",
      "  utils.warn_names_duplicates(\"var\")\n"
     ]
    },
    {
     "name": "stdout",
     "output_type": "stream",
     "text": [
      "P13 V15 Skin_L\n",
      "P14 V02 Blood\n"
     ]
    },
    {
     "name": "stderr",
     "output_type": "stream",
     "text": [
      "/users/daniel.malzl/.conda/envs/scpython/lib/python3.9/site-packages/anndata/_core/anndata.py:1830: UserWarning: Variable names are not unique. To make them unique, call `.var_names_make_unique`.\n",
      "  utils.warn_names_duplicates(\"var\")\n",
      "/users/daniel.malzl/.conda/envs/scpython/lib/python3.9/site-packages/anndata/_core/anndata.py:1830: UserWarning: Variable names are not unique. To make them unique, call `.var_names_make_unique`.\n",
      "  utils.warn_names_duplicates(\"var\")\n"
     ]
    },
    {
     "name": "stdout",
     "output_type": "stream",
     "text": [
      "P14 V02 Skin_L\n"
     ]
    },
    {
     "name": "stderr",
     "output_type": "stream",
     "text": [
      "/users/daniel.malzl/.conda/envs/scpython/lib/python3.9/site-packages/anndata/_core/anndata.py:1830: UserWarning: Variable names are not unique. To make them unique, call `.var_names_make_unique`.\n",
      "  utils.warn_names_duplicates(\"var\")\n",
      "/users/daniel.malzl/.conda/envs/scpython/lib/python3.9/site-packages/anndata/_core/anndata.py:1830: UserWarning: Variable names are not unique. To make them unique, call `.var_names_make_unique`.\n",
      "  utils.warn_names_duplicates(\"var\")\n"
     ]
    },
    {
     "name": "stdout",
     "output_type": "stream",
     "text": [
      "P14 V02 Skin_NL\n",
      "P14 V06 Blood\n"
     ]
    },
    {
     "name": "stderr",
     "output_type": "stream",
     "text": [
      "/users/daniel.malzl/.conda/envs/scpython/lib/python3.9/site-packages/anndata/_core/anndata.py:1830: UserWarning: Variable names are not unique. To make them unique, call `.var_names_make_unique`.\n",
      "  utils.warn_names_duplicates(\"var\")\n"
     ]
    },
    {
     "name": "stdout",
     "output_type": "stream",
     "text": [
      "P14 V06 Skin_L\n"
     ]
    },
    {
     "name": "stderr",
     "output_type": "stream",
     "text": [
      "/users/daniel.malzl/.conda/envs/scpython/lib/python3.9/site-packages/anndata/_core/anndata.py:1830: UserWarning: Variable names are not unique. To make them unique, call `.var_names_make_unique`.\n",
      "  utils.warn_names_duplicates(\"var\")\n"
     ]
    },
    {
     "name": "stdout",
     "output_type": "stream",
     "text": [
      "P14 V14 Blood\n",
      "P14 V14 Skin_L\n"
     ]
    },
    {
     "name": "stderr",
     "output_type": "stream",
     "text": [
      "/users/daniel.malzl/.conda/envs/scpython/lib/python3.9/site-packages/anndata/_core/anndata.py:1830: UserWarning: Variable names are not unique. To make them unique, call `.var_names_make_unique`.\n",
      "  utils.warn_names_duplicates(\"var\")\n",
      "/users/daniel.malzl/.conda/envs/scpython/lib/python3.9/site-packages/anndata/_core/anndata.py:1830: UserWarning: Variable names are not unique. To make them unique, call `.var_names_make_unique`.\n",
      "  utils.warn_names_duplicates(\"var\")\n"
     ]
    },
    {
     "name": "stdout",
     "output_type": "stream",
     "text": [
      "P14 V15 Blood\n"
     ]
    },
    {
     "name": "stderr",
     "output_type": "stream",
     "text": [
      "/users/daniel.malzl/.conda/envs/scpython/lib/python3.9/site-packages/anndata/_core/anndata.py:1830: UserWarning: Variable names are not unique. To make them unique, call `.var_names_make_unique`.\n",
      "  utils.warn_names_duplicates(\"var\")\n"
     ]
    },
    {
     "name": "stdout",
     "output_type": "stream",
     "text": [
      "P14 V15 Skin_L\n"
     ]
    },
    {
     "name": "stderr",
     "output_type": "stream",
     "text": [
      "/users/daniel.malzl/.conda/envs/scpython/lib/python3.9/site-packages/anndata/_core/anndata.py:1830: UserWarning: Variable names are not unique. To make them unique, call `.var_names_make_unique`.\n",
      "  utils.warn_names_duplicates(\"var\")\n"
     ]
    },
    {
     "name": "stdout",
     "output_type": "stream",
     "text": [
      "P15 V06 Blood\n"
     ]
    },
    {
     "name": "stderr",
     "output_type": "stream",
     "text": [
      "/users/daniel.malzl/.conda/envs/scpython/lib/python3.9/site-packages/anndata/_core/anndata.py:1830: UserWarning: Variable names are not unique. To make them unique, call `.var_names_make_unique`.\n",
      "  utils.warn_names_duplicates(\"var\")\n"
     ]
    },
    {
     "name": "stdout",
     "output_type": "stream",
     "text": [
      "P15 V06 Skin_L\n"
     ]
    },
    {
     "name": "stderr",
     "output_type": "stream",
     "text": [
      "/users/daniel.malzl/.conda/envs/scpython/lib/python3.9/site-packages/anndata/_core/anndata.py:1830: UserWarning: Variable names are not unique. To make them unique, call `.var_names_make_unique`.\n",
      "  utils.warn_names_duplicates(\"var\")\n",
      "/users/daniel.malzl/.conda/envs/scpython/lib/python3.9/site-packages/anndata/_core/anndata.py:1830: UserWarning: Variable names are not unique. To make them unique, call `.var_names_make_unique`.\n",
      "  utils.warn_names_duplicates(\"var\")\n"
     ]
    },
    {
     "name": "stdout",
     "output_type": "stream",
     "text": [
      "P15 V06 Skin_NL\n",
      "P15 V14 Blood\n"
     ]
    },
    {
     "name": "stderr",
     "output_type": "stream",
     "text": [
      "/users/daniel.malzl/.conda/envs/scpython/lib/python3.9/site-packages/anndata/_core/anndata.py:1830: UserWarning: Variable names are not unique. To make them unique, call `.var_names_make_unique`.\n",
      "  utils.warn_names_duplicates(\"var\")\n"
     ]
    },
    {
     "name": "stdout",
     "output_type": "stream",
     "text": [
      "P15 V14 Skin_L_Knee\n"
     ]
    },
    {
     "name": "stderr",
     "output_type": "stream",
     "text": [
      "/users/daniel.malzl/.conda/envs/scpython/lib/python3.9/site-packages/anndata/_core/anndata.py:1830: UserWarning: Variable names are not unique. To make them unique, call `.var_names_make_unique`.\n",
      "  utils.warn_names_duplicates(\"var\")\n",
      "/users/daniel.malzl/.conda/envs/scpython/lib/python3.9/site-packages/anndata/_core/anndata.py:1830: UserWarning: Variable names are not unique. To make them unique, call `.var_names_make_unique`.\n",
      "  utils.warn_names_duplicates(\"var\")\n"
     ]
    },
    {
     "name": "stdout",
     "output_type": "stream",
     "text": [
      "P15 V14 Skin_L_Ankle\n",
      "P15 V15 Blood\n"
     ]
    },
    {
     "name": "stderr",
     "output_type": "stream",
     "text": [
      "/users/daniel.malzl/.conda/envs/scpython/lib/python3.9/site-packages/anndata/_core/anndata.py:1830: UserWarning: Variable names are not unique. To make them unique, call `.var_names_make_unique`.\n",
      "  utils.warn_names_duplicates(\"var\")\n"
     ]
    },
    {
     "name": "stdout",
     "output_type": "stream",
     "text": [
      "P15 V15 Skin_L\n"
     ]
    },
    {
     "name": "stderr",
     "output_type": "stream",
     "text": [
      "/users/daniel.malzl/.conda/envs/scpython/lib/python3.9/site-packages/anndata/_core/anndata.py:1830: UserWarning: Variable names are not unique. To make them unique, call `.var_names_make_unique`.\n",
      "  utils.warn_names_duplicates(\"var\")\n"
     ]
    },
    {
     "name": "stdout",
     "output_type": "stream",
     "text": [
      "P17 V06 Blood\n"
     ]
    },
    {
     "name": "stderr",
     "output_type": "stream",
     "text": [
      "/users/daniel.malzl/.conda/envs/scpython/lib/python3.9/site-packages/anndata/_core/anndata.py:1830: UserWarning: Variable names are not unique. To make them unique, call `.var_names_make_unique`.\n",
      "  utils.warn_names_duplicates(\"var\")\n",
      "/users/daniel.malzl/.conda/envs/scpython/lib/python3.9/site-packages/anndata/_core/anndata.py:1830: UserWarning: Variable names are not unique. To make them unique, call `.var_names_make_unique`.\n",
      "  utils.warn_names_duplicates(\"var\")\n"
     ]
    },
    {
     "name": "stdout",
     "output_type": "stream",
     "text": [
      "P17 V06 Skin_L\n",
      "P17 V06 Skin_NL\n"
     ]
    },
    {
     "name": "stderr",
     "output_type": "stream",
     "text": [
      "/users/daniel.malzl/.conda/envs/scpython/lib/python3.9/site-packages/anndata/_core/anndata.py:1830: UserWarning: Variable names are not unique. To make them unique, call `.var_names_make_unique`.\n",
      "  utils.warn_names_duplicates(\"var\")\n",
      "/users/daniel.malzl/.conda/envs/scpython/lib/python3.9/site-packages/anndata/_core/anndata.py:1830: UserWarning: Variable names are not unique. To make them unique, call `.var_names_make_unique`.\n",
      "  utils.warn_names_duplicates(\"var\")\n",
      "/users/daniel.malzl/.conda/envs/scpython/lib/python3.9/site-packages/anndata/_core/anndata.py:1830: UserWarning: Variable names are not unique. To make them unique, call `.var_names_make_unique`.\n",
      "  utils.warn_names_duplicates(\"var\")\n"
     ]
    },
    {
     "name": "stdout",
     "output_type": "stream",
     "text": [
      "P17 V14 Blood\n",
      "P17 V14 Skin_L\n",
      "P17 V15 Blood\n"
     ]
    },
    {
     "name": "stderr",
     "output_type": "stream",
     "text": [
      "/users/daniel.malzl/.conda/envs/scpython/lib/python3.9/site-packages/anndata/_core/anndata.py:1830: UserWarning: Variable names are not unique. To make them unique, call `.var_names_make_unique`.\n",
      "  utils.warn_names_duplicates(\"var\")\n"
     ]
    },
    {
     "name": "stdout",
     "output_type": "stream",
     "text": [
      "P17 V15 Skin_L\n"
     ]
    },
    {
     "name": "stderr",
     "output_type": "stream",
     "text": [
      "/users/daniel.malzl/.conda/envs/scpython/lib/python3.9/site-packages/anndata/_core/anndata.py:1830: UserWarning: Variable names are not unique. To make them unique, call `.var_names_make_unique`.\n",
      "  utils.warn_names_duplicates(\"var\")\n"
     ]
    },
    {
     "data": {
      "text/plain": [
       "AnnData object with n_obs × n_vars = 208443 × 33538\n",
       "    obs: 'sample_id', 'patient_id', 'visit_id', 'tissue', 'timepoint'"
      ]
     },
     "execution_count": 13,
     "metadata": {},
     "output_type": "execute_result"
    }
   ],
   "source": [
    "import scanpy as sc\n",
    "import anndata as ad\n",
    "# path = '/scratch/daniel.malzl/cellranger/{sample_id}/outs/per_sample_outs/{sample_part}/count/sample_molecule_info.h5'\n",
    "path = '/scratch/daniel.malzl/cr/{sample_id}/outs/per_sample_outs/{sample_part}/count/sample_feature_bc_matrix.h5'\n",
    "timepoint = {\n",
    "    'V02': 'baseline_general',\n",
    "    'V06': 'baseline_systemic',\n",
    "    'V14': 'end_systemic',\n",
    "    'V15': '2_months_washout_systemic'\n",
    "}\n",
    "# aggr_csv = []\n",
    "adatas = []\n",
    "i = 0\n",
    "for (pid, vid), group in df.groupby(['patient_id', 'visit_id']):\n",
    "    for tissue in group.sample_tissue.unique():\n",
    "        print(pid, vid, tissue)\n",
    "        try:\n",
    "            adata = sc.read_10x_h5(\n",
    "                path.format(\n",
    "                    sample_id = '_'.join([pid, vid]),\n",
    "                    sample_part = tissue\n",
    "                )\n",
    "            )\n",
    "        \n",
    "        except ValueError as e:\n",
    "            print('no counts for this sample')\n",
    "            print(e)\n",
    "            continue\n",
    "        \n",
    "        adata.var_names_make_unique()\n",
    "        for col, val in zip(\n",
    "            ['sample_id', 'patient_id', 'visit_id', 'tissue', 'timepoint'],\n",
    "            ['_'.join([pid, vid, tissue]), pid, vid, tissue, timepoint[vid]]\n",
    "        ):\n",
    "            adata.obs[col] = val\n",
    "            \n",
    "        adata.obs_names = [f'{idx}{i}' for idx in adata.obs_names]\n",
    "        adata.X = adata.X.astype('int')\n",
    "        adatas.append(adata)\n",
    "        i += 1\n",
    "        \n",
    "        # aggr_csv.append(\n",
    "        #     [\n",
    "        #         '_'.join([pid, vid, tissue]), \n",
    "        #         path.format(\n",
    "        #             sample_id = '_'.join([pid, vid]),\n",
    "        #             sample_part = tissue\n",
    "        #         ),\n",
    "        #         pid,\n",
    "        #         vid,\n",
    "        #         tissue,\n",
    "        #         timepoint[vid]\n",
    "        #     ]\n",
    "        # )\n",
    "\n",
    "# aggr_csv = pd.DataFrame(\n",
    "#     aggr_csv,\n",
    "#     columns = ['sample_id', 'molecule_h5', 'patient_id', 'visit_id', 'tissue', 'timepoint']\n",
    "# )\n",
    "# aggr_csv.to_csv(\n",
    "#     '../cr_resources/aggr_multi.csv',\n",
    "#     index = False\n",
    "# )\n",
    "# aggr_csv\n",
    "adata = ad.concat(adatas)\n",
    "adata"
   ]
  },
  {
   "cell_type": "code",
   "execution_count": 14,
   "id": "cfd9bec8-df36-4af3-b1bb-dc057b59dbd4",
   "metadata": {},
   "outputs": [],
   "source": [
    "adata.write(\n",
    "    '../raw/srcx_sirolimus.h5ad'\n",
    ")"
   ]
  },
  {
   "cell_type": "code",
   "execution_count": null,
   "id": "4d6bffa5-71b8-4782-93be-0e83942b3c50",
   "metadata": {},
   "outputs": [],
   "source": []
  }
 ],
 "metadata": {
  "kernelspec": {
   "display_name": "Python [conda env:.conda-scpython]",
   "language": "python",
   "name": "conda-env-.conda-scpython-py"
  },
  "language_info": {
   "codemirror_mode": {
    "name": "ipython",
    "version": 3
   },
   "file_extension": ".py",
   "mimetype": "text/x-python",
   "name": "python",
   "nbconvert_exporter": "python",
   "pygments_lexer": "ipython3",
   "version": "3.9.4"
  }
 },
 "nbformat": 4,
 "nbformat_minor": 5
}
