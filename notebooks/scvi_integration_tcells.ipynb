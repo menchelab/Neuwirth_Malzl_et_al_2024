{
 "cells": [
  {
   "cell_type": "code",
   "execution_count": 1,
   "id": "smoking-essence",
   "metadata": {},
   "outputs": [
    {
     "name": "stderr",
     "output_type": "stream",
     "text": [
      "Global seed set to 0\n"
     ]
    }
   ],
   "source": [
    "%matplotlib inline\n",
    "import scanpy as sc\n",
    "import scvi\n",
    "import matplotlib.pyplot as plt\n",
    "import pandas as pd\n",
    "from sctools import integrate, plot, io"
   ]
  },
  {
   "cell_type": "markdown",
   "id": "a6bdbc78-e509-4cb1-b576-62e73d7a5185",
   "metadata": {},
   "source": [
    "## Integration of T-cell subsets for identification of regulatory T-cells\n",
    "Here we extract the identified T-cell subset from the original dataset and integrate it anew to avoid incorporating artifacts introduced into the embedding by other celltypes we are not interested in."
   ]
  },
  {
   "cell_type": "code",
   "execution_count": 2,
   "id": "declared-confidentiality",
   "metadata": {},
   "outputs": [
    {
     "name": "stderr",
     "output_type": "stream",
     "text": [
      "/users/daniel.malzl/.local/lib/python3.9/site-packages/anndata/_core/anndata.py:522: FutureWarning: The dtype argument is deprecated and will be removed in late 2024.\n",
      "  warnings.warn(\n",
      "/users/daniel.malzl/.local/lib/python3.9/site-packages/anndata/_core/anndata.py:522: FutureWarning: The dtype argument is deprecated and will be removed in late 2024.\n",
      "  warnings.warn(\n",
      "/users/daniel.malzl/.local/lib/python3.9/site-packages/anndata/_core/anndata.py:522: FutureWarning: The dtype argument is deprecated and will be removed in late 2024.\n",
      "  warnings.warn(\n",
      "/users/daniel.malzl/.local/lib/python3.9/site-packages/anndata/_core/anndata.py:522: FutureWarning: The dtype argument is deprecated and will be removed in late 2024.\n",
      "  warnings.warn(\n"
     ]
    },
    {
     "data": {
      "text/plain": [
       "{'tissue.scps': AnnData object with n_obs × n_vars = 62462 × 20912\n",
       "     obs: 'sample_id', 'patient_id', 'status', 'tissue', 'cell_fraction', 'doublet', 'doublet_score', 'nFeature_RNA', 'nCount_RNA', 'percent_mt', 'percent_ribo', 'qc_pass', '_scvi_batch', '_scvi_labels', 'leiden_scvi_0.1', 'coarse_cell_types',\n",
       " 'tissue.ad': AnnData object with n_obs × n_vars = 61787 × 21750\n",
       "     obs: 'sample_id', 'patient_id', 'status', 'tissue', 'cell_fraction', 'doublet', 'doublet_score', 'nFeature_RNA', 'nCount_RNA', 'percent_mt', 'percent_ribo', 'qc_pass', '_scvi_batch', '_scvi_labels', 'leiden_scvi_0.25', 'coarse_cell_types',\n",
       " 'tissue.uc': AnnData object with n_obs × n_vars = 46867 × 18436\n",
       "     obs: 'sample_id', 'patient_id', 'status', 'tissue', 'cell_fraction', 'doublet', 'doublet_score', 'nFeature_RNA', 'nCount_RNA', 'percent_mt', 'percent_ribo', 'qc_pass', '_scvi_batch', '_scvi_labels', 'leiden_scvi_0.4', 'coarse_cell_types',\n",
       " 'pbmc.scps': AnnData object with n_obs × n_vars = 18557 × 15998\n",
       "     obs: 'sample_id', 'patient_id', 'status', 'tissue', 'cell_fraction', 'doublet', 'doublet_score', 'nFeature_RNA', 'nCount_RNA', 'percent_mt', 'percent_ribo', 'qc_pass', '_scvi_batch', '_scvi_labels', 'leiden_scvi_0.3', 'coarse_cell_types'}"
      ]
     },
     "execution_count": 2,
     "metadata": {},
     "output_type": "execute_result"
    }
   ],
   "source": [
    "# load data\n",
    "prefixes = ['tissue.scps', 'tissue.ad', 'tissue.uc', 'pbmc.scps']\n",
    "adatas = {}\n",
    "for key in prefixes:\n",
    "    adata = io.initialize_from_raw(f'../data/{key}.integrated.clustered.h5ad')\n",
    "    adatas[key] = adata[adata.obs.coarse_cell_types == 'Tcell'].copy()\n",
    "    del adata\n",
    "    \n",
    "adatas"
   ]
  },
  {
   "cell_type": "code",
   "execution_count": 3,
   "id": "6274e29f",
   "metadata": {},
   "outputs": [
    {
     "name": "stdout",
     "output_type": "stream",
     "text": [
      "tissue.scps\n"
     ]
    },
    {
     "name": "stderr",
     "output_type": "stream",
     "text": [
      "/users/daniel.malzl/.local/lib/python3.9/site-packages/scanpy/preprocessing/_highly_variable_genes.py:64: UserWarning: `flavor='seurat_v3'` expects raw count data, but non-integers were found.\n",
      "  warnings.warn(\n",
      "/users/daniel.malzl/.local/lib/python3.9/site-packages/umap/distances.py:1063: NumbaDeprecationWarning: The 'nopython' keyword argument was not supplied to the 'numba.jit' decorator. The implicit default value for this argument is currently False, but it will be changed to True in Numba 0.59.0. See https://numba.readthedocs.io/en/stable/reference/deprecation.html#deprecation-of-object-mode-fall-back-behaviour-when-using-jit for details.\n",
      "  @numba.jit()\n",
      "/users/daniel.malzl/.local/lib/python3.9/site-packages/umap/distances.py:1071: NumbaDeprecationWarning: The 'nopython' keyword argument was not supplied to the 'numba.jit' decorator. The implicit default value for this argument is currently False, but it will be changed to True in Numba 0.59.0. See https://numba.readthedocs.io/en/stable/reference/deprecation.html#deprecation-of-object-mode-fall-back-behaviour-when-using-jit for details.\n",
      "  @numba.jit()\n",
      "/users/daniel.malzl/.local/lib/python3.9/site-packages/umap/distances.py:1086: NumbaDeprecationWarning: The 'nopython' keyword argument was not supplied to the 'numba.jit' decorator. The implicit default value for this argument is currently False, but it will be changed to True in Numba 0.59.0. See https://numba.readthedocs.io/en/stable/reference/deprecation.html#deprecation-of-object-mode-fall-back-behaviour-when-using-jit for details.\n",
      "  @numba.jit()\n",
      "/users/daniel.malzl/.local/lib/python3.9/site-packages/umap/umap_.py:660: NumbaDeprecationWarning: The 'nopython' keyword argument was not supplied to the 'numba.jit' decorator. The implicit default value for this argument is currently False, but it will be changed to True in Numba 0.59.0. See https://numba.readthedocs.io/en/stable/reference/deprecation.html#deprecation-of-object-mode-fall-back-behaviour-when-using-jit for details.\n",
      "  @numba.jit()\n",
      "/users/daniel.malzl/.local/lib/python3.9/site-packages/scanpy/plotting/_tools/scatterplots.py:394: UserWarning: No data for colormapping provided via 'c'. Parameters 'cmap' will be ignored\n",
      "  cax = scatter(\n",
      "/users/daniel.malzl/.local/lib/python3.9/site-packages/scanpy/plotting/_tools/scatterplots.py:394: UserWarning: No data for colormapping provided via 'c'. Parameters 'cmap' will be ignored\n",
      "  cax = scatter(\n"
     ]
    },
    {
     "name": "stdout",
     "output_type": "stream",
     "text": [
      "tissue.ad\n"
     ]
    },
    {
     "name": "stderr",
     "output_type": "stream",
     "text": [
      "/users/daniel.malzl/.local/lib/python3.9/site-packages/scanpy/preprocessing/_highly_variable_genes.py:64: UserWarning: `flavor='seurat_v3'` expects raw count data, but non-integers were found.\n",
      "  warnings.warn(\n",
      "/users/daniel.malzl/.local/lib/python3.9/site-packages/scanpy/plotting/_tools/scatterplots.py:394: UserWarning: No data for colormapping provided via 'c'. Parameters 'cmap' will be ignored\n",
      "  cax = scatter(\n",
      "/users/daniel.malzl/.local/lib/python3.9/site-packages/scanpy/plotting/_tools/scatterplots.py:394: UserWarning: No data for colormapping provided via 'c'. Parameters 'cmap' will be ignored\n",
      "  cax = scatter(\n"
     ]
    },
    {
     "name": "stdout",
     "output_type": "stream",
     "text": [
      "tissue.uc\n"
     ]
    },
    {
     "name": "stderr",
     "output_type": "stream",
     "text": [
      "/users/daniel.malzl/.local/lib/python3.9/site-packages/scanpy/preprocessing/_highly_variable_genes.py:64: UserWarning: `flavor='seurat_v3'` expects raw count data, but non-integers were found.\n",
      "  warnings.warn(\n",
      "/users/daniel.malzl/.local/lib/python3.9/site-packages/scanpy/plotting/_tools/scatterplots.py:394: UserWarning: No data for colormapping provided via 'c'. Parameters 'cmap' will be ignored\n",
      "  cax = scatter(\n",
      "/users/daniel.malzl/.local/lib/python3.9/site-packages/scanpy/plotting/_tools/scatterplots.py:394: UserWarning: No data for colormapping provided via 'c'. Parameters 'cmap' will be ignored\n",
      "  cax = scatter(\n"
     ]
    },
    {
     "name": "stdout",
     "output_type": "stream",
     "text": [
      "pbmc.scps\n"
     ]
    },
    {
     "name": "stderr",
     "output_type": "stream",
     "text": [
      "/users/daniel.malzl/.local/lib/python3.9/site-packages/scanpy/preprocessing/_highly_variable_genes.py:64: UserWarning: `flavor='seurat_v3'` expects raw count data, but non-integers were found.\n",
      "  warnings.warn(\n",
      "/users/daniel.malzl/.local/lib/python3.9/site-packages/scanpy/plotting/_tools/scatterplots.py:394: UserWarning: No data for colormapping provided via 'c'. Parameters 'cmap' will be ignored\n",
      "  cax = scatter(\n",
      "/users/daniel.malzl/.local/lib/python3.9/site-packages/scanpy/plotting/_tools/scatterplots.py:394: UserWarning: No data for colormapping provided via 'c'. Parameters 'cmap' will be ignored\n",
      "  cax = scatter(\n"
     ]
    }
   ],
   "source": [
    "# visualize raw data\n",
    "for k, adata in adatas.items():\n",
    "    print(k)\n",
    "    plot.integrate.raw_data_umap(\n",
    "        adata,\n",
    "        ['status', 'sample_id', 'FOXP3'],\n",
    "        size = 10,\n",
    "        vmax = 0.5,\n",
    "        savefile = f'../plots/{k}.raw.umap.png'\n",
    "    )"
   ]
  },
  {
   "cell_type": "code",
   "execution_count": null,
   "id": "declared-pregnancy",
   "metadata": {},
   "outputs": [],
   "source": [
    "# integrate tcells\n",
    "integration_params = {\n",
    "    f'tcells.{k}': {'kwargs': dict()} for k in adata.keys()\n",
    "}\n",
    "\n",
    "integration_results = {}\n",
    "for key, adata in adatas.items():\n",
    "    key = f'tcells.{key}'\n",
    "    params = integration_params[key]\n",
    "        \n",
    "    print(key)\n",
    "    integration_results[key] = integrate.integrate_data_scvi(\n",
    "        adata.copy(),\n",
    "        'sample_id',\n",
    "        train_size = 1,\n",
    "        **params['kwargs']\n",
    "    )\n",
    "\n",
    "    integration_results[key]['data'].write(\n",
    "        f'../data/{key}.integrated.h5ad'\n",
    "    )\n",
    "\n",
    "    integration_results[key]['model'].save(\n",
    "        f'../data/{key}.integration.scvi.model',\n",
    "        overwrite = True\n",
    "    )"
   ]
  },
  {
   "cell_type": "code",
   "execution_count": 4,
   "id": "incorporated-gender",
   "metadata": {},
   "outputs": [
    {
     "name": "stdout",
     "output_type": "stream",
     "text": [
      "tissue.scps\n",
      "tissue.ad\n",
      "tissue.uc\n",
      "pbmc.scps\n"
     ]
    },
    {
     "data": {
      "text/html": [
       "<pre style=\"white-space:pre;overflow-x:auto;line-height:normal;font-family:Menlo,'DejaVu Sans Mono',consolas,'Courier New',monospace\">SCVI Model with the following params: \n",
       "n_hidden: <span style=\"color: #008080; text-decoration-color: #008080; font-weight: bold\">128</span>, n_latent: <span style=\"color: #008080; text-decoration-color: #008080; font-weight: bold\">30</span>, n_layers: <span style=\"color: #008080; text-decoration-color: #008080; font-weight: bold\">2</span>, dropout_rate: <span style=\"color: #008080; text-decoration-color: #008080; font-weight: bold\">0.1</span>, dispersion: gene, gene_likelihood: nb, \n",
       "latent_distribution: normal\n",
       "Training status: Trained\n",
       "</pre>\n"
      ],
      "text/plain": [
       "SCVI Model with the following params: \n",
       "n_hidden: \u001b[1;36m128\u001b[0m, n_latent: \u001b[1;36m30\u001b[0m, n_layers: \u001b[1;36m2\u001b[0m, dropout_rate: \u001b[1;36m0.1\u001b[0m, dispersion: gene, gene_likelihood: nb, \n",
       "latent_distribution: normal\n",
       "Training status: Trained\n"
      ]
     },
     "metadata": {},
     "output_type": "display_data"
    },
    {
     "data": {
      "text/html": [
       "<pre style=\"white-space:pre;overflow-x:auto;line-height:normal;font-family:Menlo,'DejaVu Sans Mono',consolas,'Courier New',monospace\">SCVI Model with the following params: \n",
       "n_hidden: <span style=\"color: #008080; text-decoration-color: #008080; font-weight: bold\">128</span>, n_latent: <span style=\"color: #008080; text-decoration-color: #008080; font-weight: bold\">30</span>, n_layers: <span style=\"color: #008080; text-decoration-color: #008080; font-weight: bold\">2</span>, dropout_rate: <span style=\"color: #008080; text-decoration-color: #008080; font-weight: bold\">0.1</span>, dispersion: gene, gene_likelihood: nb, \n",
       "latent_distribution: normal\n",
       "Training status: Trained\n",
       "</pre>\n"
      ],
      "text/plain": [
       "SCVI Model with the following params: \n",
       "n_hidden: \u001b[1;36m128\u001b[0m, n_latent: \u001b[1;36m30\u001b[0m, n_layers: \u001b[1;36m2\u001b[0m, dropout_rate: \u001b[1;36m0.1\u001b[0m, dispersion: gene, gene_likelihood: nb, \n",
       "latent_distribution: normal\n",
       "Training status: Trained\n"
      ]
     },
     "metadata": {},
     "output_type": "display_data"
    },
    {
     "data": {
      "text/html": [
       "<pre style=\"white-space:pre;overflow-x:auto;line-height:normal;font-family:Menlo,'DejaVu Sans Mono',consolas,'Courier New',monospace\">SCVI Model with the following params: \n",
       "n_hidden: <span style=\"color: #008080; text-decoration-color: #008080; font-weight: bold\">128</span>, n_latent: <span style=\"color: #008080; text-decoration-color: #008080; font-weight: bold\">30</span>, n_layers: <span style=\"color: #008080; text-decoration-color: #008080; font-weight: bold\">2</span>, dropout_rate: <span style=\"color: #008080; text-decoration-color: #008080; font-weight: bold\">0.1</span>, dispersion: gene, gene_likelihood: nb, \n",
       "latent_distribution: normal\n",
       "Training status: Trained\n",
       "</pre>\n"
      ],
      "text/plain": [
       "SCVI Model with the following params: \n",
       "n_hidden: \u001b[1;36m128\u001b[0m, n_latent: \u001b[1;36m30\u001b[0m, n_layers: \u001b[1;36m2\u001b[0m, dropout_rate: \u001b[1;36m0.1\u001b[0m, dispersion: gene, gene_likelihood: nb, \n",
       "latent_distribution: normal\n",
       "Training status: Trained\n"
      ]
     },
     "metadata": {},
     "output_type": "display_data"
    },
    {
     "data": {
      "text/html": [
       "<pre style=\"white-space:pre;overflow-x:auto;line-height:normal;font-family:Menlo,'DejaVu Sans Mono',consolas,'Courier New',monospace\">SCVI Model with the following params: \n",
       "n_hidden: <span style=\"color: #008080; text-decoration-color: #008080; font-weight: bold\">128</span>, n_latent: <span style=\"color: #008080; text-decoration-color: #008080; font-weight: bold\">30</span>, n_layers: <span style=\"color: #008080; text-decoration-color: #008080; font-weight: bold\">2</span>, dropout_rate: <span style=\"color: #008080; text-decoration-color: #008080; font-weight: bold\">0.1</span>, dispersion: gene, gene_likelihood: nb, \n",
       "latent_distribution: normal\n",
       "Training status: Trained\n",
       "</pre>\n"
      ],
      "text/plain": [
       "SCVI Model with the following params: \n",
       "n_hidden: \u001b[1;36m128\u001b[0m, n_latent: \u001b[1;36m30\u001b[0m, n_layers: \u001b[1;36m2\u001b[0m, dropout_rate: \u001b[1;36m0.1\u001b[0m, dispersion: gene, gene_likelihood: nb, \n",
       "latent_distribution: normal\n",
       "Training status: Trained\n"
      ]
     },
     "metadata": {},
     "output_type": "display_data"
    },
    {
     "data": {
      "text/plain": [
       "{'tissue.scps': {'data': AnnData object with n_obs × n_vars = 62432 × 20912\n",
       "      obs: 'sample_id', 'patient_id', 'status', 'tissue', 'cell_fraction', 'doublet', 'doublet_score', 'nFeature_RNA', 'nCount_RNA', 'percent_mt', 'percent_ribo', 'qc_pass', '_scvi_batch', '_scvi_labels', 'leiden_scvi_0.1', 'coarse_cell_types'\n",
       "      uns: '_scvi_manager_uuid', '_scvi_uuid', 'neighbors', 'umap'\n",
       "      obsm: 'X_scvi', 'X_umap'\n",
       "      layers: 'counts'\n",
       "      obsp: 'connectivities', 'distances',\n",
       "  'model': },\n",
       " 'tissue.ad': {'data': AnnData object with n_obs × n_vars = 61764 × 21750\n",
       "      obs: 'sample_id', 'patient_id', 'status', 'tissue', 'cell_fraction', 'doublet', 'doublet_score', 'nFeature_RNA', 'nCount_RNA', 'percent_mt', 'percent_ribo', 'qc_pass', '_scvi_batch', '_scvi_labels', 'leiden_scvi_0.25', 'coarse_cell_types'\n",
       "      uns: '_scvi_manager_uuid', '_scvi_uuid', 'neighbors', 'umap'\n",
       "      obsm: 'X_scvi', 'X_umap'\n",
       "      layers: 'counts'\n",
       "      obsp: 'connectivities', 'distances',\n",
       "  'model': },\n",
       " 'tissue.uc': {'data': AnnData object with n_obs × n_vars = 46867 × 18436\n",
       "      obs: 'sample_id', 'patient_id', 'status', 'tissue', 'cell_fraction', 'doublet', 'doublet_score', 'nFeature_RNA', 'nCount_RNA', 'percent_mt', 'percent_ribo', 'qc_pass', '_scvi_batch', '_scvi_labels', 'leiden_scvi_0.4', 'coarse_cell_types'\n",
       "      uns: '_scvi_manager_uuid', '_scvi_uuid', 'neighbors', 'umap'\n",
       "      obsm: 'X_scvi', 'X_umap'\n",
       "      layers: 'counts'\n",
       "      obsp: 'connectivities', 'distances',\n",
       "  'model': },\n",
       " 'pbmc.scps': {'data': AnnData object with n_obs × n_vars = 18557 × 15998\n",
       "      obs: 'sample_id', 'patient_id', 'status', 'tissue', 'cell_fraction', 'doublet', 'doublet_score', 'nFeature_RNA', 'nCount_RNA', 'percent_mt', 'percent_ribo', 'qc_pass', '_scvi_batch', '_scvi_labels', 'leiden_scvi_0.3', 'coarse_cell_types'\n",
       "      uns: '_scvi_manager_uuid', '_scvi_uuid', 'neighbors', 'umap'\n",
       "      obsm: 'X_scvi', 'X_umap'\n",
       "      layers: 'counts'\n",
       "      obsp: 'connectivities', 'distances',\n",
       "  'model': }}"
      ]
     },
     "execution_count": 4,
     "metadata": {},
     "output_type": "execute_result"
    }
   ],
   "source": [
    "# restore results if kernel breaks or gets shut down\n",
    "integration_results = {}\n",
    "for key in ['tissue.scps', 'tissue.ad', 'tissue.uc', 'pbmc.scps']:\n",
    "    print(key)\n",
    "    data = sc.read_h5ad(\n",
    "        f'../data/tcells.{key}.integrated.h5ad'\n",
    "    )\n",
    "    integration_results[key] = {\n",
    "        'data': data,\n",
    "        'model': scvi.model.SCVI.load(\n",
    "            f'../data/tcells.{key}.integration.scvi.model', \n",
    "            adata = data\n",
    "        )\n",
    "    }\n",
    "integration_results"
   ]
  },
  {
   "cell_type": "code",
   "execution_count": 3,
   "id": "31c82acf-7630-4da7-a878-1920c783acf9",
   "metadata": {},
   "outputs": [
    {
     "name": "stderr",
     "output_type": "stream",
     "text": [
      "/users/daniel.malzl/.local/lib/python3.9/site-packages/scanpy/plotting/_utils.py:432: ImplicitModificationWarning: Trying to modify attribute `._uns` of view, initializing view as actual.\n",
      "  adata.uns[value_to_plot + '_colors'] = colors_list\n",
      "/users/daniel.malzl/.local/lib/python3.9/site-packages/scanpy/plotting/_tools/scatterplots.py:394: UserWarning: No data for colormapping provided via 'c'. Parameters 'cmap' will be ignored\n",
      "  cax = scatter(\n",
      "/users/daniel.malzl/.local/lib/python3.9/site-packages/scanpy/plotting/_utils.py:432: ImplicitModificationWarning: Trying to modify attribute `._uns` of view, initializing view as actual.\n",
      "  adata.uns[value_to_plot + '_colors'] = colors_list\n",
      "/users/daniel.malzl/.local/lib/python3.9/site-packages/scanpy/plotting/_tools/scatterplots.py:394: UserWarning: No data for colormapping provided via 'c'. Parameters 'cmap' will be ignored\n",
      "  cax = scatter(\n",
      "No artists with labels found to put in legend.  Note that artists whose label start with an underscore are ignored when legend() is called with no argument.\n",
      "No artists with labels found to put in legend.  Note that artists whose label start with an underscore are ignored when legend() is called with no argument.\n",
      "/users/daniel.malzl/.local/lib/python3.9/site-packages/scanpy/plotting/_utils.py:432: ImplicitModificationWarning: Trying to modify attribute `._uns` of view, initializing view as actual.\n",
      "  adata.uns[value_to_plot + '_colors'] = colors_list\n",
      "/users/daniel.malzl/.local/lib/python3.9/site-packages/scanpy/plotting/_tools/scatterplots.py:394: UserWarning: No data for colormapping provided via 'c'. Parameters 'cmap' will be ignored\n",
      "  cax = scatter(\n",
      "/users/daniel.malzl/.local/lib/python3.9/site-packages/scanpy/plotting/_utils.py:432: ImplicitModificationWarning: Trying to modify attribute `._uns` of view, initializing view as actual.\n",
      "  adata.uns[value_to_plot + '_colors'] = colors_list\n",
      "/users/daniel.malzl/.local/lib/python3.9/site-packages/scanpy/plotting/_tools/scatterplots.py:394: UserWarning: No data for colormapping provided via 'c'. Parameters 'cmap' will be ignored\n",
      "  cax = scatter(\n",
      "No artists with labels found to put in legend.  Note that artists whose label start with an underscore are ignored when legend() is called with no argument.\n",
      "No artists with labels found to put in legend.  Note that artists whose label start with an underscore are ignored when legend() is called with no argument.\n",
      "/users/daniel.malzl/.local/lib/python3.9/site-packages/scanpy/plotting/_utils.py:432: ImplicitModificationWarning: Trying to modify attribute `._uns` of view, initializing view as actual.\n",
      "  adata.uns[value_to_plot + '_colors'] = colors_list\n",
      "/users/daniel.malzl/.local/lib/python3.9/site-packages/scanpy/plotting/_tools/scatterplots.py:394: UserWarning: No data for colormapping provided via 'c'. Parameters 'cmap' will be ignored\n",
      "  cax = scatter(\n",
      "/users/daniel.malzl/.local/lib/python3.9/site-packages/scanpy/plotting/_utils.py:432: ImplicitModificationWarning: Trying to modify attribute `._uns` of view, initializing view as actual.\n",
      "  adata.uns[value_to_plot + '_colors'] = colors_list\n",
      "/users/daniel.malzl/.local/lib/python3.9/site-packages/scanpy/plotting/_tools/scatterplots.py:394: UserWarning: No data for colormapping provided via 'c'. Parameters 'cmap' will be ignored\n",
      "  cax = scatter(\n",
      "No artists with labels found to put in legend.  Note that artists whose label start with an underscore are ignored when legend() is called with no argument.\n",
      "No artists with labels found to put in legend.  Note that artists whose label start with an underscore are ignored when legend() is called with no argument.\n",
      "/users/daniel.malzl/.local/lib/python3.9/site-packages/scanpy/plotting/_utils.py:432: ImplicitModificationWarning: Trying to modify attribute `._uns` of view, initializing view as actual.\n",
      "  adata.uns[value_to_plot + '_colors'] = colors_list\n",
      "/users/daniel.malzl/.local/lib/python3.9/site-packages/scanpy/plotting/_tools/scatterplots.py:394: UserWarning: No data for colormapping provided via 'c'. Parameters 'cmap' will be ignored\n",
      "  cax = scatter(\n",
      "/users/daniel.malzl/.local/lib/python3.9/site-packages/scanpy/plotting/_utils.py:432: ImplicitModificationWarning: Trying to modify attribute `._uns` of view, initializing view as actual.\n",
      "  adata.uns[value_to_plot + '_colors'] = colors_list\n",
      "/users/daniel.malzl/.local/lib/python3.9/site-packages/scanpy/plotting/_tools/scatterplots.py:394: UserWarning: No data for colormapping provided via 'c'. Parameters 'cmap' will be ignored\n",
      "  cax = scatter(\n",
      "No artists with labels found to put in legend.  Note that artists whose label start with an underscore are ignored when legend() is called with no argument.\n",
      "No artists with labels found to put in legend.  Note that artists whose label start with an underscore are ignored when legend() is called with no argument.\n"
     ]
    }
   ],
   "source": [
    "fig, axs = plot.integrate.plot_integration_results(\n",
    "    integration_results,\n",
    "    ['sample_id', 'status', 'FOXP3', 'CD3D'],\n",
    "    [\n",
    "        dict(size = 20, vmax = None),\n",
    "        dict(size = 20, vmax = None),\n",
    "        dict(size = 20, vmax = 1),\n",
    "        dict(size = 20, vmax = 5)\n",
    "    ],\n",
    "    data_key = 'data',\n",
    "    legend_off = True\n",
    ")\n",
    "fig.savefig('../plots/tcells.integration.results.png')"
   ]
  },
  {
   "cell_type": "markdown",
   "id": "bf1a88c1-a67c-4124-adaa-7084c8396257",
   "metadata": {},
   "source": [
    "## Treg annotation"
   ]
  },
  {
   "cell_type": "code",
   "execution_count": 5,
   "id": "ee5f76e0-c170-43b0-8a70-4ac9504060db",
   "metadata": {},
   "outputs": [
    {
     "name": "stderr",
     "output_type": "stream",
     "text": [
      "/users/daniel.malzl/.local/lib/python3.9/site-packages/scanpy/plotting/_utils.py:432: ImplicitModificationWarning: Trying to modify attribute `._uns` of view, initializing view as actual.\n",
      "  adata.uns[value_to_plot + '_colors'] = colors_list\n",
      "/users/daniel.malzl/.local/lib/python3.9/site-packages/scanpy/plotting/_tools/scatterplots.py:394: UserWarning: No data for colormapping provided via 'c'. Parameters 'cmap' will be ignored\n",
      "  cax = scatter(\n",
      "/users/daniel.malzl/.local/lib/python3.9/site-packages/scanpy/plotting/_utils.py:432: ImplicitModificationWarning: Trying to modify attribute `._uns` of view, initializing view as actual.\n",
      "  adata.uns[value_to_plot + '_colors'] = colors_list\n",
      "/users/daniel.malzl/.local/lib/python3.9/site-packages/scanpy/plotting/_tools/scatterplots.py:394: UserWarning: No data for colormapping provided via 'c'. Parameters 'cmap' will be ignored\n",
      "  cax = scatter(\n",
      "/users/daniel.malzl/.local/lib/python3.9/site-packages/scanpy/plotting/_utils.py:432: ImplicitModificationWarning: Trying to modify attribute `._uns` of view, initializing view as actual.\n",
      "  adata.uns[value_to_plot + '_colors'] = colors_list\n",
      "/users/daniel.malzl/.local/lib/python3.9/site-packages/scanpy/plotting/_tools/scatterplots.py:394: UserWarning: No data for colormapping provided via 'c'. Parameters 'cmap' will be ignored\n",
      "  cax = scatter(\n",
      "/users/daniel.malzl/.local/lib/python3.9/site-packages/scanpy/plotting/_utils.py:432: ImplicitModificationWarning: Trying to modify attribute `._uns` of view, initializing view as actual.\n",
      "  adata.uns[value_to_plot + '_colors'] = colors_list\n",
      "/users/daniel.malzl/.local/lib/python3.9/site-packages/scanpy/plotting/_tools/scatterplots.py:394: UserWarning: No data for colormapping provided via 'c'. Parameters 'cmap' will be ignored\n",
      "  cax = scatter(\n",
      "/users/daniel.malzl/.local/lib/python3.9/site-packages/scanpy/plotting/_utils.py:432: ImplicitModificationWarning: Trying to modify attribute `._uns` of view, initializing view as actual.\n",
      "  adata.uns[value_to_plot + '_colors'] = colors_list\n",
      "/users/daniel.malzl/.local/lib/python3.9/site-packages/scanpy/plotting/_tools/scatterplots.py:394: UserWarning: No data for colormapping provided via 'c'. Parameters 'cmap' will be ignored\n",
      "  cax = scatter(\n",
      "/users/daniel.malzl/.local/lib/python3.9/site-packages/scanpy/plotting/_utils.py:432: ImplicitModificationWarning: Trying to modify attribute `._uns` of view, initializing view as actual.\n",
      "  adata.uns[value_to_plot + '_colors'] = colors_list\n",
      "/users/daniel.malzl/.local/lib/python3.9/site-packages/scanpy/plotting/_tools/scatterplots.py:394: UserWarning: No data for colormapping provided via 'c'. Parameters 'cmap' will be ignored\n",
      "  cax = scatter(\n",
      "/users/daniel.malzl/.local/lib/python3.9/site-packages/scanpy/plotting/_utils.py:432: ImplicitModificationWarning: Trying to modify attribute `._uns` of view, initializing view as actual.\n",
      "  adata.uns[value_to_plot + '_colors'] = colors_list\n",
      "/users/daniel.malzl/.local/lib/python3.9/site-packages/scanpy/plotting/_tools/scatterplots.py:394: UserWarning: No data for colormapping provided via 'c'. Parameters 'cmap' will be ignored\n",
      "  cax = scatter(\n",
      "/users/daniel.malzl/.local/lib/python3.9/site-packages/scanpy/plotting/_utils.py:432: ImplicitModificationWarning: Trying to modify attribute `._uns` of view, initializing view as actual.\n",
      "  adata.uns[value_to_plot + '_colors'] = colors_list\n",
      "/users/daniel.malzl/.local/lib/python3.9/site-packages/scanpy/plotting/_tools/scatterplots.py:394: UserWarning: No data for colormapping provided via 'c'. Parameters 'cmap' will be ignored\n",
      "  cax = scatter(\n",
      "/users/daniel.malzl/.local/lib/python3.9/site-packages/scanpy/plotting/_utils.py:432: ImplicitModificationWarning: Trying to modify attribute `._uns` of view, initializing view as actual.\n",
      "  adata.uns[value_to_plot + '_colors'] = colors_list\n",
      "/users/daniel.malzl/.local/lib/python3.9/site-packages/scanpy/plotting/_tools/scatterplots.py:394: UserWarning: No data for colormapping provided via 'c'. Parameters 'cmap' will be ignored\n",
      "  cax = scatter(\n",
      "/users/daniel.malzl/.local/lib/python3.9/site-packages/scanpy/plotting/_utils.py:432: ImplicitModificationWarning: Trying to modify attribute `._uns` of view, initializing view as actual.\n",
      "  adata.uns[value_to_plot + '_colors'] = colors_list\n",
      "/users/daniel.malzl/.local/lib/python3.9/site-packages/scanpy/plotting/_tools/scatterplots.py:394: UserWarning: No data for colormapping provided via 'c'. Parameters 'cmap' will be ignored\n",
      "  cax = scatter(\n",
      "/users/daniel.malzl/.local/lib/python3.9/site-packages/scanpy/plotting/_utils.py:432: ImplicitModificationWarning: Trying to modify attribute `._uns` of view, initializing view as actual.\n",
      "  adata.uns[value_to_plot + '_colors'] = colors_list\n",
      "/users/daniel.malzl/.local/lib/python3.9/site-packages/scanpy/plotting/_tools/scatterplots.py:394: UserWarning: No data for colormapping provided via 'c'. Parameters 'cmap' will be ignored\n",
      "  cax = scatter(\n",
      "/users/daniel.malzl/.local/lib/python3.9/site-packages/scanpy/plotting/_utils.py:432: ImplicitModificationWarning: Trying to modify attribute `._uns` of view, initializing view as actual.\n",
      "  adata.uns[value_to_plot + '_colors'] = colors_list\n",
      "/users/daniel.malzl/.local/lib/python3.9/site-packages/scanpy/plotting/_tools/scatterplots.py:394: UserWarning: No data for colormapping provided via 'c'. Parameters 'cmap' will be ignored\n",
      "  cax = scatter(\n",
      "/users/daniel.malzl/.local/lib/python3.9/site-packages/scanpy/plotting/_utils.py:432: ImplicitModificationWarning: Trying to modify attribute `._uns` of view, initializing view as actual.\n",
      "  adata.uns[value_to_plot + '_colors'] = colors_list\n",
      "/users/daniel.malzl/.local/lib/python3.9/site-packages/scanpy/plotting/_tools/scatterplots.py:394: UserWarning: No data for colormapping provided via 'c'. Parameters 'cmap' will be ignored\n",
      "  cax = scatter(\n",
      "/users/daniel.malzl/.local/lib/python3.9/site-packages/scanpy/plotting/_utils.py:432: ImplicitModificationWarning: Trying to modify attribute `._uns` of view, initializing view as actual.\n",
      "  adata.uns[value_to_plot + '_colors'] = colors_list\n",
      "/users/daniel.malzl/.local/lib/python3.9/site-packages/scanpy/plotting/_tools/scatterplots.py:394: UserWarning: No data for colormapping provided via 'c'. Parameters 'cmap' will be ignored\n",
      "  cax = scatter(\n",
      "/users/daniel.malzl/.local/lib/python3.9/site-packages/scanpy/plotting/_utils.py:432: ImplicitModificationWarning: Trying to modify attribute `._uns` of view, initializing view as actual.\n",
      "  adata.uns[value_to_plot + '_colors'] = colors_list\n",
      "/users/daniel.malzl/.local/lib/python3.9/site-packages/scanpy/plotting/_tools/scatterplots.py:394: UserWarning: No data for colormapping provided via 'c'. Parameters 'cmap' will be ignored\n",
      "  cax = scatter(\n",
      "/users/daniel.malzl/.local/lib/python3.9/site-packages/scanpy/plotting/_utils.py:432: ImplicitModificationWarning: Trying to modify attribute `._uns` of view, initializing view as actual.\n",
      "  adata.uns[value_to_plot + '_colors'] = colors_list\n",
      "/users/daniel.malzl/.local/lib/python3.9/site-packages/scanpy/plotting/_tools/scatterplots.py:394: UserWarning: No data for colormapping provided via 'c'. Parameters 'cmap' will be ignored\n",
      "  cax = scatter(\n"
     ]
    }
   ],
   "source": [
    "fig, axs = plot.integrate.plot_leiden_clusterings(\n",
    "    integration_results,\n",
    "    [0.3, 0.4, 0.5, 1],\n",
    "    data_key = 'data',\n",
    "    legend_loc = 'on data',\n",
    "    size = 20\n",
    ")\n",
    "fig.savefig('../plots/tcells.cluster.inspect.png')"
   ]
  },
  {
   "cell_type": "code",
   "execution_count": 6,
   "id": "bfc0ea78-6efa-4f44-bfd6-b4db23e83d03",
   "metadata": {},
   "outputs": [
    {
     "ename": "KeyError",
     "evalue": "'tissue.scps'",
     "output_type": "error",
     "traceback": [
      "\u001b[0;31m---------------------------------------------------------------------------\u001b[0m",
      "\u001b[0;31mKeyError\u001b[0m                                  Traceback (most recent call last)",
      "Input \u001b[0;32mIn [6]\u001b[0m, in \u001b[0;36m<cell line: 7>\u001b[0;34m()\u001b[0m\n\u001b[1;32m      1\u001b[0m resolutions \u001b[38;5;241m=\u001b[39m {\n\u001b[1;32m      2\u001b[0m     \u001b[38;5;124m'\u001b[39m\u001b[38;5;124mtcells.tissue.scps\u001b[39m\u001b[38;5;124m'\u001b[39m: \u001b[38;5;241m0.5\u001b[39m,\n\u001b[1;32m      3\u001b[0m     \u001b[38;5;124m'\u001b[39m\u001b[38;5;124mtcells.tissue.uc\u001b[39m\u001b[38;5;124m'\u001b[39m: \u001b[38;5;241m1\u001b[39m,\n\u001b[1;32m      4\u001b[0m     \u001b[38;5;124m'\u001b[39m\u001b[38;5;124mtcells.tissue.ad\u001b[39m\u001b[38;5;124m'\u001b[39m: \u001b[38;5;241m0.3\u001b[39m,\n\u001b[1;32m      5\u001b[0m     \u001b[38;5;124m'\u001b[39m\u001b[38;5;124mtcells.pbmc.scps\u001b[39m\u001b[38;5;124m'\u001b[39m: \u001b[38;5;241m0.5\u001b[39m\n\u001b[1;32m      6\u001b[0m }\n\u001b[1;32m      7\u001b[0m \u001b[38;5;28;01mfor\u001b[39;00m k, d \u001b[38;5;129;01min\u001b[39;00m integration_results\u001b[38;5;241m.\u001b[39mitems():\n\u001b[0;32m----> 8\u001b[0m     resolution \u001b[38;5;241m=\u001b[39m \u001b[43mresolutions\u001b[49m\u001b[43m[\u001b[49m\u001b[43mk\u001b[49m\u001b[43m]\u001b[49m\n\u001b[1;32m      9\u001b[0m     sc\u001b[38;5;241m.\u001b[39mtl\u001b[38;5;241m.\u001b[39mleiden(\n\u001b[1;32m     10\u001b[0m         d[\u001b[38;5;124m'\u001b[39m\u001b[38;5;124mdata\u001b[39m\u001b[38;5;124m'\u001b[39m], \n\u001b[1;32m     11\u001b[0m         key_added \u001b[38;5;241m=\u001b[39m \u001b[38;5;124mf\u001b[39m\u001b[38;5;124m'\u001b[39m\u001b[38;5;124mleiden_scvi_\u001b[39m\u001b[38;5;132;01m{\u001b[39;00mresolution\u001b[38;5;132;01m}\u001b[39;00m\u001b[38;5;124m'\u001b[39m,\n\u001b[1;32m     12\u001b[0m         resolution \u001b[38;5;241m=\u001b[39m resolution\n\u001b[1;32m     13\u001b[0m     )\n",
      "\u001b[0;31mKeyError\u001b[0m: 'tissue.scps'"
     ]
    }
   ],
   "source": [
    "resolutions = {\n",
    "    'tcells.tissue.scps': 0.5,\n",
    "    'tcells.tissue.uc': 1,\n",
    "    'tcells.tissue.ad': 0.3,\n",
    "    'tcells.pbmc.scps': 0.5\n",
    "}\n",
    "for k, d in integration_results.items():\n",
    "    resolution = resolutions[k]\n",
    "    sc.tl.leiden(\n",
    "        d['data'], \n",
    "        key_added = f'leiden_scvi_{resolution}',\n",
    "        resolution = resolution\n",
    "    )"
   ]
  },
  {
   "cell_type": "code",
   "execution_count": null,
   "id": "324a8750-758b-4b95-88bd-a890b7d2a62d",
   "metadata": {},
   "outputs": [],
   "source": [
    "cluster_keys = {k: f'leiden_scvi_{r}' for k, r in resolutions.items()}\n",
    "fig, axs = plot.integrate.plot_clustering_and_expression(\n",
    "    integration_results,\n",
    "    cluster_keys,\n",
    "    ['CD3D', 'FOXP3'],\n",
    "    [\n",
    "        dict(size = 20, vmax = None, legend_loc = 'on data'),\n",
    "        dict(size = 20, vmax = 10),\n",
    "        dict(size = 20, vmax = 1)\n",
    "    ],\n",
    "    data_key = 'data'\n",
    ")\n",
    "fig.savefig('../plots/tcells.cluster.results.png')"
   ]
  },
  {
   "cell_type": "code",
   "execution_count": null,
   "id": "93744863-65a9-4179-9721-be5e17f483b5",
   "metadata": {},
   "outputs": [],
   "source": [
    "treg_clusters = {\n",
    "    'tcells.tissue.scps': '2',\n",
    "    'tcells.tissue.uc': '2',\n",
    "    'tcells.tissue.ad': '2',\n",
    "    'tcells.pbmc.scps': '4'\n",
    "}\n",
    "\n",
    "treg_clusters = {\n",
    "    k: [c for c in cs.split(',')] for k, cs in tcell_clusters.items()\n",
    "}"
   ]
  },
  {
   "cell_type": "code",
   "execution_count": null,
   "id": "913c624b-0a1f-4003-8659-26ccf76f00d9",
   "metadata": {},
   "outputs": [],
   "source": [
    "for k, d in integration_results.items():\n",
    "    clustering = cluster_keys[k]\n",
    "    cluster_to_treg = treg_clusters[k]\n",
    "    d['data'].obs['t_cell_types'] = d['data'].obs[clustering].apply(\n",
    "        lambda x: 'Treg' if x in cluster_to_treg[k] else 'other'\n",
    "    )\n",
    "    print(k, d['data'].obs.groupby('t_cell_types').count().iloc[:, 0])\n",
    "    \n",
    "fig, axs = plot.integrate.plot_clustering_and_expression(\n",
    "    integration_results,\n",
    "    {k: 't_cell_types' for k in integration_results.keys()},\n",
    "    ['FOXP3', 'SAT1'],\n",
    "    [\n",
    "        dict(size = 20, vmax = None, legend_loc = 'on data'),\n",
    "        dict(size = 20, vmax = 1),\n",
    "        dict(size = 20, vmax = 1)\n",
    "    ],\n",
    "    data_key = 'data'\n",
    ")\n",
    "fig.savefig('../plots/tcells.cluster.treg.png')"
   ]
  },
  {
   "cell_type": "code",
   "execution_count": 12,
   "id": "cda71485-6f95-4436-be89-e071b4c998eb",
   "metadata": {},
   "outputs": [],
   "source": [
    "for k, d in integration_results.items():\n",
    "    d['data'].write(\n",
    "        f'../data/{k}.integrated.clustered.h5ad'\n",
    "    )"
   ]
  },
  {
   "cell_type": "code",
   "execution_count": null,
   "id": "dc9248a8",
   "metadata": {},
   "outputs": [],
   "source": [
    "for k, d in integration_results.items():\n",
    "    adata = d['data']\n",
    "    prefix = key.replace('tcells', 'tregs')\n",
    "    io.write_sc_data(\n",
    "        adata[adata.obs.t_cell_types == 'Treg', :],\n",
    "        '../diffexp/{prefix}',\n",
    "        obs_columns = ['sample_id', 'status']\n",
    "    )"
   ]
  }
 ],
 "metadata": {
  "kernelspec": {
   "display_name": "scpython",
   "language": "python",
   "name": "scpython"
  },
  "language_info": {
   "codemirror_mode": {
    "name": "ipython",
    "version": 3
   },
   "file_extension": ".py",
   "mimetype": "text/x-python",
   "name": "python",
   "nbconvert_exporter": "python",
   "pygments_lexer": "ipython3",
   "version": "3.9.4"
  }
 },
 "nbformat": 4,
 "nbformat_minor": 5
}
