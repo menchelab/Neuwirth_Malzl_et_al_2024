{
 "cells": [
  {
   "cell_type": "code",
   "execution_count": 1,
   "id": "bab6bc39-4ecb-4e02-9131-b64600eb3ffa",
   "metadata": {},
   "outputs": [
    {
     "data": {
      "text/plain": [
       "AnnData object with n_obs × n_vars = 9773 × 20912\n",
       "    obs: 'sample_id', 'patient_id', 'status', 'tissue', 'cell_fraction', 'doublet', 'doublet_score', 'nFeature_RNA', 'nCount_RNA', 'percent_mt', 'percent_ribo', 'qc_pass', '_scvi_batch', '_scvi_labels', 'leiden_scvi_0.1', 'coarse_cell_types', 'leiden_scvi_0.4', 'dataset', 'sat1_status', 'clustering', 'sat1_status_majority_vote'\n",
       "    uns: '_scvi_manager_uuid', '_scvi_uuid', 'leiden', 'log1p', 'neighbors', 'umap'\n",
       "    obsm: 'X_scvi', 'X_umap'\n",
       "    layers: 'counts'\n",
       "    obsp: 'connectivities', 'distances'"
      ]
     },
     "execution_count": 1,
     "metadata": {},
     "output_type": "execute_result"
    }
   ],
   "source": [
    "import scanpy as sc\n",
    "import reComBat as rc\n",
    "\n",
    "adata = sc.read_h5ad(\n",
    "    '../data/tregs.tissue.scps.integrated.annotated.h5ad'\n",
    ")\n",
    "adata.X = adata.layers['counts'].copy()\n",
    "adata"
   ]
  },
  {
   "cell_type": "code",
   "execution_count": 2,
   "id": "ef7414de-c15d-4c9e-806a-d938278d01bc",
   "metadata": {},
   "outputs": [
    {
     "data": {
      "text/plain": [
       "(0.0, 0.1)"
      ]
     },
     "execution_count": 2,
     "metadata": {},
     "output_type": "execute_result"
    },
    {
     "data": {
      "image/png": "[encoded data removed]",
      "text/plain": [
       "<Figure size 432x288 with 1 Axes>"
      ]
     },
     "metadata": {
      "needs_background": "light"
     },
     "output_type": "display_data"
    }
   ],
   "source": [
    "import numpy as np\n",
    "import seaborn as sns\n",
    "import matplotlib.pyplot as plt\n",
    "\n",
    "percent_expressed = np.array((adata.X > 0).sum(axis = 0) / adata.n_obs)[0, :]\n",
    "\n",
    "fig, ax = plt.subplots()\n",
    "sns.histplot(\n",
    "    percent_expressed,\n",
    "    ax = ax,\n",
    "    binwidth = 0.005\n",
    ")\n",
    "ax.set_xlim(0, 0.1)"
   ]
  },
  {
   "cell_type": "code",
   "execution_count": 3,
   "id": "38b7cd4a-0300-4d83-bba0-94c3446c0bde",
   "metadata": {},
   "outputs": [],
   "source": [
    "filtered_adatas = {\n",
    "    p: adata[:, percent_expressed > p].copy()\n",
    "    for p\n",
    "    in [0.05, 0.01, 0.005, 0.001]\n",
    "}"
   ]
  },
  {
   "cell_type": "code",
   "execution_count": 4,
   "id": "b0593b76-177b-4530-ba49-3421247069cd",
   "metadata": {},
   "outputs": [],
   "source": [
    "model = rc.reComBat(\n",
    "    parametric = True,\n",
    "    model = 'ridge',\n",
    "    config = {'alpha':1e-9},\n",
    "    conv_criterion = 1e-4,\n",
    "    max_iter = 1000,\n",
    "    n_jobs = 8,\n",
    "    mean_only = False,         \n",
    "    optimize_params = True,\n",
    "    reference_batch = None,\n",
    "    verbose = True\n",
    ")"
   ]
  },
  {
   "cell_type": "code",
   "execution_count": 5,
   "id": "86a30c07-f4bd-4d28-82f8-12001646541f",
   "metadata": {},
   "outputs": [
    {
     "name": "stderr",
     "output_type": "stream",
     "text": [
      "[reComBat] 2024-06-14 10:57:12,162 Starting to fot reComBat.\n",
      "[reComBat] 2024-06-14 10:57:12,216 Fit the linear model.\n",
      "[reComBat] 2024-06-14 10:57:13,938 Starting the empirical parametric optimisation.\n",
      "[reComBat] 2024-06-14 10:57:15,450 Optimisation finished.\n",
      "[reComBat] 2024-06-14 10:57:15,451 reComBat is fitted.\n",
      "[reComBat] 2024-06-14 10:57:15,452 Starting to transform.\n",
      "[reComBat] 2024-06-14 10:57:16,936 Transform finished.\n",
      "[reComBat] 2024-06-14 10:58:42,880 Starting to fot reComBat.\n",
      "[reComBat] 2024-06-14 10:58:42,967 Fit the linear model.\n",
      "[reComBat] 2024-06-14 10:58:45,799 Starting the empirical parametric optimisation.\n",
      "[reComBat] 2024-06-14 10:58:48,418 Optimisation finished.\n",
      "[reComBat] 2024-06-14 10:58:48,419 reComBat is fitted.\n",
      "[reComBat] 2024-06-14 10:58:48,422 Starting to transform.\n",
      "[reComBat] 2024-06-14 10:58:50,810 Transform finished.\n",
      "[reComBat] 2024-06-14 11:01:15,912 Starting to fot reComBat.\n",
      "[reComBat] 2024-06-14 11:01:16,006 Fit the linear model.\n",
      "[reComBat] 2024-06-14 11:01:19,300 Starting the empirical parametric optimisation.\n",
      "[reComBat] 2024-06-14 11:01:22,163 Optimisation finished.\n",
      "[reComBat] 2024-06-14 11:01:22,164 reComBat is fitted.\n",
      "[reComBat] 2024-06-14 11:01:22,167 Starting to transform.\n",
      "[reComBat] 2024-06-14 11:01:24,808 Transform finished.\n",
      "[reComBat] 2024-06-14 11:04:17,865 Starting to fot reComBat.\n",
      "[reComBat] 2024-06-14 11:04:17,982 Fit the linear model.\n",
      "[reComBat] 2024-06-14 11:04:21,898 Starting the empirical parametric optimisation.\n",
      "[reComBat] 2024-06-14 11:04:25,489 Optimisation finished.\n",
      "[reComBat] 2024-06-14 11:04:25,490 reComBat is fitted.\n",
      "[reComBat] 2024-06-14 11:04:25,494 Starting to transform.\n",
      "[reComBat] 2024-06-14 11:04:28,707 Transform finished.\n"
     ]
    }
   ],
   "source": [
    "import pandas as pd\n",
    "\n",
    "\n",
    "def prepare_data_for_recombat(adata):\n",
    "    sc.pp.normalize_total(adata, target_sum = 1e4)\n",
    "    norm_counts = adata.to_df()\n",
    "    standardized_norm_counts = ((norm_counts.T - norm_counts.T.mean()) / norm_counts.T.std()).T\n",
    "    return standardized_norm_counts\n",
    "\n",
    "\n",
    "for p, bdata in filtered_adatas.items():\n",
    "    df = prepare_data_for_recombat(bdata)\n",
    "    result = model.fit_transform(\n",
    "        df,\n",
    "        adata.obs.sample_id,\n",
    "    )\n",
    "    result.to_csv(\n",
    "        f'../scenic_resource/recombat_p{p}.tsv',\n",
    "        sep = '\\t'\n",
    "    )"
   ]
  },
  {
   "cell_type": "code",
   "execution_count": 3,
   "id": "858a56e7-a9c4-4b29-9e71-d80f1d3c9020",
   "metadata": {},
   "outputs": [
    {
     "data": {
      "text/plain": [
       "(0.0, 0.1)"
      ]
     },
     "execution_count": 3,
     "metadata": {},
     "output_type": "execute_result"
    },
    {
     "data": {
      "image/png": "[encoded data removed]",
      "text/plain": [
       "<Figure size 432x288 with 1 Axes>"
      ]
     },
     "metadata": {
      "needs_background": "light"
     },
     "output_type": "display_data"
    }
   ],
   "source": [
    "diseases = adata[adata.obs.status != 'normal', :].copy()\n",
    "\n",
    "percent_expressed = np.array((diseases.X > 0).sum(axis = 0) / diseases.n_obs)[0, :]\n",
    "\n",
    "fig, ax = plt.subplots()\n",
    "sns.histplot(\n",
    "    percent_expressed,\n",
    "    ax = ax,\n",
    "    binwidth = 0.005\n",
    ")\n",
    "ax.set_xlim(0, 0.1)"
   ]
  },
  {
   "cell_type": "code",
   "execution_count": 4,
   "id": "60fab4e1-4eb6-43d8-b681-d9f5a568a646",
   "metadata": {},
   "outputs": [],
   "source": [
    "filtered_diseases = {\n",
    "    p: diseases[:, percent_expressed > p].copy()\n",
    "    for p\n",
    "    in [0.05, 0.01, 0.005, 0.001]\n",
    "}"
   ]
  },
  {
   "cell_type": "code",
   "execution_count": 5,
   "id": "c800c449-fb69-4c2d-9588-c88703a78a40",
   "metadata": {},
   "outputs": [],
   "source": [
    "model = rc.reComBat(\n",
    "    parametric = True,\n",
    "    model = 'ridge',\n",
    "    config = {'alpha':1e-9},\n",
    "    conv_criterion = 1e-4,\n",
    "    max_iter = 1000,\n",
    "    n_jobs = 8,\n",
    "    mean_only = False,         \n",
    "    optimize_params = True,\n",
    "    reference_batch = None,\n",
    "    verbose = True\n",
    ")"
   ]
  },
  {
   "cell_type": "code",
   "execution_count": 8,
   "id": "e14113a8-9a3d-45f4-99de-f9c1de4fda89",
   "metadata": {},
   "outputs": [
    {
     "name": "stderr",
     "output_type": "stream",
     "text": [
      "[reComBat] 2024-06-17 11:15:59,070 Starting to fot reComBat.\n",
      "[reComBat] 2024-06-17 11:15:59,094 Fit the linear model.\n",
      "[reComBat] 2024-06-17 11:16:00,064 Starting the empirical parametric optimisation.\n",
      "[reComBat] 2024-06-17 11:16:00,637 Optimisation finished.\n",
      "[reComBat] 2024-06-17 11:16:00,639 reComBat is fitted.\n",
      "[reComBat] 2024-06-17 11:16:00,640 Starting to transform.\n",
      "[reComBat] 2024-06-17 11:16:01,285 Transform finished.\n",
      "[reComBat] 2024-06-17 11:16:44,543 Starting to fot reComBat.\n",
      "[reComBat] 2024-06-17 11:16:44,592 Fit the linear model.\n",
      "[reComBat] 2024-06-17 11:16:46,071 Starting the empirical parametric optimisation.\n",
      "[reComBat] 2024-06-17 11:16:47,215 Optimisation finished.\n",
      "[reComBat] 2024-06-17 11:16:47,216 reComBat is fitted.\n",
      "[reComBat] 2024-06-17 11:16:47,218 Starting to transform.\n",
      "[reComBat] 2024-06-17 11:16:48,363 Transform finished.\n",
      "[reComBat] 2024-06-17 11:17:57,089 Starting to fot reComBat.\n",
      "[reComBat] 2024-06-17 11:17:57,139 Fit the linear model.\n",
      "[reComBat] 2024-06-17 11:17:58,728 Starting the empirical parametric optimisation.\n",
      "[reComBat] 2024-06-17 11:17:59,928 Optimisation finished.\n",
      "[reComBat] 2024-06-17 11:17:59,929 reComBat is fitted.\n",
      "[reComBat] 2024-06-17 11:17:59,931 Starting to transform.\n",
      "[reComBat] 2024-06-17 11:18:01,130 Transform finished.\n",
      "[reComBat] 2024-06-17 11:19:12,351 Starting to fot reComBat.\n",
      "[reComBat] 2024-06-17 11:19:12,414 Fit the linear model.\n",
      "[reComBat] 2024-06-17 11:19:14,480 Starting the empirical parametric optimisation.\n",
      "[reComBat] 2024-06-17 11:19:16,281 Optimisation finished.\n",
      "[reComBat] 2024-06-17 11:19:16,282 reComBat is fitted.\n",
      "[reComBat] 2024-06-17 11:19:16,285 Starting to transform.\n",
      "[reComBat] 2024-06-17 11:19:17,854 Transform finished.\n"
     ]
    }
   ],
   "source": [
    "import pandas as pd\n",
    "\n",
    "\n",
    "def prepare_data_for_recombat(adata):\n",
    "    sc.pp.normalize_total(adata, target_sum = 1e4)\n",
    "    norm_counts = adata.to_df()\n",
    "    standardized_norm_counts = ((norm_counts.T - norm_counts.T.mean()) / norm_counts.T.std()).T\n",
    "    return standardized_norm_counts\n",
    "\n",
    "\n",
    "for p, bdata in filtered_diseases.items():\n",
    "    df = prepare_data_for_recombat(bdata)\n",
    "    result = model.fit_transform(\n",
    "        df,\n",
    "        bdata.obs.sample_id,\n",
    "    )\n",
    "    result.to_csv(\n",
    "        f'../scenic_resource/recombat_disease_only_p{p}.tsv',\n",
    "        sep = '\\t'\n",
    "    )"
   ]
  },
  {
   "cell_type": "code",
   "execution_count": null,
   "id": "771ac268-3d24-4190-8828-c5b2e7e5b2da",
   "metadata": {},
   "outputs": [],
   "source": []
  }
 ],
 "metadata": {
  "kernelspec": {
   "display_name": "hgpython",
   "language": "python",
   "name": "hgpython"
  },
  "language_info": {
   "codemirror_mode": {
    "name": "ipython",
    "version": 3
   },
   "file_extension": ".py",
   "mimetype": "text/x-python",
   "name": "python",
   "nbconvert_exporter": "python",
   "pygments_lexer": "ipython3",
   "version": "3.9.2"
  }
 },
 "nbformat": 4,
 "nbformat_minor": 5
}
