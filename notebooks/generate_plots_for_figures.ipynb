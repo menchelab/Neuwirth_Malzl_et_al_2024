{
 "cells": [
  {
   "cell_type": "code",
   "execution_count": 1,
   "id": "7c4e714c-fc84-43f2-bdec-00aaae213d3f",
   "metadata": {},
   "outputs": [
    {
     "name": "stderr",
     "output_type": "stream",
     "text": [
      "Global seed set to 0\n"
     ]
    }
   ],
   "source": [
    "import gc\n",
    "import os\n",
    "import scanpy as sc\n",
    "import matplotlib.pyplot as plt\n",
    "import numpy as np\n",
    "import seaborn as sns\n",
    "import pandas as pd\n",
    "import anndata as ad\n",
    "\n",
    "from sctools import plot\n",
    "from matplotlib.colors import LinearSegmentedColormap\n",
    "from scanpy.pl.palettes import default_28\n",
    "\n",
    "\n",
    "cmap = LinearSegmentedColormap.from_list(\n",
    "    'petrols',\n",
    "    ['#edf8b1', '#7fcdbb', '#2c7fb8'][::-1],\n",
    "    255\n",
    ")\n",
    "base_dir = '../plots'\n",
    "    \n",
    "def compute_raw_umap(adata):\n",
    "    tmp = adata.copy()\n",
    "    tmp.layers['counts'] = tmp.X.copy()\n",
    "    sc.pp.normalize_total(\n",
    "        tmp, \n",
    "        target_sum = 1e4\n",
    "    )\n",
    "    sc.pp.log1p(tmp)\n",
    "    sc.pp.highly_variable_genes(\n",
    "        tmp,\n",
    "        n_top_genes = 4000,\n",
    "        layer = \"counts\",\n",
    "        flavor = \"seurat_v3\",\n",
    "    )\n",
    "    sc.pp.pca(\n",
    "        tmp, \n",
    "        n_comps = 40, \n",
    "        svd_solver = 'arpack',\n",
    "        use_highly_variable = True,\n",
    "    )\n",
    "    sc.pp.neighbors(\n",
    "        tmp,\n",
    "        use_rep = 'X_pca'\n",
    "    )\n",
    "    sc.tl.umap(tmp)\n",
    "    return tmp"
   ]
  },
  {
   "cell_type": "markdown",
   "id": "64198d1d-debb-4e92-aa40-ca22938eb728",
   "metadata": {},
   "source": [
    "## Raw data"
   ]
  },
  {
   "cell_type": "code",
   "execution_count": 2,
   "id": "1bff9060-7877-4eb2-a2ca-f47dac148bf7",
   "metadata": {},
   "outputs": [
    {
     "data": {
      "text/plain": [
       "{'tissue.uc': AnnData object with n_obs × n_vars = 79378 × 4000\n",
       "     obs: 'sample_id', 'patient_id', 'status', 'tissue', 'cell_fraction', 'doublet', 'doublet_score', 'nFeature_RNA', 'nCount_RNA', 'percent_mt', 'percent_ribo', 'qc_pass', '_scvi_batch', '_scvi_labels', 'leiden_scvi_0.4', 'coarse_cell_types'\n",
       "     var: 'highly_variable', 'highly_variable_rank', 'means', 'variances', 'variances_norm'\n",
       "     uns: '_scvi_manager_uuid', '_scvi_uuid', 'hvg', 'leiden', 'neighbors', 'umap'\n",
       "     obsm: 'X_scvi', 'X_umap'\n",
       "     layers: 'counts'\n",
       "     obsp: 'connectivities', 'distances',\n",
       " 'tissue.ad': AnnData object with n_obs × n_vars = 318976 × 4000\n",
       "     obs: 'sample_id', 'patient_id', 'status', 'tissue', 'cell_fraction', 'doublet', 'doublet_score', 'nFeature_RNA', 'nCount_RNA', 'percent_mt', 'percent_ribo', 'qc_pass', '_scvi_batch', '_scvi_labels', 'leiden_scvi_0.25', 'coarse_cell_types'\n",
       "     var: 'highly_variable', 'highly_variable_rank', 'means', 'variances', 'variances_norm'\n",
       "     uns: '_scvi_manager_uuid', '_scvi_uuid', 'hvg', 'leiden', 'neighbors', 'umap'\n",
       "     obsm: 'X_scvi', 'X_umap'\n",
       "     layers: 'counts'\n",
       "     obsp: 'connectivities', 'distances',\n",
       " 'pbmc.scps': AnnData object with n_obs × n_vars = 40148 × 4000\n",
       "     obs: 'sample_id', 'patient_id', 'status', 'tissue', 'cell_fraction', 'doublet', 'doublet_score', 'nFeature_RNA', 'nCount_RNA', 'percent_mt', 'percent_ribo', 'qc_pass', '_scvi_batch', '_scvi_labels', 'leiden_scvi_0.3', 'coarse_cell_types'\n",
       "     var: 'highly_variable', 'highly_variable_rank', 'means', 'variances', 'variances_norm'\n",
       "     uns: '_scvi_manager_uuid', '_scvi_uuid', 'hvg', 'leiden', 'neighbors', 'umap'\n",
       "     obsm: 'X_scvi', 'X_umap'\n",
       "     layers: 'counts'\n",
       "     obsp: 'connectivities', 'distances',\n",
       " 'tissue.scps': AnnData object with n_obs × n_vars = 332546 × 4000\n",
       "     obs: 'sample_id', 'patient_id', 'status', 'tissue', 'cell_fraction', 'doublet', 'doublet_score', 'nFeature_RNA', 'nCount_RNA', 'percent_mt', 'percent_ribo', 'qc_pass', '_scvi_batch', '_scvi_labels', 'leiden_scvi_0.1', 'coarse_cell_types', 'leiden_scvi_0.75', 'cell_type'\n",
       "     var: 'highly_variable', 'highly_variable_rank', 'means', 'variances', 'variances_norm'\n",
       "     uns: '_scvi_manager_uuid', '_scvi_uuid', 'cell_type_colors', 'coarse_cell_types_colors', 'hvg', 'leiden', 'leiden_scvi_0.1_colors', 'leiden_scvi_0.75_colors', 'neighbors', 'umap'\n",
       "     obsm: 'X_scvi', 'X_umap'\n",
       "     layers: 'counts'\n",
       "     obsp: 'connectivities', 'distances'}"
      ]
     },
     "execution_count": 2,
     "metadata": {},
     "output_type": "execute_result"
    }
   ],
   "source": [
    "data_keys = [\n",
    "    'tissue.uc',\n",
    "    'tissue.ad',\n",
    "    'pbmc.scps'\n",
    "]\n",
    "adatas = {\n",
    "    k: sc.read_h5ad(f'../data/{k}.integrated.clustered.h5ad') for k in data_keys\n",
    "}\n",
    "adatas['tissue.scps'] = sc.read_h5ad(f'../data/tissue.scps.integrated.annotated.h5ad')\n",
    "adatas"
   ]
  },
  {
   "cell_type": "code",
   "execution_count": 3,
   "id": "b1bd6d50-ccc1-4d61-bdc4-fd011c567868",
   "metadata": {},
   "outputs": [
    {
     "name": "stdout",
     "output_type": "stream",
     "text": [
      "tissue.uc\n"
     ]
    },
    {
     "name": "stderr",
     "output_type": "stream",
     "text": [
      "/users/daniel.malzl/.local/lib/python3.9/site-packages/umap/distances.py:1063: NumbaDeprecationWarning: The 'nopython' keyword argument was not supplied to the 'numba.jit' decorator. The implicit default value for this argument is currently False, but it will be changed to True in Numba 0.59.0. See https://numba.readthedocs.io/en/stable/reference/deprecation.html#deprecation-of-object-mode-fall-back-behaviour-when-using-jit for details.\n",
      "  @numba.jit()\n",
      "/users/daniel.malzl/.local/lib/python3.9/site-packages/umap/distances.py:1071: NumbaDeprecationWarning: The 'nopython' keyword argument was not supplied to the 'numba.jit' decorator. The implicit default value for this argument is currently False, but it will be changed to True in Numba 0.59.0. See https://numba.readthedocs.io/en/stable/reference/deprecation.html#deprecation-of-object-mode-fall-back-behaviour-when-using-jit for details.\n",
      "  @numba.jit()\n",
      "/users/daniel.malzl/.local/lib/python3.9/site-packages/umap/distances.py:1086: NumbaDeprecationWarning: The 'nopython' keyword argument was not supplied to the 'numba.jit' decorator. The implicit default value for this argument is currently False, but it will be changed to True in Numba 0.59.0. See https://numba.readthedocs.io/en/stable/reference/deprecation.html#deprecation-of-object-mode-fall-back-behaviour-when-using-jit for details.\n",
      "  @numba.jit()\n",
      "/users/daniel.malzl/.local/lib/python3.9/site-packages/umap/umap_.py:660: NumbaDeprecationWarning: The 'nopython' keyword argument was not supplied to the 'numba.jit' decorator. The implicit default value for this argument is currently False, but it will be changed to True in Numba 0.59.0. See https://numba.readthedocs.io/en/stable/reference/deprecation.html#deprecation-of-object-mode-fall-back-behaviour-when-using-jit for details.\n",
      "  @numba.jit()\n",
      "/users/daniel.malzl/.local/lib/python3.9/site-packages/scanpy/plotting/_tools/scatterplots.py:394: UserWarning: No data for colormapping provided via 'c'. Parameters 'cmap' will be ignored\n",
      "  cax = scatter(\n"
     ]
    },
    {
     "name": "stdout",
     "output_type": "stream",
     "text": [
      "tissue.ad\n"
     ]
    },
    {
     "name": "stderr",
     "output_type": "stream",
     "text": [
      "/users/daniel.malzl/.local/lib/python3.9/site-packages/scanpy/plotting/_tools/scatterplots.py:394: UserWarning: No data for colormapping provided via 'c'. Parameters 'cmap' will be ignored\n",
      "  cax = scatter(\n"
     ]
    },
    {
     "name": "stdout",
     "output_type": "stream",
     "text": [
      "pbmc.scps\n"
     ]
    },
    {
     "name": "stderr",
     "output_type": "stream",
     "text": [
      "/users/daniel.malzl/.local/lib/python3.9/site-packages/scanpy/plotting/_tools/scatterplots.py:394: UserWarning: No data for colormapping provided via 'c'. Parameters 'cmap' will be ignored\n",
      "  cax = scatter(\n"
     ]
    },
    {
     "name": "stdout",
     "output_type": "stream",
     "text": [
      "tissue.scps\n"
     ]
    },
    {
     "name": "stderr",
     "output_type": "stream",
     "text": [
      "/users/daniel.malzl/.local/lib/python3.9/site-packages/scanpy/plotting/_tools/scatterplots.py:394: UserWarning: No data for colormapping provided via 'c'. Parameters 'cmap' will be ignored\n",
      "  cax = scatter(\n"
     ]
    }
   ],
   "source": [
    "tmps = {}\n",
    "for k, adata in adatas.items():\n",
    "    print(k)\n",
    "    tmp = compute_raw_umap(adata)\n",
    "    # plot patient_id to retrieve consistent color palette\n",
    "    sc.pl.umap(\n",
    "        tmp, \n",
    "        color = 'patient_id',\n",
    "        show = False\n",
    "    )\n",
    "    tmps[k] = tmp"
   ]
  },
  {
   "cell_type": "code",
   "execution_count": 4,
   "id": "94f0b0bc-7b5c-42c8-a4eb-ac5d481d21b9",
   "metadata": {},
   "outputs": [
    {
     "data": {
      "text/plain": [
       "{'tissue.uc': {'C9': '#1f77b4',\n",
       "  'C12': '#ff7f0e',\n",
       "  'C16': '#279e68',\n",
       "  'C17': '#d62728',\n",
       "  'C18': '#aa40fc',\n",
       "  'C19': '#8c564b',\n",
       "  'C21': '#e377c2',\n",
       "  'C30': '#b5bd61',\n",
       "  'U4': '#17becf',\n",
       "  'U5': '#aec7e8',\n",
       "  'U34': '#ffbb78',\n",
       "  'U35': '#98df8a',\n",
       "  'U41': '#ff9896',\n",
       "  'U44': '#c5b0d5',\n",
       "  'U45': '#c49c94'},\n",
       " 'tissue.ad': {'E1': '#1f77b4',\n",
       "  'E2': '#ff7f0e',\n",
       "  'E3': '#279e68',\n",
       "  'E4': '#d62728',\n",
       "  'S4': '#aa40fc',\n",
       "  'S5': '#8c564b',\n",
       "  'SSHIV35_1': '#e377c2',\n",
       "  'SSHIV35_2': '#b5bd61',\n",
       "  'SSHIV35_4': '#17becf',\n",
       "  's1': '#aec7e8',\n",
       "  's2': '#ffbb78',\n",
       "  's3': '#98df8a'},\n",
       " 'pbmc.scps': {'P01': '#1f77b4',\n",
       "  'P02': '#ff7f0e',\n",
       "  'P03': '#279e68',\n",
       "  'P05': '#d62728',\n",
       "  'P06': '#aa40fc',\n",
       "  'P07': '#8c564b',\n",
       "  'P08': '#e377c2',\n",
       "  'P09': '#b5bd61',\n",
       "  'P10': '#17becf',\n",
       "  'P11': '#aec7e8',\n",
       "  'P12': '#ffbb78',\n",
       "  'P13': '#98df8a',\n",
       "  'P14': '#ff9896',\n",
       "  'Pso3': '#c5b0d5',\n",
       "  'Pso4': '#c49c94',\n",
       "  'Pso7': '#f7b6d2',\n",
       "  'Pso8': '#dbdb8d',\n",
       "  'SSHIV35_1': '#9edae5',\n",
       "  'SSHIV35_2': '#ad494a',\n",
       "  'SSHIV35_4': '#8c6d31'},\n",
       " 'tissue.scps': {'P01': '#023fa5',\n",
       "  'P1': '#7d87b9',\n",
       "  'P02': '#bec1d4',\n",
       "  'P2': '#d6bcc0',\n",
       "  'P03': '#bb7784',\n",
       "  'P3': '#8e063b',\n",
       "  'P04': '#4a6fe3',\n",
       "  'P05': '#8595e1',\n",
       "  'P06': '#b5bbe3',\n",
       "  'P07': '#e6afb9',\n",
       "  'P08': '#e07b91',\n",
       "  'P09': '#d33f6a',\n",
       "  'P10': '#11c638',\n",
       "  'P11': '#8dd593',\n",
       "  'P12': '#c6dec7',\n",
       "  'P13': '#ead3c6',\n",
       "  'P14': '#f0b98d',\n",
       "  'S4': '#ef9708',\n",
       "  'S5': '#0fcfc0',\n",
       "  'SSHIV35_1': '#9cded6',\n",
       "  'SSHIV35_2': '#d5eae7',\n",
       "  'SSHIV35_4': '#f3e1eb',\n",
       "  's1': '#f6c4e1',\n",
       "  's2': '#f79cd4',\n",
       "  's3': '#7f7f7f'}}"
      ]
     },
     "execution_count": 4,
     "metadata": {},
     "output_type": "execute_result"
    }
   ],
   "source": [
    "patient_id_color_palettes = {}\n",
    "for k, tmp in tmps.items():\n",
    "    patient_id_color_palettes[k] = {\n",
    "        k: v for k, v \n",
    "        in zip(tmp.obs.patient_id.cat.categories, tmp.uns['patient_id_colors'])\n",
    "    }\n",
    "patient_id_color_palettes"
   ]
  },
  {
   "cell_type": "code",
   "execution_count": 5,
   "id": "9a2ca90b-aa9e-441c-8e77-8d38452ff75c",
   "metadata": {},
   "outputs": [
    {
     "name": "stderr",
     "output_type": "stream",
     "text": [
      "/users/daniel.malzl/.local/lib/python3.9/site-packages/scanpy/plotting/_tools/scatterplots.py:394: UserWarning: No data for colormapping provided via 'c'. Parameters 'cmap' will be ignored\n",
      "  cax = scatter(\n",
      "/users/daniel.malzl/.local/lib/python3.9/site-packages/scanpy/plotting/_tools/scatterplots.py:394: UserWarning: No data for colormapping provided via 'c'. Parameters 'cmap' will be ignored\n",
      "  cax = scatter(\n",
      "/users/daniel.malzl/.local/lib/python3.9/site-packages/scanpy/plotting/_tools/scatterplots.py:394: UserWarning: No data for colormapping provided via 'c'. Parameters 'cmap' will be ignored\n",
      "  cax = scatter(\n",
      "No artists with labels found to put in legend.  Note that artists whose label start with an underscore are ignored when legend() is called with no argument.\n",
      "/users/daniel.malzl/.local/lib/python3.9/site-packages/scanpy/plotting/_tools/scatterplots.py:394: UserWarning: No data for colormapping provided via 'c'. Parameters 'cmap' will be ignored\n",
      "  cax = scatter(\n",
      "/users/daniel.malzl/.local/lib/python3.9/site-packages/scanpy/plotting/_tools/scatterplots.py:394: UserWarning: No data for colormapping provided via 'c'. Parameters 'cmap' will be ignored\n",
      "  cax = scatter(\n",
      "/users/daniel.malzl/.local/lib/python3.9/site-packages/scanpy/plotting/_tools/scatterplots.py:394: UserWarning: No data for colormapping provided via 'c'. Parameters 'cmap' will be ignored\n",
      "  cax = scatter(\n",
      "No artists with labels found to put in legend.  Note that artists whose label start with an underscore are ignored when legend() is called with no argument.\n",
      "/users/daniel.malzl/.local/lib/python3.9/site-packages/scanpy/plotting/_tools/scatterplots.py:394: UserWarning: No data for colormapping provided via 'c'. Parameters 'cmap' will be ignored\n",
      "  cax = scatter(\n",
      "/users/daniel.malzl/.local/lib/python3.9/site-packages/scanpy/plotting/_tools/scatterplots.py:394: UserWarning: No data for colormapping provided via 'c'. Parameters 'cmap' will be ignored\n",
      "  cax = scatter(\n",
      "/users/daniel.malzl/.local/lib/python3.9/site-packages/scanpy/plotting/_tools/scatterplots.py:394: UserWarning: No data for colormapping provided via 'c'. Parameters 'cmap' will be ignored\n",
      "  cax = scatter(\n",
      "No artists with labels found to put in legend.  Note that artists whose label start with an underscore are ignored when legend() is called with no argument.\n",
      "/users/daniel.malzl/.local/lib/python3.9/site-packages/scanpy/plotting/_tools/scatterplots.py:394: UserWarning: No data for colormapping provided via 'c'. Parameters 'cmap' will be ignored\n",
      "  cax = scatter(\n",
      "/users/daniel.malzl/.local/lib/python3.9/site-packages/scanpy/plotting/_tools/scatterplots.py:394: UserWarning: No data for colormapping provided via 'c'. Parameters 'cmap' will be ignored\n",
      "  cax = scatter(\n",
      "/users/daniel.malzl/.local/lib/python3.9/site-packages/scanpy/plotting/_tools/scatterplots.py:394: UserWarning: No data for colormapping provided via 'c'. Parameters 'cmap' will be ignored\n",
      "  cax = scatter(\n",
      "No artists with labels found to put in legend.  Note that artists whose label start with an underscore are ignored when legend() is called with no argument.\n"
     ]
    }
   ],
   "source": [
    "for k, tmp in tmps.items():\n",
    "    plot_dir = os.path.join(base_dir, k)\n",
    "    if not os.path.exists(plot_dir):\n",
    "        os.mkdir(plot_dir)\n",
    "        \n",
    "    plot.misc.generate_and_save_for_figure(\n",
    "        tmp,\n",
    "        {\n",
    "            'sample_id': (None, None), \n",
    "            'patient_id': (patient_id_color_palettes[k], None),\n",
    "            'status': ('colorblind', None),\n",
    "            'CD3D': (cmap, 3)\n",
    "        },\n",
    "        f'{plot_dir}/{k}' + '.raw.{0}.png',\n",
    "        f'{plot_dir}/{k}' + '.raw.{0}.legend.pdf',\n",
    "        size = 10,\n",
    "        edgecolor = 'k',\n",
    "        linewidths = 0.05\n",
    "    )"
   ]
  },
  {
   "cell_type": "code",
   "execution_count": 6,
   "id": "aec8da9a-19ff-4f75-9233-ce2458993211",
   "metadata": {},
   "outputs": [
    {
     "data": {
      "text/plain": [
       "77975"
      ]
     },
     "execution_count": 6,
     "metadata": {},
     "output_type": "execute_result"
    }
   ],
   "source": [
    "del tmps, tmp\n",
    "gc.collect()"
   ]
  },
  {
   "cell_type": "markdown",
   "id": "74df6d80-9419-4117-97f8-ddfd6a35de1f",
   "metadata": {},
   "source": [
    "## Full, integrated data"
   ]
  },
  {
   "cell_type": "code",
   "execution_count": 10,
   "id": "a317e9d5-4a37-42e5-b29d-e8d0c1866f64",
   "metadata": {},
   "outputs": [
    {
     "name": "stdout",
     "output_type": "stream",
     "text": [
      "WARNING: adata.X seems to be already log-transformed.\n"
     ]
    },
    {
     "name": "stderr",
     "output_type": "stream",
     "text": [
      "/users/daniel.malzl/.local/lib/python3.9/site-packages/scanpy/plotting/_tools/scatterplots.py:394: UserWarning: No data for colormapping provided via 'c'. Parameters 'cmap' will be ignored\n",
      "  cax = scatter(\n",
      "/users/daniel.malzl/.local/lib/python3.9/site-packages/scanpy/plotting/_tools/scatterplots.py:394: UserWarning: No data for colormapping provided via 'c'. Parameters 'cmap' will be ignored\n",
      "  cax = scatter(\n",
      "/users/daniel.malzl/.local/lib/python3.9/site-packages/scanpy/plotting/_tools/scatterplots.py:394: UserWarning: No data for colormapping provided via 'c'. Parameters 'cmap' will be ignored\n",
      "  cax = scatter(\n",
      "/users/daniel.malzl/.local/lib/python3.9/site-packages/scanpy/plotting/_tools/scatterplots.py:394: UserWarning: No data for colormapping provided via 'c'. Parameters 'cmap' will be ignored\n",
      "  cax = scatter(\n",
      "/users/daniel.malzl/.local/lib/python3.9/site-packages/scanpy/plotting/_tools/scatterplots.py:394: UserWarning: No data for colormapping provided via 'c'. Parameters 'cmap' will be ignored\n",
      "  cax = scatter(\n",
      "No artists with labels found to put in legend.  Note that artists whose label start with an underscore are ignored when legend() is called with no argument.\n",
      "/users/daniel.malzl/.local/lib/python3.9/site-packages/scanpy/plotting/_tools/scatterplots.py:394: UserWarning: No data for colormapping provided via 'c'. Parameters 'cmap' will be ignored\n",
      "  cax = scatter(\n",
      "/users/daniel.malzl/.local/lib/python3.9/site-packages/scanpy/plotting/_tools/scatterplots.py:394: UserWarning: No data for colormapping provided via 'c'. Parameters 'cmap' will be ignored\n",
      "  cax = scatter(\n",
      "/users/daniel.malzl/.local/lib/python3.9/site-packages/scanpy/plotting/_tools/scatterplots.py:394: UserWarning: No data for colormapping provided via 'c'. Parameters 'cmap' will be ignored\n",
      "  cax = scatter(\n",
      "/users/daniel.malzl/.local/lib/python3.9/site-packages/scanpy/plotting/_tools/scatterplots.py:394: UserWarning: No data for colormapping provided via 'c'. Parameters 'cmap' will be ignored\n",
      "  cax = scatter(\n",
      "/users/daniel.malzl/.local/lib/python3.9/site-packages/scanpy/plotting/_tools/scatterplots.py:394: UserWarning: No data for colormapping provided via 'c'. Parameters 'cmap' will be ignored\n",
      "  cax = scatter(\n",
      "No artists with labels found to put in legend.  Note that artists whose label start with an underscore are ignored when legend() is called with no argument.\n",
      "/users/daniel.malzl/.local/lib/python3.9/site-packages/scanpy/plotting/_tools/scatterplots.py:394: UserWarning: No data for colormapping provided via 'c'. Parameters 'cmap' will be ignored\n",
      "  cax = scatter(\n",
      "/users/daniel.malzl/.local/lib/python3.9/site-packages/scanpy/plotting/_tools/scatterplots.py:394: UserWarning: No data for colormapping provided via 'c'. Parameters 'cmap' will be ignored\n",
      "  cax = scatter(\n",
      "/users/daniel.malzl/.local/lib/python3.9/site-packages/scanpy/plotting/_tools/scatterplots.py:394: UserWarning: No data for colormapping provided via 'c'. Parameters 'cmap' will be ignored\n",
      "  cax = scatter(\n",
      "/users/daniel.malzl/.local/lib/python3.9/site-packages/scanpy/plotting/_tools/scatterplots.py:394: UserWarning: No data for colormapping provided via 'c'. Parameters 'cmap' will be ignored\n",
      "  cax = scatter(\n",
      "/users/daniel.malzl/.local/lib/python3.9/site-packages/scanpy/plotting/_tools/scatterplots.py:394: UserWarning: No data for colormapping provided via 'c'. Parameters 'cmap' will be ignored\n",
      "  cax = scatter(\n",
      "No artists with labels found to put in legend.  Note that artists whose label start with an underscore are ignored when legend() is called with no argument.\n",
      "/users/daniel.malzl/.local/lib/python3.9/site-packages/scanpy/plotting/_tools/scatterplots.py:394: UserWarning: No data for colormapping provided via 'c'. Parameters 'cmap' will be ignored\n",
      "  cax = scatter(\n",
      "/users/daniel.malzl/.local/lib/python3.9/site-packages/scanpy/plotting/_tools/scatterplots.py:394: UserWarning: No data for colormapping provided via 'c'. Parameters 'cmap' will be ignored\n",
      "  cax = scatter(\n",
      "/users/daniel.malzl/.local/lib/python3.9/site-packages/scanpy/plotting/_tools/scatterplots.py:394: UserWarning: No data for colormapping provided via 'c'. Parameters 'cmap' will be ignored\n",
      "  cax = scatter(\n",
      "/users/daniel.malzl/.local/lib/python3.9/site-packages/scanpy/plotting/_tools/scatterplots.py:394: UserWarning: No data for colormapping provided via 'c'. Parameters 'cmap' will be ignored\n",
      "  cax = scatter(\n",
      "/users/daniel.malzl/.local/lib/python3.9/site-packages/scanpy/plotting/_tools/scatterplots.py:394: UserWarning: No data for colormapping provided via 'c'. Parameters 'cmap' will be ignored\n",
      "  cax = scatter(\n",
      "No artists with labels found to put in legend.  Note that artists whose label start with an underscore are ignored when legend() is called with no argument.\n",
      "/users/daniel.malzl/.local/lib/python3.9/site-packages/scanpy/plotting/_tools/scatterplots.py:394: UserWarning: No data for colormapping provided via 'c'. Parameters 'cmap' will be ignored\n",
      "  cax = scatter(\n"
     ]
    }
   ],
   "source": [
    "leiden_clustering_columns = {\n",
    "    'tissue.scps': 0.1,\n",
    "    'tissue.uc': 0.4,\n",
    "    'tissue.ad': 0.25,\n",
    "    'pbmc.scps': 0.3\n",
    "}\n",
    "for k, adata in adatas.items():\n",
    "    plot_dir = os.path.join(base_dir, k)\n",
    "    # ensure logcpm\n",
    "    adata.X = adata.layers['counts'].copy()\n",
    "    sc.pp.normalize_total(\n",
    "        adata,\n",
    "        target_sum=1e4\n",
    "    )\n",
    "    sc.pp.log1p(adata)\n",
    "    \n",
    "    leiden_clusters_column = 'leiden_scvi_' + str(leiden_clustering_columns[k])\n",
    "    columns_to_plot = {\n",
    "        'sample_id': (None, None),\n",
    "        'patient_id': (patient_id_color_palettes[k], None),\n",
    "        'coarse_cell_types': ('colorblind', None),\n",
    "        leiden_clusters_column: (None, None), \n",
    "        'status': ('colorblind', None),\n",
    "        'CD3D': (cmap, 3)\n",
    "    }\n",
    "    \n",
    "    if 'cell_type' in adata.obs.columns:\n",
    "        columns_to_plot['cell_type'] = (None, None)\n",
    "                        \n",
    "    plot.misc.generate_and_save_for_figure(\n",
    "        adata,\n",
    "        columns_to_plot,\n",
    "        f'{plot_dir}/{k}' + '.integrated.{0}.png',\n",
    "        f'{plot_dir}/{k}' + '.integrated.{0}.legend.pdf',\n",
    "        size = 10,\n",
    "        edgecolor = 'k',\n",
    "        linewidths = 0.05\n",
    "    )"
   ]
  },
  {
   "cell_type": "code",
   "execution_count": 11,
   "id": "03e72b78-fc58-4fd5-ab03-2d3a00287dce",
   "metadata": {},
   "outputs": [
    {
     "data": {
      "text/plain": [
       "109540"
      ]
     },
     "execution_count": 11,
     "metadata": {},
     "output_type": "execute_result"
    }
   ],
   "source": [
    "del adatas, adata\n",
    "gc.collect()"
   ]
  },
  {
   "cell_type": "markdown",
   "id": "6f29bd35-6017-4563-8616-871cf4a6ac5e",
   "metadata": {},
   "source": [
    "## Tcells raw"
   ]
  },
  {
   "cell_type": "code",
   "execution_count": 48,
   "id": "3280535a-8faa-4fa4-abce-a1b6e0cfa888",
   "metadata": {},
   "outputs": [
    {
     "data": {
      "text/plain": [
       "{'tcells.tissue.scps': AnnData object with n_obs × n_vars = 62432 × 20912\n",
       "     obs: 'sample_id', 'patient_id', 'status', 'tissue', 'cell_fraction', 'doublet', 'doublet_score', 'nFeature_RNA', 'nCount_RNA', 'percent_mt', 'percent_ribo', 'qc_pass', '_scvi_batch', '_scvi_labels', 'leiden_scvi_0.1', 'coarse_cell_types', 'leiden_scvi_0.4', 't_cell_types'\n",
       "     uns: '_scvi_manager_uuid', '_scvi_uuid', 'leiden', 'neighbors', 'umap'\n",
       "     obsm: 'X_scvi', 'X_umap'\n",
       "     layers: 'counts'\n",
       "     obsp: 'connectivities', 'distances',\n",
       " 'tcells.tissue.uc': AnnData object with n_obs × n_vars = 46867 × 18436\n",
       "     obs: 'sample_id', 'patient_id', 'status', 'tissue', 'cell_fraction', 'doublet', 'doublet_score', 'nFeature_RNA', 'nCount_RNA', 'percent_mt', 'percent_ribo', 'qc_pass', '_scvi_batch', '_scvi_labels', 'leiden_scvi_0.4', 'coarse_cell_types', 'leiden_scvi_1', 't_cell_types'\n",
       "     uns: '_scvi_manager_uuid', '_scvi_uuid', 'leiden', 'neighbors', 'umap'\n",
       "     obsm: 'X_scvi', 'X_umap'\n",
       "     layers: 'counts'\n",
       "     obsp: 'connectivities', 'distances',\n",
       " 'tcells.tissue.ad': AnnData object with n_obs × n_vars = 61764 × 21750\n",
       "     obs: 'sample_id', 'patient_id', 'status', 'tissue', 'cell_fraction', 'doublet', 'doublet_score', 'nFeature_RNA', 'nCount_RNA', 'percent_mt', 'percent_ribo', 'qc_pass', '_scvi_batch', '_scvi_labels', 'leiden_scvi_0.25', 'coarse_cell_types', 'leiden_scvi_0.3', 't_cell_types'\n",
       "     uns: '_scvi_manager_uuid', '_scvi_uuid', 'leiden', 'neighbors', 'umap'\n",
       "     obsm: 'X_scvi', 'X_umap'\n",
       "     layers: 'counts'\n",
       "     obsp: 'connectivities', 'distances',\n",
       " 'tcells.pbmc.scps': AnnData object with n_obs × n_vars = 18557 × 15998\n",
       "     obs: 'sample_id', 'patient_id', 'status', 'tissue', 'cell_fraction', 'doublet', 'doublet_score', 'nFeature_RNA', 'nCount_RNA', 'percent_mt', 'percent_ribo', 'qc_pass', '_scvi_batch', '_scvi_labels', 'leiden_scvi_0.3', 'coarse_cell_types', 'leiden_scvi_0.5', 't_cell_types'\n",
       "     uns: '_scvi_manager_uuid', '_scvi_uuid', 'leiden', 'neighbors', 'umap'\n",
       "     obsm: 'X_scvi', 'X_umap'\n",
       "     layers: 'counts'\n",
       "     obsp: 'connectivities', 'distances'}"
      ]
     },
     "execution_count": 48,
     "metadata": {},
     "output_type": "execute_result"
    }
   ],
   "source": [
    "adatas = {}\n",
    "data_keys = [\n",
    "    'tcells.tissue.scps',\n",
    "    'tcells.tissue.uc',\n",
    "    'tcells.tissue.ad',\n",
    "    'tcells.pbmc.scps'\n",
    "]\n",
    "adatas = {\n",
    "    k: sc.read_h5ad(f'../data/{k}.integrated.clustered.h5ad') for k in data_keys\n",
    "}\n",
    "adatas"
   ]
  },
  {
   "cell_type": "code",
   "execution_count": 15,
   "id": "002f028b-06c5-420f-84ed-5ffde469cb6d",
   "metadata": {},
   "outputs": [],
   "source": [
    "tmps = {\n",
    "    k: compute_raw_umap(adata) for k, adata in adatas.items()\n",
    "}"
   ]
  },
  {
   "cell_type": "code",
   "execution_count": 17,
   "id": "a7b81559-fca1-48c9-bd27-a524f7b98361",
   "metadata": {},
   "outputs": [
    {
     "name": "stderr",
     "output_type": "stream",
     "text": [
      "/users/daniel.malzl/.local/lib/python3.9/site-packages/scanpy/plotting/_tools/scatterplots.py:394: UserWarning: No data for colormapping provided via 'c'. Parameters 'cmap' will be ignored\n",
      "  cax = scatter(\n",
      "/users/daniel.malzl/.local/lib/python3.9/site-packages/scanpy/plotting/_tools/scatterplots.py:394: UserWarning: No data for colormapping provided via 'c'. Parameters 'cmap' will be ignored\n",
      "  cax = scatter(\n",
      "/users/daniel.malzl/.local/lib/python3.9/site-packages/scanpy/plotting/_tools/scatterplots.py:394: UserWarning: No data for colormapping provided via 'c'. Parameters 'cmap' will be ignored\n",
      "  cax = scatter(\n",
      "No artists with labels found to put in legend.  Note that artists whose label start with an underscore are ignored when legend() is called with no argument.\n",
      "/users/daniel.malzl/.local/lib/python3.9/site-packages/scanpy/plotting/_tools/scatterplots.py:394: UserWarning: No data for colormapping provided via 'c'. Parameters 'cmap' will be ignored\n",
      "  cax = scatter(\n",
      "/users/daniel.malzl/.local/lib/python3.9/site-packages/scanpy/plotting/_tools/scatterplots.py:394: UserWarning: No data for colormapping provided via 'c'. Parameters 'cmap' will be ignored\n",
      "  cax = scatter(\n",
      "/users/daniel.malzl/.local/lib/python3.9/site-packages/scanpy/plotting/_tools/scatterplots.py:394: UserWarning: No data for colormapping provided via 'c'. Parameters 'cmap' will be ignored\n",
      "  cax = scatter(\n",
      "No artists with labels found to put in legend.  Note that artists whose label start with an underscore are ignored when legend() is called with no argument.\n",
      "/users/daniel.malzl/.local/lib/python3.9/site-packages/scanpy/plotting/_tools/scatterplots.py:394: UserWarning: No data for colormapping provided via 'c'. Parameters 'cmap' will be ignored\n",
      "  cax = scatter(\n",
      "/users/daniel.malzl/.local/lib/python3.9/site-packages/scanpy/plotting/_tools/scatterplots.py:394: UserWarning: No data for colormapping provided via 'c'. Parameters 'cmap' will be ignored\n",
      "  cax = scatter(\n",
      "/users/daniel.malzl/.local/lib/python3.9/site-packages/scanpy/plotting/_tools/scatterplots.py:394: UserWarning: No data for colormapping provided via 'c'. Parameters 'cmap' will be ignored\n",
      "  cax = scatter(\n",
      "No artists with labels found to put in legend.  Note that artists whose label start with an underscore are ignored when legend() is called with no argument.\n",
      "/users/daniel.malzl/.local/lib/python3.9/site-packages/scanpy/plotting/_tools/scatterplots.py:394: UserWarning: No data for colormapping provided via 'c'. Parameters 'cmap' will be ignored\n",
      "  cax = scatter(\n",
      "/users/daniel.malzl/.local/lib/python3.9/site-packages/scanpy/plotting/_tools/scatterplots.py:394: UserWarning: No data for colormapping provided via 'c'. Parameters 'cmap' will be ignored\n",
      "  cax = scatter(\n",
      "/users/daniel.malzl/.local/lib/python3.9/site-packages/scanpy/plotting/_tools/scatterplots.py:394: UserWarning: No data for colormapping provided via 'c'. Parameters 'cmap' will be ignored\n",
      "  cax = scatter(\n",
      "No artists with labels found to put in legend.  Note that artists whose label start with an underscore are ignored when legend() is called with no argument.\n"
     ]
    }
   ],
   "source": [
    "base_dir = '../plots'\n",
    "patient_id_color_palettes = {\n",
    "    f'tcells.{k}': palette for k, palette in patient_id_color_palettes.items()\n",
    "}\n",
    "for k, tmp in tmps.items():\n",
    "    plot_dir = os.path.join(base_dir, k)\n",
    "    \n",
    "    if not os.path.exists(plot_dir):\n",
    "        os.mkdir(plot_dir)\n",
    "        \n",
    "    plot.misc.generate_and_save_for_figure(\n",
    "        tmp,\n",
    "        {\n",
    "            'sample_id': (None, None), \n",
    "            'patient_id': (patient_id_color_palettes[k], None),\n",
    "            'status': ('colorblind', None),\n",
    "            'FOXP3': (cmap, 1)\n",
    "        },\n",
    "        f'{plot_dir}/{k}' + '.raw.{0}.png',\n",
    "        f'{plot_dir}/{k}' + '.raw.{0}.legend.pdf',\n",
    "        size = 15,\n",
    "        edgecolor = 'k',\n",
    "        linewidths = 0.1\n",
    "    )"
   ]
  },
  {
   "cell_type": "code",
   "execution_count": 18,
   "id": "9521fe39-4745-4579-8a9b-a6b3002b50a8",
   "metadata": {},
   "outputs": [
    {
     "data": {
      "text/plain": [
       "18277"
      ]
     },
     "execution_count": 18,
     "metadata": {},
     "output_type": "execute_result"
    }
   ],
   "source": [
    "del tmp\n",
    "gc.collect()"
   ]
  },
  {
   "cell_type": "markdown",
   "id": "5cd68a28-4a47-45c3-8e83-8b9136eb73c6",
   "metadata": {},
   "source": [
    "## Tcells integrated"
   ]
  },
  {
   "cell_type": "code",
   "execution_count": 19,
   "id": "39d9d51e-b807-4946-8d74-d55f505206e9",
   "metadata": {},
   "outputs": [
    {
     "name": "stderr",
     "output_type": "stream",
     "text": [
      "/users/daniel.malzl/.local/lib/python3.9/site-packages/scanpy/plotting/_tools/scatterplots.py:394: UserWarning: No data for colormapping provided via 'c'. Parameters 'cmap' will be ignored\n",
      "  cax = scatter(\n",
      "/users/daniel.malzl/.local/lib/python3.9/site-packages/scanpy/plotting/_tools/scatterplots.py:394: UserWarning: No data for colormapping provided via 'c'. Parameters 'cmap' will be ignored\n",
      "  cax = scatter(\n",
      "/users/daniel.malzl/.local/lib/python3.9/site-packages/scanpy/plotting/_tools/scatterplots.py:394: UserWarning: No data for colormapping provided via 'c'. Parameters 'cmap' will be ignored\n",
      "  cax = scatter(\n",
      "/users/daniel.malzl/.local/lib/python3.9/site-packages/scanpy/plotting/_tools/scatterplots.py:394: UserWarning: No data for colormapping provided via 'c'. Parameters 'cmap' will be ignored\n",
      "  cax = scatter(\n",
      "/users/daniel.malzl/.local/lib/python3.9/site-packages/scanpy/plotting/_tools/scatterplots.py:394: UserWarning: No data for colormapping provided via 'c'. Parameters 'cmap' will be ignored\n",
      "  cax = scatter(\n",
      "No artists with labels found to put in legend.  Note that artists whose label start with an underscore are ignored when legend() is called with no argument.\n",
      "No artists with labels found to put in legend.  Note that artists whose label start with an underscore are ignored when legend() is called with no argument.\n",
      "No artists with labels found to put in legend.  Note that artists whose label start with an underscore are ignored when legend() is called with no argument.\n",
      "No artists with labels found to put in legend.  Note that artists whose label start with an underscore are ignored when legend() is called with no argument.\n",
      "No artists with labels found to put in legend.  Note that artists whose label start with an underscore are ignored when legend() is called with no argument.\n",
      "/users/daniel.malzl/.local/lib/python3.9/site-packages/scanpy/plotting/_tools/scatterplots.py:394: UserWarning: No data for colormapping provided via 'c'. Parameters 'cmap' will be ignored\n",
      "  cax = scatter(\n",
      "/users/daniel.malzl/.local/lib/python3.9/site-packages/scanpy/plotting/_tools/scatterplots.py:394: UserWarning: No data for colormapping provided via 'c'. Parameters 'cmap' will be ignored\n",
      "  cax = scatter(\n",
      "/users/daniel.malzl/.local/lib/python3.9/site-packages/scanpy/plotting/_tools/scatterplots.py:394: UserWarning: No data for colormapping provided via 'c'. Parameters 'cmap' will be ignored\n",
      "  cax = scatter(\n",
      "/users/daniel.malzl/.local/lib/python3.9/site-packages/scanpy/plotting/_tools/scatterplots.py:394: UserWarning: No data for colormapping provided via 'c'. Parameters 'cmap' will be ignored\n",
      "  cax = scatter(\n",
      "/users/daniel.malzl/.local/lib/python3.9/site-packages/scanpy/plotting/_tools/scatterplots.py:394: UserWarning: No data for colormapping provided via 'c'. Parameters 'cmap' will be ignored\n",
      "  cax = scatter(\n",
      "No artists with labels found to put in legend.  Note that artists whose label start with an underscore are ignored when legend() is called with no argument.\n",
      "No artists with labels found to put in legend.  Note that artists whose label start with an underscore are ignored when legend() is called with no argument.\n",
      "No artists with labels found to put in legend.  Note that artists whose label start with an underscore are ignored when legend() is called with no argument.\n",
      "No artists with labels found to put in legend.  Note that artists whose label start with an underscore are ignored when legend() is called with no argument.\n",
      "No artists with labels found to put in legend.  Note that artists whose label start with an underscore are ignored when legend() is called with no argument.\n",
      "/users/daniel.malzl/.local/lib/python3.9/site-packages/scanpy/plotting/_tools/scatterplots.py:394: UserWarning: No data for colormapping provided via 'c'. Parameters 'cmap' will be ignored\n",
      "  cax = scatter(\n",
      "/users/daniel.malzl/.local/lib/python3.9/site-packages/scanpy/plotting/_tools/scatterplots.py:394: UserWarning: No data for colormapping provided via 'c'. Parameters 'cmap' will be ignored\n",
      "  cax = scatter(\n",
      "/users/daniel.malzl/.local/lib/python3.9/site-packages/scanpy/plotting/_tools/scatterplots.py:394: UserWarning: No data for colormapping provided via 'c'. Parameters 'cmap' will be ignored\n",
      "  cax = scatter(\n",
      "/users/daniel.malzl/.local/lib/python3.9/site-packages/scanpy/plotting/_tools/scatterplots.py:394: UserWarning: No data for colormapping provided via 'c'. Parameters 'cmap' will be ignored\n",
      "  cax = scatter(\n",
      "/users/daniel.malzl/.local/lib/python3.9/site-packages/scanpy/plotting/_tools/scatterplots.py:394: UserWarning: No data for colormapping provided via 'c'. Parameters 'cmap' will be ignored\n",
      "  cax = scatter(\n",
      "No artists with labels found to put in legend.  Note that artists whose label start with an underscore are ignored when legend() is called with no argument.\n",
      "No artists with labels found to put in legend.  Note that artists whose label start with an underscore are ignored when legend() is called with no argument.\n",
      "No artists with labels found to put in legend.  Note that artists whose label start with an underscore are ignored when legend() is called with no argument.\n",
      "No artists with labels found to put in legend.  Note that artists whose label start with an underscore are ignored when legend() is called with no argument.\n",
      "No artists with labels found to put in legend.  Note that artists whose label start with an underscore are ignored when legend() is called with no argument.\n",
      "/users/daniel.malzl/.local/lib/python3.9/site-packages/scanpy/plotting/_tools/scatterplots.py:394: UserWarning: No data for colormapping provided via 'c'. Parameters 'cmap' will be ignored\n",
      "  cax = scatter(\n",
      "/users/daniel.malzl/.local/lib/python3.9/site-packages/scanpy/plotting/_tools/scatterplots.py:394: UserWarning: No data for colormapping provided via 'c'. Parameters 'cmap' will be ignored\n",
      "  cax = scatter(\n",
      "/users/daniel.malzl/.local/lib/python3.9/site-packages/scanpy/plotting/_tools/scatterplots.py:394: UserWarning: No data for colormapping provided via 'c'. Parameters 'cmap' will be ignored\n",
      "  cax = scatter(\n",
      "/users/daniel.malzl/.local/lib/python3.9/site-packages/scanpy/plotting/_tools/scatterplots.py:394: UserWarning: No data for colormapping provided via 'c'. Parameters 'cmap' will be ignored\n",
      "  cax = scatter(\n",
      "/users/daniel.malzl/.local/lib/python3.9/site-packages/scanpy/plotting/_tools/scatterplots.py:394: UserWarning: No data for colormapping provided via 'c'. Parameters 'cmap' will be ignored\n",
      "  cax = scatter(\n",
      "No artists with labels found to put in legend.  Note that artists whose label start with an underscore are ignored when legend() is called with no argument.\n",
      "No artists with labels found to put in legend.  Note that artists whose label start with an underscore are ignored when legend() is called with no argument.\n",
      "No artists with labels found to put in legend.  Note that artists whose label start with an underscore are ignored when legend() is called with no argument.\n",
      "No artists with labels found to put in legend.  Note that artists whose label start with an underscore are ignored when legend() is called with no argument.\n",
      "No artists with labels found to put in legend.  Note that artists whose label start with an underscore are ignored when legend() is called with no argument.\n"
     ]
    }
   ],
   "source": [
    "leiden_clustering_columns = {\n",
    "    'tcells.tissue.scps': 0.4,\n",
    "    'tcells.tissue.uc': 1,\n",
    "    'tcells.tissue.ad': 0.3,\n",
    "    'tcells.pbmc.scps': 0.5\n",
    "}\n",
    "for k, adata in adatas.items():\n",
    "    plot_dir = os.path.join(base_dir, k)\n",
    "    # ensure logcpm\n",
    "    adata.X = adata.layers['counts'].copy()\n",
    "    sc.pp.normalize_total(\n",
    "        adata,\n",
    "        target_sum=1e4\n",
    "    )\n",
    "    sc.pp.log1p(adata)\n",
    "    \n",
    "    leiden_clusters_column = 'leiden_scvi_' + str(leiden_clustering_columns[k])\n",
    "    columns_to_plot = {\n",
    "        'sample_id': (None, None),\n",
    "        'patient_id': (patient_id_color_palettes[k], None),\n",
    "        't_cell_types': ('colorblind', None),\n",
    "        leiden_clusters_column: (None, None), \n",
    "        'status': ('colorblind', None),\n",
    "        'CD3D': (cmap, 3),\n",
    "        'FOXP3': (cmap, 2),\n",
    "        'IKZF2': (cmap, 2),\n",
    "        'IL2RA': (cmap, 2),\n",
    "        'SAT1': (cmap, 20),\n",
    "    }\n",
    "    \n",
    "    if 'cell_type' in adata.obs.columns:\n",
    "        columns_to_plot['cell_type'] = (None, None)\n",
    "                        \n",
    "    plot.misc.generate_and_save_for_figure(\n",
    "        adata,\n",
    "        columns_to_plot,\n",
    "        f'{plot_dir}/{k}' + '.integrated.{0}.png',\n",
    "        f'{plot_dir}/{k}' + '.integrated.{0}.legend.pdf',\n",
    "        size = 15,\n",
    "        edgecolor = 'k',\n",
    "        linewidths = 0.1\n",
    "    )"
   ]
  },
  {
   "cell_type": "markdown",
   "id": "d1a85f16-41c3-44bb-93eb-b65ff5561bc8",
   "metadata": {},
   "source": [
    "## Tregs vs other T-cell dotplots"
   ]
  },
  {
   "cell_type": "code",
   "execution_count": 57,
   "id": "f0863f46-37f1-4474-b96f-6607a65c4897",
   "metadata": {},
   "outputs": [
    {
     "name": "stderr",
     "output_type": "stream",
     "text": [
      "/users/daniel.malzl/.local/lib/python3.9/site-packages/scanpy/plotting/_dotplot.py:747: UserWarning: No data for colormapping provided via 'c'. Parameters 'cmap', 'norm' will be ignored\n",
      "  dot_ax.scatter(x, y, **kwds)\n",
      "/users/daniel.malzl/.local/lib/python3.9/site-packages/scanpy/plotting/_dotplot.py:747: UserWarning: No data for colormapping provided via 'c'. Parameters 'cmap', 'norm' will be ignored\n",
      "  dot_ax.scatter(x, y, **kwds)\n",
      "/users/daniel.malzl/.local/lib/python3.9/site-packages/scanpy/plotting/_dotplot.py:747: UserWarning: No data for colormapping provided via 'c'. Parameters 'cmap', 'norm' will be ignored\n",
      "  dot_ax.scatter(x, y, **kwds)\n",
      "/users/daniel.malzl/.local/lib/python3.9/site-packages/scanpy/plotting/_dotplot.py:747: UserWarning: No data for colormapping provided via 'c'. Parameters 'cmap', 'norm' will be ignored\n",
      "  dot_ax.scatter(x, y, **kwds)\n"
     ]
    }
   ],
   "source": [
    "polyamine_genes = ['SAT1', 'ODC1', 'SMS', 'SRM', 'ARG2']\n",
    "control_condition = {\n",
    "    'tcells.tissue.scps': 'normal',\n",
    "    'tcells.tissue.uc': 'control',\n",
    "    'tcells.tissue.ad': 'normal',\n",
    "    'tcells.pbmc.scps': 'normal'\n",
    "}\n",
    "for k, adata in adatas.items():\n",
    "    fig, ax = plt.subplots()\n",
    "    sc.pl.dotplot(\n",
    "        adata,\n",
    "        groupby = 't_cell_types',\n",
    "        var_names = polyamine_genes,\n",
    "        ax = ax,\n",
    "        expression_cutoff = 0.1,\n",
    "        show = False, \n",
    "        vmin = 0,\n",
    "        vmax = 4,\n",
    "        cmap = cmap\n",
    "    )\n",
    "\n",
    "    fig.set_figwidth(7)\n",
    "    fig.set_figheight(3)\n",
    "    fig.tight_layout()\n",
    "    fig.savefig(f'../plots/dotplots/{k}.polyamine.pdf')"
   ]
  },
  {
   "cell_type": "code",
   "execution_count": 50,
   "id": "7588c03d-f512-427a-a12e-1cc4080a6a9e",
   "metadata": {},
   "outputs": [
    {
     "name": "stderr",
     "output_type": "stream",
     "text": [
      "/users/daniel.malzl/.local/lib/python3.9/site-packages/anndata/_core/anndata.py:1906: UserWarning: Observation names are not unique. To make them unique, call `.obs_names_make_unique`.\n",
      "  utils.warn_names_duplicates(\"obs\")\n",
      "/users/daniel.malzl/.local/lib/python3.9/site-packages/anndata/_core/anndata.py:1906: UserWarning: Observation names are not unique. To make them unique, call `.obs_names_make_unique`.\n",
      "  utils.warn_names_duplicates(\"obs\")\n",
      "/users/daniel.malzl/.local/lib/python3.9/site-packages/anndata/_core/anndata.py:1906: UserWarning: Observation names are not unique. To make them unique, call `.obs_names_make_unique`.\n",
      "  utils.warn_names_duplicates(\"obs\")\n",
      "/users/daniel.malzl/.local/lib/python3.9/site-packages/anndata/_core/anndata.py:1906: UserWarning: Observation names are not unique. To make them unique, call `.obs_names_make_unique`.\n",
      "  utils.warn_names_duplicates(\"obs\")\n"
     ]
    },
    {
     "data": {
      "text/plain": [
       "123639"
      ]
     },
     "execution_count": 50,
     "metadata": {},
     "output_type": "execute_result"
    }
   ],
   "source": [
    "treg_subsets, other_tcell_subsets = [], []\n",
    "for k, adata in adatas.items():\n",
    "    treg_subsets.append(\n",
    "        adata[adata.obs.t_cell_types == 'Treg'].copy()\n",
    "    )\n",
    "    other_tcell_subsets.append(\n",
    "        adata[adata.obs.t_cell_types != 'Treg'].copy()\n",
    "    )\n",
    "\n",
    "tregs = ad.concat(treg_subsets)\n",
    "other_tcells = ad.concat(other_tcell_subsets)\n",
    "\n",
    "del treg_subsets, other_tcell_subsets\n",
    "gc.collect()"
   ]
  },
  {
   "cell_type": "code",
   "execution_count": 59,
   "id": "e1c7fb6f-52bb-436c-9a36-87334cc95630",
   "metadata": {},
   "outputs": [
    {
     "name": "stderr",
     "output_type": "stream",
     "text": [
      "/tmp/ipykernel_27825/4272725009.py:16: DeprecationWarning: In a future version, `df.iloc[:, i] = newvals` will attempt to set the values inplace instead of always setting a new array. To retain the old behavior, use either `df[df.columns[i]] = newvals` or, if columns are non-unique, `df.isetitem(i, newvals)`\n",
      "  bdata.obs.loc[:, 'status'] = remap_status(bdata.obs.status.to_list())\n",
      "/users/daniel.malzl/.local/lib/python3.9/site-packages/scanpy/plotting/_dotplot.py:747: UserWarning: No data for colormapping provided via 'c'. Parameters 'cmap', 'norm' will be ignored\n",
      "  dot_ax.scatter(x, y, **kwds)\n",
      "/tmp/ipykernel_27825/4272725009.py:16: DeprecationWarning: In a future version, `df.iloc[:, i] = newvals` will attempt to set the values inplace instead of always setting a new array. To retain the old behavior, use either `df[df.columns[i]] = newvals` or, if columns are non-unique, `df.isetitem(i, newvals)`\n",
      "  bdata.obs.loc[:, 'status'] = remap_status(bdata.obs.status.to_list())\n",
      "/users/daniel.malzl/.local/lib/python3.9/site-packages/scanpy/plotting/_dotplot.py:747: UserWarning: No data for colormapping provided via 'c'. Parameters 'cmap', 'norm' will be ignored\n",
      "  dot_ax.scatter(x, y, **kwds)\n"
     ]
    }
   ],
   "source": [
    "def remap_status(status):\n",
    "    new_status = []\n",
    "    for stat in status:\n",
    "        if stat == 'control':\n",
    "            stat = 'healthy colon'\n",
    "        \n",
    "        if stat == 'normal':\n",
    "            stat = 'healthy skin'\n",
    "        \n",
    "        new_status.append(stat)\n",
    "    \n",
    "    return new_status\n",
    "\n",
    "\n",
    "for k, bdata in zip(['tregs', 'othert'], [tregs, other_tcells]):\n",
    "    bdata.obs.loc[:, 'status'] = remap_status(bdata.obs.status.to_list())\n",
    "    \n",
    "    fig, ax = plt.subplots()\n",
    "    sc.pl.dotplot(\n",
    "        bdata,\n",
    "        groupby = 'status',\n",
    "        var_names = polyamine_genes,\n",
    "        ax = ax,\n",
    "        expression_cutoff = 0.1,\n",
    "        show = False, \n",
    "        vmin = 0,\n",
    "        vmax = 5,\n",
    "        cmap = cmap\n",
    "    )\n",
    "\n",
    "    fig.set_figwidth(7)\n",
    "    fig.set_figheight(3)\n",
    "    fig.tight_layout()\n",
    "    fig.savefig(f'../plots/dotplots/tcells.tissue.scps.{k}.polyamine.status.pdf')"
   ]
  },
  {
   "cell_type": "code",
   "execution_count": 60,
   "id": "50f64f0e-1866-43f4-b8b7-6bb09a6c0504",
   "metadata": {},
   "outputs": [
    {
     "data": {
      "text/plain": [
       "10254"
      ]
     },
     "execution_count": 60,
     "metadata": {},
     "output_type": "execute_result"
    }
   ],
   "source": [
    "del adatas, adata, bdata\n",
    "gc.collect()"
   ]
  },
  {
   "cell_type": "markdown",
   "id": "c4f3af1c-2e43-461d-a4a2-f60bc2afa5ba",
   "metadata": {},
   "source": [
    "## Tregs raw"
   ]
  },
  {
   "cell_type": "code",
   "execution_count": 63,
   "id": "24529383-3685-4b06-85ba-ff8d6c1a276b",
   "metadata": {},
   "outputs": [],
   "source": [
    "adata = sc.read_h5ad('../data/tregs.tissue.scps.integrated.annotated.h5ad')"
   ]
  },
  {
   "cell_type": "code",
   "execution_count": 47,
   "id": "5bd74ab5-4fd9-4b31-9a8f-f9cba22901c7",
   "metadata": {},
   "outputs": [
    {
     "name": "stdout",
     "output_type": "stream",
     "text": [
      "WARNING: adata.X seems to be already log-transformed.\n"
     ]
    },
    {
     "name": "stderr",
     "output_type": "stream",
     "text": [
      "/users/daniel.malzl/.local/lib/python3.9/site-packages/scanpy/preprocessing/_highly_variable_genes.py:64: UserWarning: `flavor='seurat_v3'` expects raw count data, but non-integers were found.\n",
      "  warnings.warn(\n",
      "/users/daniel.malzl/.local/lib/python3.9/site-packages/scanpy/plotting/_tools/scatterplots.py:394: UserWarning: No data for colormapping provided via 'c'. Parameters 'cmap' will be ignored\n",
      "  cax = scatter(\n",
      "/users/daniel.malzl/.local/lib/python3.9/site-packages/scanpy/plotting/_tools/scatterplots.py:394: UserWarning: No data for colormapping provided via 'c'. Parameters 'cmap' will be ignored\n",
      "  cax = scatter(\n",
      "/users/daniel.malzl/.local/lib/python3.9/site-packages/scanpy/plotting/_tools/scatterplots.py:394: UserWarning: No data for colormapping provided via 'c'. Parameters 'cmap' will be ignored\n",
      "  cax = scatter(\n",
      "No artists with labels found to put in legend.  Note that artists whose label start with an underscore are ignored when legend() is called with no argument.\n",
      "No artists with labels found to put in legend.  Note that artists whose label start with an underscore are ignored when legend() is called with no argument.\n",
      "No artists with labels found to put in legend.  Note that artists whose label start with an underscore are ignored when legend() is called with no argument.\n"
     ]
    }
   ],
   "source": [
    "k = 'tregs.tissue.scps'\n",
    "tmp = compute_raw_umap(adata)\n",
    "plot_dir = os.path.join(base_dir, k)\n",
    "if not os.path.exists(plot_dir):\n",
    "    os.mkdir(plot_dir)\n",
    "\n",
    "plot.misc.generate_and_save_for_figure(\n",
    "    tmp,\n",
    "    {\n",
    "        'sample_id': (None, None), \n",
    "        'patient_id': (patient_id_color_palettes['tcells.tissue.scps'], None),\n",
    "        'status': ('colorblind', None),\n",
    "        'FOXP3': (cmap, 3),\n",
    "        'SAT1': (cmap, 5),\n",
    "        'RORC': (cmap, 1)\n",
    "    },\n",
    "    f'{plot_dir}/{k}' + '.raw.{0}.png',\n",
    "    f'{plot_dir}/{k}' + '.raw.{0}.legend.pdf',\n",
    "    size = 30,\n",
    "    edgecolor = 'k',\n",
    "    linewidths = 0.25\n",
    ")"
   ]
  },
  {
   "cell_type": "code",
   "execution_count": 61,
   "id": "010bccc1-1db0-4a6b-954a-0462e9d9c203",
   "metadata": {},
   "outputs": [
    {
     "data": {
      "text/plain": [
       "739"
      ]
     },
     "execution_count": 61,
     "metadata": {},
     "output_type": "execute_result"
    }
   ],
   "source": [
    "del tmp\n",
    "gc.collect()"
   ]
  },
  {
   "cell_type": "markdown",
   "id": "26ece417-6ee4-4583-9054-d82d5f4d965e",
   "metadata": {},
   "source": [
    "## Tregs integrated"
   ]
  },
  {
   "cell_type": "code",
   "execution_count": 65,
   "id": "3271c241-7e79-4b09-9880-8dc78d68d07c",
   "metadata": {},
   "outputs": [
    {
     "name": "stdout",
     "output_type": "stream",
     "text": [
      "WARNING: adata.X seems to be already log-transformed.\n"
     ]
    },
    {
     "name": "stderr",
     "output_type": "stream",
     "text": [
      "/users/daniel.malzl/.local/lib/python3.9/site-packages/scanpy/plotting/_tools/scatterplots.py:394: UserWarning: No data for colormapping provided via 'c'. Parameters 'cmap' will be ignored\n",
      "  cax = scatter(\n",
      "/users/daniel.malzl/.local/lib/python3.9/site-packages/scanpy/plotting/_tools/scatterplots.py:394: UserWarning: No data for colormapping provided via 'c'. Parameters 'cmap' will be ignored\n",
      "  cax = scatter(\n",
      "/users/daniel.malzl/.local/lib/python3.9/site-packages/scanpy/plotting/_tools/scatterplots.py:394: UserWarning: No data for colormapping provided via 'c'. Parameters 'cmap' will be ignored\n",
      "  cax = scatter(\n",
      "/users/daniel.malzl/.local/lib/python3.9/site-packages/scanpy/plotting/_tools/scatterplots.py:394: UserWarning: No data for colormapping provided via 'c'. Parameters 'cmap' will be ignored\n",
      "  cax = scatter(\n",
      "No artists with labels found to put in legend.  Note that artists whose label start with an underscore are ignored when legend() is called with no argument.\n",
      "No artists with labels found to put in legend.  Note that artists whose label start with an underscore are ignored when legend() is called with no argument.\n",
      "No artists with labels found to put in legend.  Note that artists whose label start with an underscore are ignored when legend() is called with no argument.\n"
     ]
    }
   ],
   "source": [
    "k = 'tregs.tissue.scps'\n",
    "plot_dir = os.path.join(base_dir, k)\n",
    "# ensure logcpm\n",
    "adata.X = adata.layers['counts'].copy()\n",
    "sc.pp.normalize_total(\n",
    "    adata,\n",
    "    target_sum=1e4\n",
    ")\n",
    "sc.pp.log1p(adata)\n",
    "columns_to_plot = {\n",
    "    'sample_id': (None, None),\n",
    "    'patient_id': (patient_id_color_palettes['tcells.tissue.scps'], None),\n",
    "    'sat1_status_majority_vote': ('colorblind', None),\n",
    "    'status': ('colorblind', None),\n",
    "    'FOXP3': (cmap, 3),\n",
    "    'SAT1': (cmap, 15),\n",
    "    'RORC': (cmap, 1)\n",
    "}\n",
    "\n",
    "plot.misc.generate_and_save_for_figure(\n",
    "    adata,\n",
    "    columns_to_plot,\n",
    "    f'{plot_dir}/{k}' + '.integrated.{0}.png',\n",
    "    f'{plot_dir}/{k}' + '.integrated.{0}.legend.pdf',\n",
    "    size = 75,\n",
    "    edgecolor = 'k',\n",
    "    linewidths = 0.3\n",
    ")"
   ]
  },
  {
   "cell_type": "markdown",
   "id": "94f23934-6ce5-4023-b0a8-30984803b18d",
   "metadata": {},
   "source": [
    "## DEG heatmaps"
   ]
  },
  {
   "cell_type": "code",
   "execution_count": 2,
   "id": "082f49c1-dea5-4b6a-afe5-84a6dbf259af",
   "metadata": {},
   "outputs": [
    {
     "data": {
      "text/plain": [
       "{'tcells.tissue.scps': AnnData object with n_obs × n_vars = 9781 × 20912\n",
       "     obs: 'sample_id', 'patient_id', 'status', 'tissue', 'cell_fraction', 'doublet', 'doublet_score', 'nFeature_RNA', 'nCount_RNA', 'percent_mt', 'percent_ribo', 'qc_pass', '_scvi_batch', '_scvi_labels', 'leiden_scvi_0.1', 'coarse_cell_types', 'leiden_scvi_0.4', 't_cell_types', 'condition'\n",
       "     uns: '_scvi_manager_uuid', '_scvi_uuid', 'leiden', 'neighbors', 'umap'\n",
       "     obsm: 'X_scvi', 'X_umap'\n",
       "     layers: 'counts'\n",
       "     obsp: 'connectivities', 'distances',\n",
       " 'tcells.tissue.uc': AnnData object with n_obs × n_vars = 6272 × 18436\n",
       "     obs: 'sample_id', 'patient_id', 'status', 'tissue', 'cell_fraction', 'doublet', 'doublet_score', 'nFeature_RNA', 'nCount_RNA', 'percent_mt', 'percent_ribo', 'qc_pass', '_scvi_batch', '_scvi_labels', 'leiden_scvi_0.4', 'coarse_cell_types', 'leiden_scvi_1', 't_cell_types', 'condition'\n",
       "     uns: '_scvi_manager_uuid', '_scvi_uuid', 'leiden', 'neighbors', 'umap'\n",
       "     obsm: 'X_scvi', 'X_umap'\n",
       "     layers: 'counts'\n",
       "     obsp: 'connectivities', 'distances'}"
      ]
     },
     "execution_count": 2,
     "metadata": {},
     "output_type": "execute_result"
    }
   ],
   "source": [
    "adatas = {}\n",
    "data_keys = [\n",
    "    'tcells.tissue.scps',\n",
    "    'tcells.tissue.uc'\n",
    "]\n",
    "control_conditions = {\n",
    "    'tcells.tissue.scps': 'normal',\n",
    "    'tcells.tissue.uc': 'control'\n",
    "}\n",
    "for k in data_keys:\n",
    "    adata = sc.read_h5ad(f'../data/{k}.integrated.clustered.h5ad')\n",
    "    adata = adata[adata.obs.t_cell_types == 'Treg'].copy()\n",
    "    adata.obs['condition'] = adata.obs.status.apply(\n",
    "        lambda x: 'healthy' if x == control_conditions[k] else 'disease'\n",
    "    )\n",
    "    adatas[k] = adata\n",
    "\n",
    "adatas"
   ]
  },
  {
   "cell_type": "code",
   "execution_count": 3,
   "id": "ea15766f-d287-4478-8f91-b6e86759313a",
   "metadata": {},
   "outputs": [
    {
     "data": {
      "text/html": [
       "<div>\n",
       "<style scoped>\n",
       "    .dataframe tbody tr th:only-of-type {\n",
       "        vertical-align: middle;\n",
       "    }\n",
       "\n",
       "    .dataframe tbody tr th {\n",
       "        vertical-align: top;\n",
       "    }\n",
       "\n",
       "    .dataframe thead th {\n",
       "        text-align: right;\n",
       "    }\n",
       "</style>\n",
       "<table border=\"1\" class=\"dataframe\">\n",
       "  <thead>\n",
       "    <tr style=\"text-align: right;\">\n",
       "      <th></th>\n",
       "      <th>Gene</th>\n",
       "      <th>Group</th>\n",
       "      <th>Tissue</th>\n",
       "      <th>regulation</th>\n",
       "    </tr>\n",
       "  </thead>\n",
       "  <tbody>\n",
       "    <tr>\n",
       "      <th>0</th>\n",
       "      <td>JUND</td>\n",
       "      <td>AP1_family</td>\n",
       "      <td>skin</td>\n",
       "      <td>up</td>\n",
       "    </tr>\n",
       "    <tr>\n",
       "      <th>1</th>\n",
       "      <td>FOS</td>\n",
       "      <td>AP1_family</td>\n",
       "      <td>skin</td>\n",
       "      <td>up</td>\n",
       "    </tr>\n",
       "    <tr>\n",
       "      <th>2</th>\n",
       "      <td>JUNB</td>\n",
       "      <td>AP1_family</td>\n",
       "      <td>skin</td>\n",
       "      <td>up</td>\n",
       "    </tr>\n",
       "    <tr>\n",
       "      <th>3</th>\n",
       "      <td>JUN</td>\n",
       "      <td>AP1_family</td>\n",
       "      <td>skin</td>\n",
       "      <td>up</td>\n",
       "    </tr>\n",
       "    <tr>\n",
       "      <th>4</th>\n",
       "      <td>FOSL2</td>\n",
       "      <td>AP1_family</td>\n",
       "      <td>skin</td>\n",
       "      <td>up</td>\n",
       "    </tr>\n",
       "    <tr>\n",
       "      <th>...</th>\n",
       "      <td>...</td>\n",
       "      <td>...</td>\n",
       "      <td>...</td>\n",
       "      <td>...</td>\n",
       "    </tr>\n",
       "    <tr>\n",
       "      <th>111</th>\n",
       "      <td>MAGEH1</td>\n",
       "      <td>Cellcycle_Proliferation_Apoptosis</td>\n",
       "      <td>colon</td>\n",
       "      <td>up</td>\n",
       "    </tr>\n",
       "    <tr>\n",
       "      <th>112</th>\n",
       "      <td>PTMS</td>\n",
       "      <td>Cellcycle_Proliferation_Apoptosis</td>\n",
       "      <td>colon</td>\n",
       "      <td>up</td>\n",
       "    </tr>\n",
       "    <tr>\n",
       "      <th>113</th>\n",
       "      <td>DNPH1</td>\n",
       "      <td>Cellcycle_Proliferation_Apoptosis</td>\n",
       "      <td>colon</td>\n",
       "      <td>up</td>\n",
       "    </tr>\n",
       "    <tr>\n",
       "      <th>114</th>\n",
       "      <td>DUSP2</td>\n",
       "      <td>MAPK_signalling</td>\n",
       "      <td>colon</td>\n",
       "      <td>up</td>\n",
       "    </tr>\n",
       "    <tr>\n",
       "      <th>115</th>\n",
       "      <td>TXNIP</td>\n",
       "      <td>Heatshock_stressresponse</td>\n",
       "      <td>colon</td>\n",
       "      <td>down</td>\n",
       "    </tr>\n",
       "  </tbody>\n",
       "</table>\n",
       "<p>116 rows × 4 columns</p>\n",
       "</div>"
      ],
      "text/plain": [
       "       Gene                              Group Tissue regulation\n",
       "0      JUND                         AP1_family   skin         up\n",
       "1       FOS                         AP1_family   skin         up\n",
       "2      JUNB                         AP1_family   skin         up\n",
       "3       JUN                         AP1_family   skin         up\n",
       "4     FOSL2                         AP1_family   skin         up\n",
       "..      ...                                ...    ...        ...\n",
       "111  MAGEH1  Cellcycle_Proliferation_Apoptosis  colon         up\n",
       "112    PTMS  Cellcycle_Proliferation_Apoptosis  colon         up\n",
       "113   DNPH1  Cellcycle_Proliferation_Apoptosis  colon         up\n",
       "114   DUSP2                    MAPK_signalling  colon         up\n",
       "115   TXNIP           Heatshock_stressresponse  colon       down\n",
       "\n",
       "[116 rows x 4 columns]"
      ]
     },
     "execution_count": 3,
     "metadata": {},
     "output_type": "execute_result"
    }
   ],
   "source": [
    "df = pd.read_csv(\n",
    "    '../diffexp/DEGs_grouped_updated.txt', \n",
    "    sep = '\\t'\n",
    ")\n",
    "df"
   ]
  },
  {
   "cell_type": "code",
   "execution_count": 4,
   "id": "f608e511-cbf3-45fb-b0d4-b026feb197a2",
   "metadata": {},
   "outputs": [
    {
     "data": {
      "text/plain": [
       "{'tcells.tissue.scps':                           Group Tissue regulation\n",
       " Gene                                             \n",
       " JUND                 AP1_family   skin         up\n",
       " FOS                  AP1_family   skin         up\n",
       " JUNB                 AP1_family   skin         up\n",
       " JUN                  AP1_family   skin         up\n",
       " FOSL2                AP1_family   skin         up\n",
       " ...                         ...    ...        ...\n",
       " LY6E    Tcell_costim_activation   skin       down\n",
       " CD96    Tcell_costim_activation   skin       down\n",
       " HLA-A   Tcell_costim_activation   skin       down\n",
       " LGALS1  Tcell_costim_activation   skin       down\n",
       " CD247   Tcell_costim_activation   skin       down\n",
       " \n",
       " [97 rows x 3 columns],\n",
       " 'tcells.tissue.uc':                                       Group Tissue regulation\n",
       " Gene                                                         \n",
       " TNFRSF4             Tcell_costim_activation  colon         up\n",
       " TNFRSF18            Tcell_costim_activation  colon         up\n",
       " CD7                 Tcell_costim_activation  colon         up\n",
       " LAG3                Tcell_costim_activation  colon         up\n",
       " HLA-C               Tcell_costim_activation  colon         up\n",
       " MAL                 Tcell_costim_activation  colon         up\n",
       " CD69                Tcell_costim_activation  colon       down\n",
       " CCL20         Cytokine_Chemokine_Signalling  colon         up\n",
       " LTB           Cytokine_Chemokine_Signalling  colon         up\n",
       " IL17A         Cytokine_Chemokine_Signalling  colon         up\n",
       " IL10          Cytokine_Chemokine_Signalling  colon       down\n",
       " BHLHE40       Cytokine_Chemokine_Signalling  colon         up\n",
       " IER5      Cellcycle_Proliferation_Apoptosis  colon       down\n",
       " LGALS1    Cellcycle_Proliferation_Apoptosis  colon       down\n",
       " MAGEH1    Cellcycle_Proliferation_Apoptosis  colon         up\n",
       " PTMS      Cellcycle_Proliferation_Apoptosis  colon         up\n",
       " DNPH1     Cellcycle_Proliferation_Apoptosis  colon         up\n",
       " DUSP2                       MAPK_signalling  colon         up\n",
       " TXNIP              Heatshock_stressresponse  colon       down}"
      ]
     },
     "execution_count": 4,
     "metadata": {},
     "output_type": "execute_result"
    }
   ],
   "source": [
    "degs = {}\n",
    "for k, tissue in zip(data_keys, ['skin', 'colon']):\n",
    "    deg_df = df.loc[df.Tissue == tissue, :]\n",
    "    deg_df.set_index(\n",
    "        'Gene',\n",
    "        inplace = True\n",
    "    )\n",
    "    degs[k] = deg_df\n",
    "    \n",
    "degs"
   ]
  },
  {
   "cell_type": "code",
   "execution_count": 9,
   "id": "a2942f01-6176-440a-adca-b37362637116",
   "metadata": {},
   "outputs": [],
   "source": [
    "palette = sns.color_palette('Set2', len(df.Group.unique()))\n",
    "gene_group_palette = {\n",
    "    k: palette[i] for i, k in enumerate(df.Group.unique())\n",
    "}"
   ]
  },
  {
   "cell_type": "code",
   "execution_count": 15,
   "id": "2788bf31-bb99-4008-b201-994698a19b77",
   "metadata": {},
   "outputs": [
    {
     "name": "stdout",
     "output_type": "stream",
     "text": [
      "WARNING: adata.X seems to be already log-transformed.\n"
     ]
    }
   ],
   "source": [
    "for k, adata in adatas.items():\n",
    "    deg_df = degs[k]\n",
    "    adata.X = adata.layers['counts'].copy()\n",
    "    sc.pp.normalize_total(adata, target_sum = 1e4)\n",
    "    sc.pp.log1p(adata)\n",
    "    sc.pp.scale(adata)\n",
    "    \n",
    "    bdata = adata[:, deg_df.index]\n",
    "    bdata.var = bdata.var.merge(\n",
    "        deg_df,\n",
    "        how = 'left',\n",
    "        left_index = True,\n",
    "        right_index = True\n",
    "    )\n",
    "\n",
    "    fig, axs, x_group_info, y_group_info = plot.evaluate.grouped_heatmap(\n",
    "        bdata,\n",
    "        ['condition'],\n",
    "        ['regulation', 'Group'],\n",
    "        {'condition': 'husl'},\n",
    "        {'regulation': 'husl', 'Group': gene_group_palette},\n",
    "        cmap,\n",
    "        vmin = -1,\n",
    "        vmax = 1,\n",
    "        show_var_labels = False,\n",
    "        figwidth = 7,\n",
    "        figheight = 10\n",
    "    )\n",
    "    fig.savefig(\n",
    "        f'../plots/{k}.deg.heatmap.pdf'\n",
    "    )"
   ]
  },
  {
   "cell_type": "markdown",
   "id": "7cc53ee2-39e5-4b94-b62c-0f31644eb8c4",
   "metadata": {},
   "source": [
    "## Differential abundance"
   ]
  },
  {
   "cell_type": "code",
   "execution_count": 2,
   "id": "5fee6676-bb34-41ff-a7e8-ac31e7513857",
   "metadata": {},
   "outputs": [
    {
     "data": {
      "text/plain": [
       "{'tcells.tissue.scps': AnnData object with n_obs × n_vars = 62432 × 20912\n",
       "     obs: 'sample_id', 'patient_id', 'status', 'tissue', 'cell_fraction', 'doublet', 'doublet_score', 'nFeature_RNA', 'nCount_RNA', 'percent_mt', 'percent_ribo', 'qc_pass', '_scvi_batch', '_scvi_labels', 'leiden_scvi_0.1', 'coarse_cell_types', 'condition', 'nhood_ixs_random', 'nhood_ixs_refined', 'nhood_kth_distance'\n",
       "     uns: '_scvi_manager_uuid', '_scvi_uuid', 'neighbors', 'nhood_adata', 'umap'\n",
       "     obsm: 'X_scvi', 'X_umap', 'nhoods'\n",
       "     layers: 'counts'\n",
       "     obsp: 'connectivities', 'distances',\n",
       " 'tcells.tissue.uc': AnnData object with n_obs × n_vars = 46867 × 18436\n",
       "     obs: 'sample_id', 'patient_id', 'status', 'tissue', 'cell_fraction', 'doublet', 'doublet_score', 'nFeature_RNA', 'nCount_RNA', 'percent_mt', 'percent_ribo', 'qc_pass', '_scvi_batch', '_scvi_labels', 'leiden_scvi_0.4', 'coarse_cell_types', 'condition', 'nhood_ixs_random', 'nhood_ixs_refined', 'nhood_kth_distance'\n",
       "     uns: '_scvi_manager_uuid', '_scvi_uuid', 'neighbors', 'nhood_adata', 'umap'\n",
       "     obsm: 'X_scvi', 'X_umap', 'nhoods'\n",
       "     layers: 'counts'\n",
       "     obsp: 'connectivities', 'distances',\n",
       " 'tcells.tissue.ad': AnnData object with n_obs × n_vars = 61764 × 21750\n",
       "     obs: 'sample_id', 'patient_id', 'status', 'tissue', 'cell_fraction', 'doublet', 'doublet_score', 'nFeature_RNA', 'nCount_RNA', 'percent_mt', 'percent_ribo', 'qc_pass', '_scvi_batch', '_scvi_labels', 'leiden_scvi_0.25', 'coarse_cell_types', 'condition', 'nhood_ixs_random', 'nhood_ixs_refined', 'nhood_kth_distance'\n",
       "     uns: '_scvi_manager_uuid', '_scvi_uuid', 'neighbors', 'nhood_adata', 'umap'\n",
       "     obsm: 'X_scvi', 'X_umap', 'nhoods'\n",
       "     layers: 'counts'\n",
       "     obsp: 'connectivities', 'distances',\n",
       " 'tcells.pbmc.scps': AnnData object with n_obs × n_vars = 18557 × 15998\n",
       "     obs: 'sample_id', 'patient_id', 'status', 'tissue', 'cell_fraction', 'doublet', 'doublet_score', 'nFeature_RNA', 'nCount_RNA', 'percent_mt', 'percent_ribo', 'qc_pass', '_scvi_batch', '_scvi_labels', 'leiden_scvi_0.3', 'coarse_cell_types', 'condition', 'nhood_ixs_random', 'nhood_ixs_refined', 'nhood_kth_distance'\n",
       "     uns: '_scvi_manager_uuid', '_scvi_uuid', 'neighbors', 'nhood_adata', 'umap'\n",
       "     obsm: 'X_scvi', 'X_umap', 'nhoods'\n",
       "     layers: 'counts'\n",
       "     obsp: 'connectivities', 'distances',\n",
       " 'tregs.tissue.scps': AnnData object with n_obs × n_vars = 9773 × 20912\n",
       "     obs: 'sample_id', 'patient_id', 'status', 'tissue', 'cell_fraction', 'doublet', 'doublet_score', 'nFeature_RNA', 'nCount_RNA', 'percent_mt', 'percent_ribo', 'qc_pass', '_scvi_batch', '_scvi_labels', 'leiden_scvi_0.1', 'coarse_cell_types', 'leiden_scvi_0.4', 'dataset', 'sat1_status', 'clustering', 'sat1_status_majority_vote', 'condition', 'nhood_ixs_random', 'nhood_ixs_refined', 'nhood_kth_distance'\n",
       "     uns: '_scvi_manager_uuid', '_scvi_uuid', 'leiden', 'log1p', 'neighbors', 'nhood_adata', 'umap'\n",
       "     obsm: 'X_scvi', 'X_umap', 'nhoods'\n",
       "     layers: 'counts'\n",
       "     obsp: 'connectivities', 'distances'}"
      ]
     },
     "execution_count": 2,
     "metadata": {},
     "output_type": "execute_result"
    }
   ],
   "source": [
    "data_keys = [\n",
    "    'tcells.tissue.scps',\n",
    "    'tcells.tissue.uc',\n",
    "    'tcells.tissue.ad',\n",
    "    'tcells.pbmc.scps',\n",
    "    'tregs.tissue.scps'\n",
    "]\n",
    "adatas = {\n",
    "    k: sc.read_h5ad(f'../data/{k}.integrated.milo.h5ad') for k in data_keys\n",
    "}\n",
    "adatas"
   ]
  },
  {
   "cell_type": "code",
   "execution_count": 3,
   "id": "9357b9bb-e060-477c-a7da-d9be53d6e645",
   "metadata": {},
   "outputs": [],
   "source": [
    "os.environ['R_HOME'] = '/users/daniel.malzl/.conda/envs/scpython/lib/R'\n",
    "os.environ['TZ'] = 'Europe/Vienna' # needs to be set in some cases to avoid tzlocal error"
   ]
  },
  {
   "cell_type": "code",
   "execution_count": 6,
   "id": "b9f51cbe-f22f-4aa3-a550-bb766dff5bb1",
   "metadata": {},
   "outputs": [
    {
     "name": "stderr",
     "output_type": "stream",
     "text": [
      "/users/daniel.malzl/.local/lib/python3.9/site-packages/anndata/_core/anndata.py:1301: ImplicitModificationWarning: Trying to modify attribute `.obs` of view, initializing view as actual.\n",
      "  df[key] = c\n",
      "/groups/pavri/bioinfo/daniel/Neuwirth_Malzl_et_al_2024/notebooks/sctools/plot/evaluate.py:94: UserWarning: set_ticklabels() should only be used with a fixed number of ticks, i.e. after set_ticks() or using a FixedLocator.\n",
      "  ax.set_yticklabels(\n",
      "/users/daniel.malzl/.local/lib/python3.9/site-packages/anndata/_core/anndata.py:1301: ImplicitModificationWarning: Trying to modify attribute `.obs` of view, initializing view as actual.\n",
      "  df[key] = c\n",
      "/groups/pavri/bioinfo/daniel/Neuwirth_Malzl_et_al_2024/notebooks/sctools/plot/evaluate.py:94: UserWarning: set_ticklabels() should only be used with a fixed number of ticks, i.e. after set_ticks() or using a FixedLocator.\n",
      "  ax.set_yticklabels(\n",
      "/users/daniel.malzl/.local/lib/python3.9/site-packages/anndata/_core/anndata.py:1301: ImplicitModificationWarning: Trying to modify attribute `.obs` of view, initializing view as actual.\n",
      "  df[key] = c\n",
      "/groups/pavri/bioinfo/daniel/Neuwirth_Malzl_et_al_2024/notebooks/sctools/plot/evaluate.py:94: UserWarning: set_ticklabels() should only be used with a fixed number of ticks, i.e. after set_ticks() or using a FixedLocator.\n",
      "  ax.set_yticklabels(\n",
      "/users/daniel.malzl/.local/lib/python3.9/site-packages/anndata/_core/anndata.py:1301: ImplicitModificationWarning: Trying to modify attribute `.obs` of view, initializing view as actual.\n",
      "  df[key] = c\n",
      "/groups/pavri/bioinfo/daniel/Neuwirth_Malzl_et_al_2024/notebooks/sctools/plot/evaluate.py:94: UserWarning: set_ticklabels() should only be used with a fixed number of ticks, i.e. after set_ticks() or using a FixedLocator.\n",
      "  ax.set_yticklabels(\n",
      "/tmp/ipykernel_70282/169129970.py:11: RuntimeWarning: More than 20 figures have been opened. Figures created through the pyplot interface (`matplotlib.pyplot.figure`) are retained until explicitly closed and may consume too much memory. (To control this warning, see the rcParam `figure.max_open_warning`). Consider using `matplotlib.pyplot.close()`.\n",
      "  fig, ax = plt.subplots()\n",
      "/users/daniel.malzl/.local/lib/python3.9/site-packages/anndata/_core/anndata.py:1301: ImplicitModificationWarning: Trying to modify attribute `.obs` of view, initializing view as actual.\n",
      "  df[key] = c\n",
      "/groups/pavri/bioinfo/daniel/Neuwirth_Malzl_et_al_2024/notebooks/sctools/plot/evaluate.py:94: UserWarning: set_ticklabels() should only be used with a fixed number of ticks, i.e. after set_ticks() or using a FixedLocator.\n",
      "  ax.set_yticklabels(\n"
     ]
    }
   ],
   "source": [
    "import milopy\n",
    "\n",
    "min_sizes = {\n",
    "    'tcells.tissue.scps': 5,\n",
    "    'tcells.tissue.uc': 5,\n",
    "    'tcells.tissue.ad': 5,\n",
    "    'tcells.pbmc.scps': 5,\n",
    "    'tregs.tissue.scps': 20\n",
    "}\n",
    "for k, adata in adatas.items():\n",
    "    fig, ax = plt.subplots()\n",
    "    milopy.plot.plot_nhood_graph(\n",
    "        adata, \n",
    "        alpha = 0.25, \n",
    "        min_size = min_sizes[k], \n",
    "        ax = ax, \n",
    "        show = False,\n",
    "        edgecolor = 'k',\n",
    "        linewidths = 0.5\n",
    "    )\n",
    "    fig.set_figwidth(5.5)\n",
    "    fig.set_figheight(5)\n",
    "    fig.tight_layout()\n",
    "    fig.savefig(f'../plots/{k}.milo.DA.pdf')\n",
    "    \n",
    "    fig, ax = plt.subplots()\n",
    "    plot.evaluate.plot_nhood_violin(\n",
    "        adata,\n",
    "        0.25,\n",
    "        ax = ax\n",
    "    )\n",
    "    fig.set_figwidth(6)\n",
    "    fig.set_figheight(5)\n",
    "    fig.tight_layout()\n",
    "    fig.savefig(f'../plots/{k}.milo.violin.pdf')"
   ]
  },
  {
   "cell_type": "code",
   "execution_count": null,
   "id": "872fe1fd-4079-4c57-9dfd-7773be15bfe0",
   "metadata": {},
   "outputs": [],
   "source": []
  }
 ],
 "metadata": {
  "kernelspec": {
   "display_name": "scpython",
   "language": "python",
   "name": "scpython"
  },
  "language_info": {
   "codemirror_mode": {
    "name": "ipython",
    "version": 3
   },
   "file_extension": ".py",
   "mimetype": "text/x-python",
   "name": "python",
   "nbconvert_exporter": "python",
   "pygments_lexer": "ipython3",
   "version": "3.9.4"
  }
 },
 "nbformat": 4,
 "nbformat_minor": 5
}
