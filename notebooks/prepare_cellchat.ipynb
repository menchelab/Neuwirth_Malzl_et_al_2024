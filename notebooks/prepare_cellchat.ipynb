{
 "cells": [
  {
   "cell_type": "code",
   "execution_count": 2,
   "id": "smoking-essence",
   "metadata": {},
   "outputs": [
    {
     "name": "stderr",
     "output_type": "stream",
     "text": [
      "Global seed set to 0\n"
     ]
    }
   ],
   "source": [
    "%matplotlib inline\n",
    "import scanpy as sc\n",
    "import scvi\n",
    "import matplotlib.pyplot as plt\n",
    "import pandas as pd\n",
    "from sctools import integrate, plot, io"
   ]
  },
  {
   "cell_type": "markdown",
   "id": "f2b80a1c-3379-4447-9352-2b29ad187c23",
   "metadata": {},
   "source": [
    "# Annotate celltypes with celltypist"
   ]
  },
  {
   "cell_type": "code",
   "execution_count": 3,
   "id": "bfaf1d9c-fe64-4846-b3fa-e2ce85efdd71",
   "metadata": {},
   "outputs": [
    {
     "data": {
      "text/plain": [
       "AnnData object with n_obs × n_vars = 332546 × 4000\n",
       "    obs: 'sample_id', 'patient_id', 'status', 'tissue', 'cell_fraction', 'doublet', 'doublet_score', 'nFeature_RNA', 'nCount_RNA', 'percent_mt', 'percent_ribo', 'qc_pass', '_scvi_batch', '_scvi_labels', 'leiden_scvi_0.1', 'coarse_cell_types'\n",
       "    var: 'highly_variable', 'highly_variable_rank', 'means', 'variances', 'variances_norm'\n",
       "    uns: '_scvi_manager_uuid', '_scvi_uuid', 'coarse_cell_types_colors', 'hvg', 'leiden', 'leiden_scvi_0.1_colors', 'neighbors', 'umap'\n",
       "    obsm: 'X_scvi', 'X_umap'\n",
       "    layers: 'counts'\n",
       "    obsp: 'connectivities', 'distances'"
      ]
     },
     "execution_count": 3,
     "metadata": {},
     "output_type": "execute_result"
    }
   ],
   "source": [
    "adata = sc.read_h5ad(\n",
    "    '../data/skin_inflammatory_disease.full.integrated.clustered.h5ad'\n",
    ")\n",
    "adata"
   ]
  },
  {
   "cell_type": "code",
   "execution_count": null,
   "id": "bdd2d452-020b-41e8-82b3-4556941656b3",
   "metadata": {},
   "outputs": [],
   "source": [
    "import celltypist as ct\n",
    "model = ct.models.Model.load(model = 'Adult_Human_Skin.pkl')\n",
    "model"
   ]
  },
  {
   "cell_type": "code",
   "execution_count": null,
   "id": "231db31e-f751-47a8-99e1-6a111947d6cd",
   "metadata": {},
   "outputs": [],
   "source": [
    "sc.pp.normalize_total(\n",
    "    adata,\n",
    "    target_sum = 1e4\n",
    ")\n",
    "sc.pp.log1p(adata)\n",
    "predictions = ct.annotate(\n",
    "    adata, \n",
    "    model = 'Adult_Human_Skin.pkl', \n",
    "    majority_voting = True,\n",
    "    over_clustering = 'leiden_scvi_0.1'\n",
    ")"
   ]
  },
  {
   "cell_type": "code",
   "execution_count": null,
   "id": "9e76db82-bac6-4b6d-9005-01a9d9b5caf6",
   "metadata": {},
   "outputs": [],
   "source": [
    "bdata = predictions.to_adata()\n",
    "sc.pl.umap(\n",
    "    bdata,\n",
    "    color = 'majority_voting'\n",
    ")"
   ]
  },
  {
   "cell_type": "code",
   "execution_count": 4,
   "id": "f99caff0-8730-4728-bdd8-e05b09d9ade6",
   "metadata": {},
   "outputs": [],
   "source": [
    "adata.write('../data/inflammatory_disease.skin.coarse.h5ad')"
   ]
  }
 ],
 "metadata": {
  "kernelspec": {
   "display_name": "scpython",
   "language": "python",
   "name": "scpython"
  },
  "language_info": {
   "codemirror_mode": {
    "name": "ipython",
    "version": 3
   },
   "file_extension": ".py",
   "mimetype": "text/x-python",
   "name": "python",
   "nbconvert_exporter": "python",
   "pygments_lexer": "ipython3",
   "version": "3.9.4"
  }
 },
 "nbformat": 4,
 "nbformat_minor": 5
}
