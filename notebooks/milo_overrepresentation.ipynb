{
 "cells": [
  {
   "cell_type": "code",
   "execution_count": 1,
   "id": "smoking-essence",
   "metadata": {},
   "outputs": [
    {
     "name": "stderr",
     "output_type": "stream",
     "text": [
      "Global seed set to 0\n"
     ]
    }
   ],
   "source": [
    "import scanpy as sc\n",
    "import anndata as ad\n",
    "import matplotlib.pyplot as plt\n",
    "import numpy as np\n",
    "import pandas as pd\n",
    "from sctools import integrate, plot, io"
   ]
  },
  {
   "cell_type": "markdown",
   "id": "f9896b60-fa92-4366-9002-e48d190f9db0",
   "metadata": {},
   "source": [
    "## Cell abundance analysis with Milo"
   ]
  },
  {
   "cell_type": "code",
   "execution_count": 2,
   "id": "91f15d67-75b7-416a-badd-bbcb724c217c",
   "metadata": {},
   "outputs": [],
   "source": [
    "# load data\n",
    "adatas = {}\n",
    "file_names = {\n",
    "    'tcells.tissue.scps': '../data/tcells.tissue.scps.integrated.h5ad',\n",
    "    'tcells.tissue.ad': '../data/tcells.tissue.ad.integrated.h5ad',\n",
    "    'tcells.tissue.uc': '../data/tcells.tissue.uc.integrated.h5ad',\n",
    "    'tcells.pbmc.scps': '../data/tcells.pbmc.scps.integrated.h5ad',\n",
    "    'tregs.tissue.scps': '../data/tregs.tissue.scps.integrated.annotated.h5ad'\n",
    "}\n",
    "for key, file_name in file_names.items():\n",
    "    adatas[key] = sc.read_h5ad(file_name)"
   ]
  },
  {
   "cell_type": "code",
   "execution_count": 3,
   "id": "3f6cc9e5-ed01-44e3-9322-03184a594af1",
   "metadata": {},
   "outputs": [],
   "source": [
    "import os\n",
    "os.environ['R_HOME'] = '/users/daniel.malzl/.conda/envs/scpython/lib/R'\n",
    "os.environ['TZ'] = 'Europe/Vienna' # needs to be set in some cases to avoid tzlocal error"
   ]
  },
  {
   "cell_type": "code",
   "execution_count": 4,
   "id": "fcff11d3-c15c-4fb4-9796-7e83b5b559f5",
   "metadata": {},
   "outputs": [],
   "source": [
    "# needed to copy this from milo due to some weird problem with pandas\n",
    "# that only seemed to appear when executing milopy.utils.annotate_nhoods all of a sudden\n",
    "import scipy\n",
    "\n",
    "\n",
    "def annotate_nhoods(adata, anno_col):\n",
    "    try:\n",
    "        nhood_adata = adata.uns[\"nhood_adata\"]\n",
    "    except KeyError:\n",
    "        raise KeyError(\n",
    "            'Cannot find \"nhood_adata\" slot in adata.uns -- please run milopy.make_nhoods_adata(adata)'\n",
    "        )\n",
    "\n",
    "    # Check value is not numeric\n",
    "    if pd.api.types.is_numeric_dtype(adata.obs[anno_col]):\n",
    "        raise ValueError(\n",
    "            'adata.obs[anno_col] is not of categorical type - please use milopy.utils.annotate_nhoods_continuous for continuous variables')\n",
    "\n",
    "    anno_dummies = pd.get_dummies(adata.obs[anno_col])\n",
    "    anno_count = adata.obsm[\"nhoods\"].T.dot(\n",
    "        scipy.sparse.csr_matrix(anno_dummies.values))\n",
    "    try:\n",
    "        anno_frac = (anno_count/anno_count.sum(1)).toarray()\n",
    "    except AttributeError: # for old version of python\n",
    "        anno_frac = np.array(anno_count/anno_count.sum(1))\n",
    "\n",
    "    anno_frac = pd.DataFrame(anno_frac,\n",
    "                             columns=anno_dummies.columns,\n",
    "                             index=adata.uns[\"nhood_adata\"].obs_names\n",
    "                             )\n",
    "    adata.uns[\"nhood_adata\"].obsm[\"frac_annotation\"] = anno_frac.values\n",
    "    # Turn this to list so that writing out h5ad works\n",
    "    adata.uns[\"nhood_adata\"].uns[\"annotation_labels\"] = anno_frac.columns.to_list()\n",
    "    adata.uns[\"nhood_adata\"].uns[\"annotation_obs\"] = anno_col\n",
    "    adata.uns[\"nhood_adata\"].obs[\"nhood_annotation\"] = anno_frac.idxmax(1)\n",
    "    adata.uns[\"nhood_adata\"].obs[\"nhood_annotation_frac\"] = anno_frac.max(1)"
   ]
  },
  {
   "cell_type": "code",
   "execution_count": 5,
   "id": "9e31ed6c-7cbe-48fb-bbf9-49f7f1dcd822",
   "metadata": {},
   "outputs": [
    {
     "name": "stderr",
     "output_type": "stream",
     "text": [
      "/tmp/ipykernel_10637/458100557.py:23: DeprecationWarning: In a future version, `df.iloc[:, i] = newvals` will attempt to set the values inplace instead of always setting a new array. To retain the old behavior, use either `df[df.columns[i]] = newvals` or, if columns are non-unique, `df.isetitem(i, newvals)`\n",
      "  adata.obs.loc[:, 'condition'] = pd.Categorical(\n",
      "/users/daniel.malzl/.local/lib/python3.9/site-packages/anndata/_core/anndata.py:183: ImplicitModificationWarning: Transforming to str index.\n",
      "  warnings.warn(\"Transforming to str index.\", ImplicitModificationWarning)\n",
      "/users/daniel.malzl/.conda/envs/scpython/lib/python3.9/site-packages/rpy2/robjects/vectors.py:1017: UserWarning: R object inheriting from \"POSIXct\" but without attribute \"tzone\".\n",
      "  warnings.warn('R object inheriting from \"POSIXct\" but without '\n",
      "/users/daniel.malzl/.conda/envs/scpython/lib/python3.9/site-packages/milopy/core.py:285: FutureWarning: In a future version of pandas all arguments of concat except for the argument 'objs' will be keyword-only.\n",
      "  nhood_adata.obs = pd.concat([nhood_adata.obs, res], 1)\n",
      "/tmp/ipykernel_10637/458100557.py:23: DeprecationWarning: In a future version, `df.iloc[:, i] = newvals` will attempt to set the values inplace instead of always setting a new array. To retain the old behavior, use either `df[df.columns[i]] = newvals` or, if columns are non-unique, `df.isetitem(i, newvals)`\n",
      "  adata.obs.loc[:, 'condition'] = pd.Categorical(\n",
      "/users/daniel.malzl/.local/lib/python3.9/site-packages/anndata/_core/anndata.py:183: ImplicitModificationWarning: Transforming to str index.\n",
      "  warnings.warn(\"Transforming to str index.\", ImplicitModificationWarning)\n",
      "/users/daniel.malzl/.conda/envs/scpython/lib/python3.9/site-packages/milopy/core.py:285: FutureWarning: In a future version of pandas all arguments of concat except for the argument 'objs' will be keyword-only.\n",
      "  nhood_adata.obs = pd.concat([nhood_adata.obs, res], 1)\n",
      "/tmp/ipykernel_10637/458100557.py:23: DeprecationWarning: In a future version, `df.iloc[:, i] = newvals` will attempt to set the values inplace instead of always setting a new array. To retain the old behavior, use either `df[df.columns[i]] = newvals` or, if columns are non-unique, `df.isetitem(i, newvals)`\n",
      "  adata.obs.loc[:, 'condition'] = pd.Categorical(\n",
      "/users/daniel.malzl/.local/lib/python3.9/site-packages/anndata/_core/anndata.py:183: ImplicitModificationWarning: Transforming to str index.\n",
      "  warnings.warn(\"Transforming to str index.\", ImplicitModificationWarning)\n",
      "/users/daniel.malzl/.conda/envs/scpython/lib/python3.9/site-packages/milopy/core.py:285: FutureWarning: In a future version of pandas all arguments of concat except for the argument 'objs' will be keyword-only.\n",
      "  nhood_adata.obs = pd.concat([nhood_adata.obs, res], 1)\n",
      "/tmp/ipykernel_10637/458100557.py:23: DeprecationWarning: In a future version, `df.iloc[:, i] = newvals` will attempt to set the values inplace instead of always setting a new array. To retain the old behavior, use either `df[df.columns[i]] = newvals` or, if columns are non-unique, `df.isetitem(i, newvals)`\n",
      "  adata.obs.loc[:, 'condition'] = pd.Categorical(\n",
      "/users/daniel.malzl/.local/lib/python3.9/site-packages/anndata/_core/anndata.py:183: ImplicitModificationWarning: Transforming to str index.\n",
      "  warnings.warn(\"Transforming to str index.\", ImplicitModificationWarning)\n",
      "/users/daniel.malzl/.conda/envs/scpython/lib/python3.9/site-packages/milopy/core.py:285: FutureWarning: In a future version of pandas all arguments of concat except for the argument 'objs' will be keyword-only.\n",
      "  nhood_adata.obs = pd.concat([nhood_adata.obs, res], 1)\n",
      "/tmp/ipykernel_10637/458100557.py:23: DeprecationWarning: In a future version, `df.iloc[:, i] = newvals` will attempt to set the values inplace instead of always setting a new array. To retain the old behavior, use either `df[df.columns[i]] = newvals` or, if columns are non-unique, `df.isetitem(i, newvals)`\n",
      "  adata.obs.loc[:, 'condition'] = pd.Categorical(\n",
      "/users/daniel.malzl/.local/lib/python3.9/site-packages/anndata/_core/anndata.py:183: ImplicitModificationWarning: Transforming to str index.\n",
      "  warnings.warn(\"Transforming to str index.\", ImplicitModificationWarning)\n",
      "/users/daniel.malzl/.conda/envs/scpython/lib/python3.9/site-packages/milopy/core.py:285: FutureWarning: In a future version of pandas all arguments of concat except for the argument 'objs' will be keyword-only.\n",
      "  nhood_adata.obs = pd.concat([nhood_adata.obs, res], 1)\n"
     ]
    }
   ],
   "source": [
    "import milopy\n",
    "import milopy.core as milo\n",
    "\n",
    "control_conditions = {\n",
    "    'tcells.tissue.scps': 'normal', \n",
    "    'tcells.tissue.ad': 'normal', \n",
    "    'tcells.tissue.uc': 'control', \n",
    "    'tcells.pbmc.scps': 'normal',\n",
    "    'tregs.tissue.scps': 'normal'\n",
    "}\n",
    "nhood_annotation_columns = {\n",
    "    'tcells.tissue.scps': 'condition', \n",
    "    'tcells.tissue.ad': 'condition', \n",
    "    'tcells.tissue.uc': 'condition', \n",
    "    'tcells.pbmc.scps': 'condition',\n",
    "    'tregs.tissue.scps': 'sat1_status_majority_vote'\n",
    "}\n",
    "for k, adata in adatas.items():\n",
    "    adata.obs['condition'] = 'healthy'\n",
    "    adata.obs.loc[adata.obs.status != control_conditions[k], 'condition'] = 'disease'\n",
    "    # needs to be done in order to enforce disease vs healthy comparison\n",
    "    # otherwise will take alphabetical order and do healthy vs disease\n",
    "    adata.obs.loc[:, 'condition'] = pd.Categorical(\n",
    "        adata.obs.condition,\n",
    "        categories = ['healthy', 'disease']\n",
    "    )\n",
    "    milo.make_nhoods(adata)\n",
    "    milo.count_nhoods(adata, sample_col = 'sample_id')\n",
    "    milo.DA_nhoods(adata, design=\"~condition\")\n",
    "    \n",
    "    anno_col = nhood_annotation_columns[k]\n",
    "    annotate_nhoods(adata, anno_col = anno_col)"
   ]
  },
  {
   "cell_type": "code",
   "execution_count": 6,
   "id": "631d855b-5016-49b0-9696-12f8637f9e00",
   "metadata": {},
   "outputs": [
    {
     "name": "stderr",
     "output_type": "stream",
     "text": [
      "/users/daniel.malzl/.local/lib/python3.9/site-packages/anndata/_core/anndata.py:1301: ImplicitModificationWarning: Trying to modify attribute `.obs` of view, initializing view as actual.\n",
      "  df[key] = c\n",
      "/groups/pavri/bioinfo/daniel/Neuwirth_Malzl_et_al_2024/notebooks/sctools/plot/evaluate.py:90: UserWarning: set_ticklabels() should only be used with a fixed number of ticks, i.e. after set_ticks() or using a FixedLocator.\n",
      "  ax.set_yticklabels(\n",
      "/users/daniel.malzl/.local/lib/python3.9/site-packages/anndata/_core/anndata.py:1301: ImplicitModificationWarning: Trying to modify attribute `.obs` of view, initializing view as actual.\n",
      "  df[key] = c\n",
      "/groups/pavri/bioinfo/daniel/Neuwirth_Malzl_et_al_2024/notebooks/sctools/plot/evaluate.py:90: UserWarning: set_ticklabels() should only be used with a fixed number of ticks, i.e. after set_ticks() or using a FixedLocator.\n",
      "  ax.set_yticklabels(\n",
      "/users/daniel.malzl/.local/lib/python3.9/site-packages/anndata/_core/anndata.py:1301: ImplicitModificationWarning: Trying to modify attribute `.obs` of view, initializing view as actual.\n",
      "  df[key] = c\n",
      "/groups/pavri/bioinfo/daniel/Neuwirth_Malzl_et_al_2024/notebooks/sctools/plot/evaluate.py:90: UserWarning: set_ticklabels() should only be used with a fixed number of ticks, i.e. after set_ticks() or using a FixedLocator.\n",
      "  ax.set_yticklabels(\n",
      "/users/daniel.malzl/.local/lib/python3.9/site-packages/anndata/_core/anndata.py:1301: ImplicitModificationWarning: Trying to modify attribute `.obs` of view, initializing view as actual.\n",
      "  df[key] = c\n",
      "/groups/pavri/bioinfo/daniel/Neuwirth_Malzl_et_al_2024/notebooks/sctools/plot/evaluate.py:90: UserWarning: set_ticklabels() should only be used with a fixed number of ticks, i.e. after set_ticks() or using a FixedLocator.\n",
      "  ax.set_yticklabels(\n",
      "/users/daniel.malzl/.local/lib/python3.9/site-packages/anndata/_core/anndata.py:1301: ImplicitModificationWarning: Trying to modify attribute `.obs` of view, initializing view as actual.\n",
      "  df[key] = c\n",
      "/groups/pavri/bioinfo/daniel/Neuwirth_Malzl_et_al_2024/notebooks/sctools/plot/evaluate.py:90: UserWarning: set_ticklabels() should only be used with a fixed number of ticks, i.e. after set_ticks() or using a FixedLocator.\n",
      "  ax.set_yticklabels(\n"
     ]
    }
   ],
   "source": [
    "for i, (k, adata) in enumerate(adatas.items()):\n",
    "    anno_col = nhood_annotation_columns[k]\n",
    "    fig, axs = plt.subplots(1, 4)\n",
    "    sc.pl.umap(\n",
    "        adata,\n",
    "        color = 'FOXP3',\n",
    "        frameon = False,\n",
    "        show = False,\n",
    "        size = 50,\n",
    "        ax = axs[0],\n",
    "        vmax = 5\n",
    "    )\n",
    "    \n",
    "    sc.pl.umap(\n",
    "        adata,\n",
    "        color = 'SAT1',\n",
    "        frameon = False,\n",
    "        show = False,\n",
    "        size = 50,\n",
    "        ax = axs[1],\n",
    "        vmax = 20\n",
    "    )\n",
    "    \n",
    "    milopy.utils.build_nhood_graph(adata)\n",
    "    milopy.plot.plot_nhood_graph(\n",
    "        adata, \n",
    "        alpha=0.1, \n",
    "        min_size=5, \n",
    "        ax = axs[2], \n",
    "        show = False\n",
    "    )\n",
    "    \n",
    "    plot.evaluate.plot_nhood_violin(\n",
    "        adata,\n",
    "        0.25,\n",
    "        ax = axs[-1]\n",
    "    )\n",
    "    \n",
    "    for ax in axs:\n",
    "        ax.set_title(ax.get_title(), fontsize = 20)\n",
    "        \n",
    "    for ax in fig.axes[-2:]:\n",
    "        ax.tick_params(\n",
    "            labelsize = 15\n",
    "        )\n",
    "    fig.set_figheight(5)\n",
    "    fig.set_figwidth(20)\n",
    "    fig.tight_layout()\n",
    "    fig.savefig(f'../plots/{k}.milo.da.png')"
   ]
  },
  {
   "cell_type": "code",
   "execution_count": null,
   "id": "890e2046-8fca-4bf9-9f48-3b3584a626b5",
   "metadata": {},
   "outputs": [],
   "source": [
    "for k, adata in adatas.items():\n",
    "    adata.write(\n",
    "        f'../data/{k}.integrated.milo.h5ad'\n",
    "    )"
   ]
  },
  {
   "cell_type": "code",
   "execution_count": null,
   "id": "f81ee607-62cf-4d62-96c7-90dbe8608830",
   "metadata": {},
   "outputs": [],
   "source": []
  }
 ],
 "metadata": {
  "kernelspec": {
   "display_name": "scpython",
   "language": "python",
   "name": "scpython"
  },
  "language_info": {
   "codemirror_mode": {
    "name": "ipython",
    "version": 3
   },
   "file_extension": ".py",
   "mimetype": "text/x-python",
   "name": "python",
   "nbconvert_exporter": "python",
   "pygments_lexer": "ipython3",
   "version": "3.9.4"
  }
 },
 "nbformat": 4,
 "nbformat_minor": 5
}
